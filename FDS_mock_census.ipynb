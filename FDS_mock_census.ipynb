{
 "cells": [
  {
   "cell_type": "markdown",
   "id": "023c6592",
   "metadata": {},
   "source": [
    "## Assignment – 771766 Fundamentals of Data Science Project"
   ]
  },
  {
   "cell_type": "markdown",
   "id": "3635ff2a",
   "metadata": {},
   "source": [
    "## STUDENT ID : 202250541"
   ]
  },
  {
   "cell_type": "markdown",
   "id": "eb9edcde",
   "metadata": {},
   "source": [
    "## MOCK CENSUS"
   ]
  },
  {
   "cell_type": "markdown",
   "id": "69eb4dec",
   "metadata": {},
   "source": [
    "### Importing my libraries"
   ]
  },
  {
   "cell_type": "code",
   "execution_count": 1,
   "id": "576bce9b",
   "metadata": {},
   "outputs": [],
   "source": [
    "import pandas as pd\n",
    "import seaborn as sns\n",
    "import numpy as np\n",
    "import matplotlib.pyplot as plt"
   ]
  },
  {
   "cell_type": "code",
   "execution_count": 2,
   "id": "07429590",
   "metadata": {},
   "outputs": [],
   "source": [
    "# Suppress warnings\n",
    "\n",
    "import warnings\n",
    "warnings.filterwarnings('ignore')"
   ]
  },
  {
   "cell_type": "markdown",
   "id": "dfa772a9",
   "metadata": {},
   "source": [
    "### Reading in my data"
   ]
  },
  {
   "cell_type": "code",
   "execution_count": 3,
   "id": "3e4d7926",
   "metadata": {},
   "outputs": [
    {
     "data": {
      "text/html": [
       "<div>\n",
       "<style scoped>\n",
       "    .dataframe tbody tr th:only-of-type {\n",
       "        vertical-align: middle;\n",
       "    }\n",
       "\n",
       "    .dataframe tbody tr th {\n",
       "        vertical-align: top;\n",
       "    }\n",
       "\n",
       "    .dataframe thead th {\n",
       "        text-align: right;\n",
       "    }\n",
       "</style>\n",
       "<table border=\"1\" class=\"dataframe\">\n",
       "  <thead>\n",
       "    <tr style=\"text-align: right;\">\n",
       "      <th></th>\n",
       "      <th>House Number</th>\n",
       "      <th>Street</th>\n",
       "      <th>First Name</th>\n",
       "      <th>Surname</th>\n",
       "      <th>Age</th>\n",
       "      <th>Relationship to Head of House</th>\n",
       "      <th>Marital Status</th>\n",
       "      <th>Gender</th>\n",
       "      <th>Occupation</th>\n",
       "      <th>Infirmity</th>\n",
       "      <th>Religion</th>\n",
       "    </tr>\n",
       "  </thead>\n",
       "  <tbody>\n",
       "    <tr>\n",
       "      <th>0</th>\n",
       "      <td>1</td>\n",
       "      <td>Rhubarb Drive</td>\n",
       "      <td>Amy</td>\n",
       "      <td>Hall</td>\n",
       "      <td>41</td>\n",
       "      <td>Head</td>\n",
       "      <td>Single</td>\n",
       "      <td>Female</td>\n",
       "      <td>Drilling engineer</td>\n",
       "      <td>NaN</td>\n",
       "      <td>Catholic</td>\n",
       "    </tr>\n",
       "    <tr>\n",
       "      <th>1</th>\n",
       "      <td>1</td>\n",
       "      <td>Rhubarb Drive</td>\n",
       "      <td>Bruce</td>\n",
       "      <td>Murphy</td>\n",
       "      <td>49</td>\n",
       "      <td>Partner</td>\n",
       "      <td>Single</td>\n",
       "      <td>Male</td>\n",
       "      <td>Scientist, research (physical sciences)</td>\n",
       "      <td>NaN</td>\n",
       "      <td>Catholic</td>\n",
       "    </tr>\n",
       "    <tr>\n",
       "      <th>2</th>\n",
       "      <td>1</td>\n",
       "      <td>Rhubarb Drive</td>\n",
       "      <td>Billy</td>\n",
       "      <td>Hall</td>\n",
       "      <td>17</td>\n",
       "      <td>Son</td>\n",
       "      <td>NaN</td>\n",
       "      <td>Male</td>\n",
       "      <td>Student</td>\n",
       "      <td>NaN</td>\n",
       "      <td>NaN</td>\n",
       "    </tr>\n",
       "    <tr>\n",
       "      <th>3</th>\n",
       "      <td>1</td>\n",
       "      <td>Rhubarb Drive</td>\n",
       "      <td>Mary</td>\n",
       "      <td>Hall</td>\n",
       "      <td>15</td>\n",
       "      <td>Daughter</td>\n",
       "      <td>NaN</td>\n",
       "      <td>Female</td>\n",
       "      <td>Student</td>\n",
       "      <td>NaN</td>\n",
       "      <td>NaN</td>\n",
       "    </tr>\n",
       "    <tr>\n",
       "      <th>4</th>\n",
       "      <td>1</td>\n",
       "      <td>Rhubarb Drive</td>\n",
       "      <td>Elliott</td>\n",
       "      <td>Hall</td>\n",
       "      <td>13</td>\n",
       "      <td>Son</td>\n",
       "      <td>NaN</td>\n",
       "      <td>Male</td>\n",
       "      <td>Student</td>\n",
       "      <td>NaN</td>\n",
       "      <td>NaN</td>\n",
       "    </tr>\n",
       "    <tr>\n",
       "      <th>...</th>\n",
       "      <td>...</td>\n",
       "      <td>...</td>\n",
       "      <td>...</td>\n",
       "      <td>...</td>\n",
       "      <td>...</td>\n",
       "      <td>...</td>\n",
       "      <td>...</td>\n",
       "      <td>...</td>\n",
       "      <td>...</td>\n",
       "      <td>...</td>\n",
       "      <td>...</td>\n",
       "    </tr>\n",
       "    <tr>\n",
       "      <th>9723</th>\n",
       "      <td>1</td>\n",
       "      <td>Taylor Barracks</td>\n",
       "      <td>Anne</td>\n",
       "      <td>Turner</td>\n",
       "      <td>42</td>\n",
       "      <td>Head</td>\n",
       "      <td>Married</td>\n",
       "      <td>Female</td>\n",
       "      <td>Operational researcher</td>\n",
       "      <td>NaN</td>\n",
       "      <td>NaN</td>\n",
       "    </tr>\n",
       "    <tr>\n",
       "      <th>9724</th>\n",
       "      <td>1</td>\n",
       "      <td>Taylor Barracks</td>\n",
       "      <td>Graham</td>\n",
       "      <td>Turner-Rose</td>\n",
       "      <td>44</td>\n",
       "      <td>Husband</td>\n",
       "      <td>Married</td>\n",
       "      <td>Male</td>\n",
       "      <td>Presenter, broadcasting</td>\n",
       "      <td>NaN</td>\n",
       "      <td>NaN</td>\n",
       "    </tr>\n",
       "    <tr>\n",
       "      <th>9725</th>\n",
       "      <td>1</td>\n",
       "      <td>Taylor Barracks</td>\n",
       "      <td>William</td>\n",
       "      <td>Turner-Rose</td>\n",
       "      <td>20</td>\n",
       "      <td>Son</td>\n",
       "      <td>Single</td>\n",
       "      <td>Male</td>\n",
       "      <td>University Student</td>\n",
       "      <td>NaN</td>\n",
       "      <td>NaN</td>\n",
       "    </tr>\n",
       "    <tr>\n",
       "      <th>9726</th>\n",
       "      <td>1</td>\n",
       "      <td>Taylor Barracks</td>\n",
       "      <td>Rita</td>\n",
       "      <td>Turner-Rose</td>\n",
       "      <td>14</td>\n",
       "      <td>Daughter</td>\n",
       "      <td>NaN</td>\n",
       "      <td>Female</td>\n",
       "      <td>Student</td>\n",
       "      <td>NaN</td>\n",
       "      <td>NaN</td>\n",
       "    </tr>\n",
       "    <tr>\n",
       "      <th>9727</th>\n",
       "      <td>1</td>\n",
       "      <td>Taylor Barracks</td>\n",
       "      <td>Terry</td>\n",
       "      <td>Turner-Rose</td>\n",
       "      <td>12</td>\n",
       "      <td>Son</td>\n",
       "      <td>NaN</td>\n",
       "      <td>Male</td>\n",
       "      <td>Student</td>\n",
       "      <td>NaN</td>\n",
       "      <td>NaN</td>\n",
       "    </tr>\n",
       "  </tbody>\n",
       "</table>\n",
       "<p>9728 rows × 11 columns</p>\n",
       "</div>"
      ],
      "text/plain": [
       "      House Number           Street First Name      Surname Age  \\\n",
       "0                1    Rhubarb Drive        Amy         Hall  41   \n",
       "1                1    Rhubarb Drive      Bruce       Murphy  49   \n",
       "2                1    Rhubarb Drive      Billy         Hall  17   \n",
       "3                1    Rhubarb Drive       Mary         Hall  15   \n",
       "4                1    Rhubarb Drive    Elliott         Hall  13   \n",
       "...            ...              ...        ...          ...  ..   \n",
       "9723             1  Taylor Barracks       Anne       Turner  42   \n",
       "9724             1  Taylor Barracks     Graham  Turner-Rose  44   \n",
       "9725             1  Taylor Barracks    William  Turner-Rose  20   \n",
       "9726             1  Taylor Barracks       Rita  Turner-Rose  14   \n",
       "9727             1  Taylor Barracks      Terry  Turner-Rose  12   \n",
       "\n",
       "     Relationship to Head of House Marital Status  Gender  \\\n",
       "0                             Head         Single  Female   \n",
       "1                          Partner         Single    Male   \n",
       "2                              Son            NaN    Male   \n",
       "3                         Daughter            NaN  Female   \n",
       "4                              Son            NaN    Male   \n",
       "...                            ...            ...     ...   \n",
       "9723                          Head        Married  Female   \n",
       "9724                       Husband        Married    Male   \n",
       "9725                           Son         Single    Male   \n",
       "9726                      Daughter            NaN  Female   \n",
       "9727                           Son            NaN    Male   \n",
       "\n",
       "                                   Occupation Infirmity  Religion  \n",
       "0                           Drilling engineer       NaN  Catholic  \n",
       "1     Scientist, research (physical sciences)       NaN  Catholic  \n",
       "2                                     Student       NaN       NaN  \n",
       "3                                     Student       NaN       NaN  \n",
       "4                                     Student       NaN       NaN  \n",
       "...                                       ...       ...       ...  \n",
       "9723                   Operational researcher       NaN       NaN  \n",
       "9724                  Presenter, broadcasting       NaN       NaN  \n",
       "9725                       University Student       NaN       NaN  \n",
       "9726                                  Student       NaN       NaN  \n",
       "9727                                  Student       NaN       NaN  \n",
       "\n",
       "[9728 rows x 11 columns]"
      ]
     },
     "execution_count": 3,
     "metadata": {},
     "output_type": "execute_result"
    }
   ],
   "source": [
    "df_mockcensus = pd.read_csv(\"census09.csv\")\n",
    "\n",
    "df_mockcensus"
   ]
  },
  {
   "cell_type": "markdown",
   "id": "cbf33ef6",
   "metadata": {},
   "source": [
    "### Data Inspection"
   ]
  },
  {
   "cell_type": "code",
   "execution_count": 4,
   "id": "ae78458f",
   "metadata": {},
   "outputs": [
    {
     "name": "stdout",
     "output_type": "stream",
     "text": [
      "<class 'pandas.core.frame.DataFrame'>\n",
      "RangeIndex: 9728 entries, 0 to 9727\n",
      "Data columns (total 11 columns):\n",
      " #   Column                         Non-Null Count  Dtype \n",
      "---  ------                         --------------  ----- \n",
      " 0   House Number                   9728 non-null   int64 \n",
      " 1   Street                         9728 non-null   object\n",
      " 2   First Name                     9728 non-null   object\n",
      " 3   Surname                        9728 non-null   object\n",
      " 4   Age                            9728 non-null   object\n",
      " 5   Relationship to Head of House  9006 non-null   object\n",
      " 6   Marital Status                 7455 non-null   object\n",
      " 7   Gender                         9728 non-null   object\n",
      " 8   Occupation                     9728 non-null   object\n",
      " 9   Infirmity                      71 non-null     object\n",
      " 10  Religion                       4167 non-null   object\n",
      "dtypes: int64(1), object(10)\n",
      "memory usage: 836.1+ KB\n"
     ]
    }
   ],
   "source": [
    "# Viewing null counts for each column in the dataframe\n",
    "\n",
    "df_mockcensus.info()"
   ]
  },
  {
   "cell_type": "markdown",
   "id": "c3c8750e",
   "metadata": {},
   "source": [
    "### Inspecting data starting from the first to the last column "
   ]
  },
  {
   "cell_type": "markdown",
   "id": "51dd49cd",
   "metadata": {},
   "source": [
    "### 1. House Number"
   ]
  },
  {
   "cell_type": "code",
   "execution_count": 5,
   "id": "fd90dd7b",
   "metadata": {},
   "outputs": [
    {
     "data": {
      "text/plain": [
       "(array([  1,   2,   3,   4,   5,   6,   7,   8,   9,  10,  11,  12,  13,\n",
       "         14,  15,  16,  17,  18,  19,  20,  21,  22,  23,  24,  25,  26,\n",
       "         27,  28,  29,  30,  31,  32,  33,  34,  35,  36,  37,  38,  39,\n",
       "         40,  41,  42,  43,  44,  45,  46,  47,  48,  49,  50,  51,  52,\n",
       "         53,  54,  55,  56,  57,  58,  59,  60,  61,  62,  63,  64,  65,\n",
       "         66,  67,  68,  69,  70,  71,  72,  73,  74,  75,  76,  77,  78,\n",
       "         79,  80,  81,  82,  83,  84,  85,  86,  87,  88,  89,  90,  91,\n",
       "         92,  93,  94,  95,  96,  97,  98,  99, 100, 101, 102, 103, 104,\n",
       "        105, 106, 107, 108, 109, 110, 111, 112, 113, 114, 115, 116, 117,\n",
       "        118, 119, 120, 121, 122, 123, 124, 125, 126, 127, 128, 129, 130,\n",
       "        131, 132, 133, 134, 135, 136, 137, 138, 139, 140, 141, 142, 143,\n",
       "        144, 145, 146, 147, 148, 149, 150, 151, 152, 153, 154, 155, 156,\n",
       "        157, 158, 159, 160, 161, 162, 163, 164, 165, 166, 167, 168, 169,\n",
       "        170, 171, 172, 173, 174, 175, 176, 177, 178, 179, 180, 181, 182,\n",
       "        183, 184, 185, 186, 187, 188, 189, 190, 191, 192, 193, 194, 195,\n",
       "        196, 197, 198, 199, 200, 201, 202, 203, 204, 205, 206, 207, 208,\n",
       "        209, 210, 211, 212, 213, 214, 215, 216, 217, 218, 219, 220, 221,\n",
       "        222, 223, 224, 225, 226, 227, 228, 229, 230]),\n",
       " 230)"
      ]
     },
     "execution_count": 5,
     "metadata": {},
     "output_type": "execute_result"
    }
   ],
   "source": [
    "# Checking for unique values in House number column\n",
    "\n",
    "df_mockcensus[\"House Number\"].unique(), df_mockcensus[\"House Number\"].nunique()"
   ]
  },
  {
   "cell_type": "code",
   "execution_count": 6,
   "id": "5176cf69",
   "metadata": {},
   "outputs": [
    {
     "data": {
      "text/html": [
       "<div>\n",
       "<style scoped>\n",
       "    .dataframe tbody tr th:only-of-type {\n",
       "        vertical-align: middle;\n",
       "    }\n",
       "\n",
       "    .dataframe tbody tr th {\n",
       "        vertical-align: top;\n",
       "    }\n",
       "\n",
       "    .dataframe thead th {\n",
       "        text-align: right;\n",
       "    }\n",
       "</style>\n",
       "<table border=\"1\" class=\"dataframe\">\n",
       "  <thead>\n",
       "    <tr style=\"text-align: right;\">\n",
       "      <th></th>\n",
       "      <th>House Number</th>\n",
       "      <th>Street</th>\n",
       "      <th>First Name</th>\n",
       "      <th>Surname</th>\n",
       "      <th>Age</th>\n",
       "      <th>Relationship to Head of House</th>\n",
       "      <th>Marital Status</th>\n",
       "      <th>Gender</th>\n",
       "      <th>Occupation</th>\n",
       "      <th>Infirmity</th>\n",
       "      <th>Religion</th>\n",
       "    </tr>\n",
       "  </thead>\n",
       "  <tbody>\n",
       "  </tbody>\n",
       "</table>\n",
       "</div>"
      ],
      "text/plain": [
       "Empty DataFrame\n",
       "Columns: [House Number, Street, First Name, Surname, Age, Relationship to Head of House, Marital Status, Gender, Occupation, Infirmity, Religion]\n",
       "Index: []"
      ]
     },
     "execution_count": 6,
     "metadata": {},
     "output_type": "execute_result"
    }
   ],
   "source": [
    "# Checking for blank input\n",
    "\n",
    "df_mockcensus[df_mockcensus['House Number'] == ' ']"
   ]
  },
  {
   "cell_type": "code",
   "execution_count": 7,
   "id": "cf1e5f07",
   "metadata": {},
   "outputs": [
    {
     "data": {
      "text/plain": [
       "House Number\n",
       "1      363\n",
       "5      271\n",
       "2      261\n",
       "3      258\n",
       "6      243\n",
       "      ... \n",
       "224      2\n",
       "220      2\n",
       "228      2\n",
       "230      2\n",
       "225      1\n",
       "Name: count, Length: 230, dtype: int64"
      ]
     },
     "execution_count": 7,
     "metadata": {},
     "output_type": "execute_result"
    }
   ],
   "source": [
    "# Checking frequency of each row \n",
    "\n",
    "df_mockcensus['House Number'].value_counts()"
   ]
  },
  {
   "cell_type": "markdown",
   "id": "ce2e33f8",
   "metadata": {},
   "source": [
    "### 2. Street"
   ]
  },
  {
   "cell_type": "code",
   "execution_count": 8,
   "id": "55bd80e4",
   "metadata": {
    "scrolled": true
   },
   "outputs": [
    {
     "data": {
      "text/plain": [
       "(array(['Rhubarb Drive', 'Moran Mission', 'Laurelline Street',\n",
       "        'Wallis Rapids', 'West Lane', 'Testamentrigg Road', 'Pisces Road',\n",
       "        'Winterbarrier Street', 'Willis Springs', 'Inner Street',\n",
       "        'Protectoratearch Road', 'Squirrel Plains', 'Richardson Street',\n",
       "        'Cancer Lane', 'Armagh Crescent', 'Mitchell Loaf', 'Tiger Point',\n",
       "        'Mill Drive', 'Wright Common', 'Love Square', 'Webb Parkway',\n",
       "        'Chelmsfordshot Street', 'Orchard Crescent', 'Taylor Wall',\n",
       "        'Gwent Crossing', 'Anvil Crescent', 'Farthing Avenue',\n",
       "        'Coin Street', 'Green Squares', 'Martin Path', 'Apricot Rapids',\n",
       "        'Kelly Shoals', 'Taurus Lodge', 'Bletchley Lodge',\n",
       "        'Taylor Islands', 'London Avenue', 'Egbert Key',\n",
       "        'CherryChestnut Street', 'Rhubarb Tunnel', 'Perth Lane',\n",
       "        'Brightonshot Lane', 'Marsh Lights', 'Silver Road', 'Dale Glens',\n",
       "        'Smith Mountain', 'Arthur Street', 'Walsh Prairie', 'Kaur Square',\n",
       "        'Kelly Dale', 'Singh Plaza', 'Horse Village', 'Cook Plaza',\n",
       "        'Metcalfe Forks', 'Sagittariusdike Avenue', 'Brick Crescent',\n",
       "        'Horseshoe Drive', 'Ahmed Drive', 'Miller Crescent',\n",
       "        'Appletree Heights', 'Beech Drive', 'Bank Street',\n",
       "        'Poundsalt Crescent', 'Ford Oval', 'Bath Drive', 'Daniels Green',\n",
       "        'Harris Harbor', 'Duffy Hollow', 'Guild Tunnel', 'Thistle Court',\n",
       "        'Bailey Glen', 'Severn Plain', 'McLean Street', 'Taurus Drive',\n",
       "        'Chester Road', 'Conifer Drive', 'Corporation Road', 'King Walks',\n",
       "        'St.Luke Locks', 'Willis Avenue', 'Woods Courts', 'Roberts Drives',\n",
       "        'Taurus Garden', 'Eastdeal Lane', 'Iqbal Shoals', 'Allen Forks',\n",
       "        'Hunters Parkway', 'Bank Burg', 'Peel Spring', 'Reynolds Highway',\n",
       "        'ExcaliburBells Dam', 'Repton Stronghold', 'Knowles Tower',\n",
       "        'Thomas Haven', 'Hope Folly', 'September Delve',\n",
       "        'Bishop Obervatory', 'Marsh Hold', 'John Manorhouse', 'Smith Barn',\n",
       "        'Woodward Cabin', 'Fox Windmill', 'Solstice Tower', 'Beech Villa',\n",
       "        'Stephens Rectory', 'Taylor Barracks'], dtype=object),\n",
       " 105)"
      ]
     },
     "execution_count": 8,
     "metadata": {},
     "output_type": "execute_result"
    }
   ],
   "source": [
    "# Checking for unique values in Street column\n",
    "\n",
    "df_mockcensus[\"Street\"].unique(), df_mockcensus[\"Street\"].nunique()"
   ]
  },
  {
   "cell_type": "code",
   "execution_count": 9,
   "id": "4053527f",
   "metadata": {},
   "outputs": [
    {
     "data": {
      "text/html": [
       "<div>\n",
       "<style scoped>\n",
       "    .dataframe tbody tr th:only-of-type {\n",
       "        vertical-align: middle;\n",
       "    }\n",
       "\n",
       "    .dataframe tbody tr th {\n",
       "        vertical-align: top;\n",
       "    }\n",
       "\n",
       "    .dataframe thead th {\n",
       "        text-align: right;\n",
       "    }\n",
       "</style>\n",
       "<table border=\"1\" class=\"dataframe\">\n",
       "  <thead>\n",
       "    <tr style=\"text-align: right;\">\n",
       "      <th></th>\n",
       "      <th>House Number</th>\n",
       "      <th>Street</th>\n",
       "      <th>First Name</th>\n",
       "      <th>Surname</th>\n",
       "      <th>Age</th>\n",
       "      <th>Relationship to Head of House</th>\n",
       "      <th>Marital Status</th>\n",
       "      <th>Gender</th>\n",
       "      <th>Occupation</th>\n",
       "      <th>Infirmity</th>\n",
       "      <th>Religion</th>\n",
       "    </tr>\n",
       "  </thead>\n",
       "  <tbody>\n",
       "  </tbody>\n",
       "</table>\n",
       "</div>"
      ],
      "text/plain": [
       "Empty DataFrame\n",
       "Columns: [House Number, Street, First Name, Surname, Age, Relationship to Head of House, Marital Status, Gender, Occupation, Infirmity, Religion]\n",
       "Index: []"
      ]
     },
     "execution_count": 9,
     "metadata": {},
     "output_type": "execute_result"
    }
   ],
   "source": [
    "# Checking for blank input\n",
    "\n",
    "df_mockcensus[df_mockcensus['Street'] == ' ']"
   ]
  },
  {
   "cell_type": "code",
   "execution_count": 10,
   "id": "843ff757",
   "metadata": {},
   "outputs": [
    {
     "data": {
      "text/plain": [
       "Street\n",
       "Green Squares        709\n",
       "Cook Plaza           689\n",
       "Willis Avenue        584\n",
       "Wallis Rapids        503\n",
       "Richardson Street    410\n",
       "                    ... \n",
       "September Delve        5\n",
       "Marsh Hold             5\n",
       "Stephens Rectory       5\n",
       "Taylor Barracks        5\n",
       "Repton Stronghold      2\n",
       "Name: count, Length: 105, dtype: int64"
      ]
     },
     "execution_count": 10,
     "metadata": {},
     "output_type": "execute_result"
    }
   ],
   "source": [
    "# Checking frequency of each row \n",
    "\n",
    "df_mockcensus['Street'].value_counts()"
   ]
  },
  {
   "cell_type": "markdown",
   "id": "92e77ac2",
   "metadata": {},
   "source": [
    "### 3. First Name"
   ]
  },
  {
   "cell_type": "code",
   "execution_count": 11,
   "id": "51e70353",
   "metadata": {
    "scrolled": true
   },
   "outputs": [
    {
     "data": {
      "text/plain": [
       "(array(['Amy', 'Bruce', 'Billy', 'Mary', 'Elliott', 'Clifford', 'Kirsty',\n",
       "        'Nathan', 'Sophie', 'Sarah', 'Terry', 'Raymond', 'Ryan', 'Bethany',\n",
       "        'Kieran', 'Holly', 'Tom', 'Scott', 'Jonathan', 'Marian', 'Heather',\n",
       "        'Michael', 'Damian', 'Gemma', 'Garry', 'Melanie', 'Sean',\n",
       "        'Carolyn', 'Dean', 'Michelle', 'Jade', 'Bernard', 'Pamela',\n",
       "        'Clare', 'Howard', 'Alexandra', 'Brenda', 'Martin', 'Antony',\n",
       "        'Sam', 'Conor', 'Duncan', 'Jake', 'Francesca', 'Alexander',\n",
       "        'Geoffrey', 'Melissa', 'Timothy', 'Claire', 'Rebecca', 'Leanne',\n",
       "        'Cameron', 'Anthony', 'Bethan', 'Megan', 'Robert', 'Glen', 'Ian',\n",
       "        'Richard', 'Sheila', 'Samantha', 'Ronald', 'Molly', 'Shane',\n",
       "        'Jemma', 'Ashleigh', 'Katy', 'Lynne', 'Lorraine', 'Fiona', 'Jamie',\n",
       "        'Danny', 'Tina', 'Gillian', 'Charles', 'Glenn', 'Owen', 'Denis',\n",
       "        'Helen', 'Joanna', 'Connor', 'William', 'Louise', 'Alice',\n",
       "        'Beverley', 'Lauren', 'Charlene', 'Ann', 'Shirley', 'Brian',\n",
       "        'Jeremy', 'Alex', 'Carol', 'Jean', 'Lydia', 'Dominic', 'Mathew',\n",
       "        'Leah', 'Leslie', 'Danielle', 'Neil', 'Judith', 'Irene', 'Anna',\n",
       "        'Jill', 'Paula', 'Sally', 'Kathleen', 'Shaun', 'Caroline',\n",
       "        'Suzanne', 'Joseph', 'Abigail', 'Margaret', 'Vincent', 'Diane',\n",
       "        'Phillip', 'Kenneth', 'Charlotte', 'Darren', 'Albert', 'Maria',\n",
       "        'Zoe', 'Gareth', 'Jennifer', 'Josh', 'Grace', 'Alan', 'Stuart',\n",
       "        'Callum', 'Dawn', 'Derek', 'Leonard', 'Mohammad', 'Marc', 'Joan',\n",
       "        'Kerry', 'Stewart', 'Steven', 'Mohamed', 'Debra', 'Cheryl',\n",
       "        'Charlie', 'Russell', 'Kayleigh', 'Nicholas', 'Alison', 'Edward',\n",
       "        'Aimee', 'Eleanor', 'Janice', 'Patricia', 'Marcus', 'Laura',\n",
       "        'Olivia', 'Oliver', 'Karen', 'Lesley', 'John', 'Amanda', 'Joshua',\n",
       "        'Graham', 'Josephine', 'Nicola', 'Jeffrey', 'Kimberley', 'Nigel',\n",
       "        'Brandon', 'Hayley', 'Sylvia', 'George', 'Mohammed', 'Yvonne',\n",
       "        'Tony', 'Natasha', 'Elliot', 'Damien', 'Iain', 'Emily', 'Abbie',\n",
       "        'Sandra', 'Trevor', 'Patrick', 'Julian', 'Kim', 'Annette', 'Hazel',\n",
       "        'Francis', 'Lindsey', 'Jacqueline', 'Ben', 'Rosemary', 'Gerald',\n",
       "        'Jack', 'Diana', 'Julia', 'Paige', 'Abdul', 'Douglas', 'Roger',\n",
       "        'Stephanie', 'Max', 'Chloe', 'Leigh', 'Deborah', 'Ruth', 'Arthur',\n",
       "        'Henry', 'Gregory', 'Rosie', 'Linda', 'Eric', 'Sara', 'Dale',\n",
       "        'Frank', 'Joel', 'Ashley', 'Simon', 'Hollie', 'David', 'Stephen',\n",
       "        'Harriet', 'Luke', 'Geraldine', 'Harry', 'Craig', 'Jayne',\n",
       "        'Bradley', 'Christian', 'Joe', 'Katherine', 'Marie', 'Carole',\n",
       "        'Jacob', 'Barbara', 'Malcolm', 'Gary', 'Victoria', 'Mandy',\n",
       "        'Gerard', 'Elizabeth', 'Paul', 'Georgina', 'Jodie', 'Wayne',\n",
       "        'Vanessa', 'Dylan', 'Jasmine', 'Daniel', 'Kathryn', 'Julie',\n",
       "        'Robin', 'Tracy', 'Ricky', 'Lucy', 'Lewis', 'Mark', 'Amber',\n",
       "        'Frederick', 'Mitchell', 'Christine', 'Matthew', 'Kelly', 'Jordan',\n",
       "        'Keith', 'Donald', 'Rachael', 'Norman', 'Guy', 'Catherine',\n",
       "        'Nicole', 'Lawrence', 'Shannon', 'Tracey', 'Lee', 'Philip',\n",
       "        'Frances', 'Toby', 'Leon', 'Samuel', 'Kevin', 'Karl', 'Liam',\n",
       "        'Colin', 'Katie', 'Thomas', 'Reece', 'Graeme', 'Wendy', 'Aaron',\n",
       "        'Gail', 'Clive', 'Carly', 'Sharon', 'Denise', 'Janet', 'Andrea',\n",
       "        'Angela', 'Rachel', 'Rita', 'Stanley', 'Carl', 'Brett', 'Susan',\n",
       "        'Elaine', 'Victor', 'Marilyn', 'Amelia', 'Barry', 'Teresa',\n",
       "        'James', 'Jenna', 'Bryan', 'Hugh', 'Anne', 'Jessica', 'Gordon',\n",
       "        'Adam', 'Marion', 'Sian', 'Eileen', 'Lynda', 'Valerie',\n",
       "        'Christopher', 'Pauline', 'Joanne', 'Martyn', 'Andrew', 'Louis',\n",
       "        'Roy', 'Allan', 'June', 'Lisa', 'Stacey', 'Maureen', 'Benjamin',\n",
       "        'Adrian', 'Rhys', 'Peter', 'Maurice', 'Beth', 'Jane', 'Jason',\n",
       "        'Chelsea', 'Kate', 'Georgia', 'Terence', 'Joyce', 'Dennis',\n",
       "        'Donna', 'Justin', 'Natalie', 'Emma', 'Ross', 'Ellie', 'Hannah',\n",
       "        'Hilary', 'Dorothy', 'Declan', 'Lynn', 'Naomi', 'Kyle', 'Gavin',\n",
       "        ' ', 'Jay'], dtype=object),\n",
       " 365)"
      ]
     },
     "execution_count": 11,
     "metadata": {},
     "output_type": "execute_result"
    }
   ],
   "source": [
    "# Checking for unique values in First Name column\n",
    "\n",
    "df_mockcensus[\"First Name\"].unique(), df_mockcensus[\"First Name\"].nunique()"
   ]
  },
  {
   "cell_type": "code",
   "execution_count": 12,
   "id": "fb7f4152",
   "metadata": {},
   "outputs": [
    {
     "data": {
      "text/html": [
       "<div>\n",
       "<style scoped>\n",
       "    .dataframe tbody tr th:only-of-type {\n",
       "        vertical-align: middle;\n",
       "    }\n",
       "\n",
       "    .dataframe tbody tr th {\n",
       "        vertical-align: top;\n",
       "    }\n",
       "\n",
       "    .dataframe thead th {\n",
       "        text-align: right;\n",
       "    }\n",
       "</style>\n",
       "<table border=\"1\" class=\"dataframe\">\n",
       "  <thead>\n",
       "    <tr style=\"text-align: right;\">\n",
       "      <th></th>\n",
       "      <th>House Number</th>\n",
       "      <th>Street</th>\n",
       "      <th>First Name</th>\n",
       "      <th>Surname</th>\n",
       "      <th>Age</th>\n",
       "      <th>Relationship to Head of House</th>\n",
       "      <th>Marital Status</th>\n",
       "      <th>Gender</th>\n",
       "      <th>Occupation</th>\n",
       "      <th>Infirmity</th>\n",
       "      <th>Religion</th>\n",
       "    </tr>\n",
       "  </thead>\n",
       "  <tbody>\n",
       "    <tr>\n",
       "      <th>2614</th>\n",
       "      <td>21</td>\n",
       "      <td>Webb Parkway</td>\n",
       "      <td></td>\n",
       "      <td>Gardner</td>\n",
       "      <td>21</td>\n",
       "      <td>Daughter</td>\n",
       "      <td>Single</td>\n",
       "      <td>Female</td>\n",
       "      <td>University Student</td>\n",
       "      <td>NaN</td>\n",
       "      <td>NaN</td>\n",
       "    </tr>\n",
       "  </tbody>\n",
       "</table>\n",
       "</div>"
      ],
      "text/plain": [
       "      House Number        Street First Name  Surname Age  \\\n",
       "2614            21  Webb Parkway             Gardner  21   \n",
       "\n",
       "     Relationship to Head of House Marital Status  Gender          Occupation  \\\n",
       "2614                      Daughter         Single  Female  University Student   \n",
       "\n",
       "     Infirmity Religion  \n",
       "2614       NaN      NaN  "
      ]
     },
     "execution_count": 12,
     "metadata": {},
     "output_type": "execute_result"
    }
   ],
   "source": [
    "# Checking for blank input\n",
    "\n",
    "df_mockcensus[df_mockcensus['First Name'] == ' ']"
   ]
  },
  {
   "cell_type": "code",
   "execution_count": 13,
   "id": "121530e3",
   "metadata": {},
   "outputs": [
    {
     "data": {
      "text/plain": [
       "First Name\n",
       "Heather      46\n",
       "Deborah      44\n",
       "Sophie       43\n",
       "Paula        41\n",
       "Fiona        40\n",
       "             ..\n",
       "Shaun        14\n",
       "Charles      13\n",
       "Barry        12\n",
       "Josephine    10\n",
       "              1\n",
       "Name: count, Length: 365, dtype: int64"
      ]
     },
     "execution_count": 13,
     "metadata": {},
     "output_type": "execute_result"
    }
   ],
   "source": [
    "# Checking frequency of each row \n",
    "\n",
    "df_mockcensus['First Name'].value_counts()"
   ]
  },
  {
   "cell_type": "markdown",
   "id": "13bd9381",
   "metadata": {},
   "source": [
    "### 4. Surname"
   ]
  },
  {
   "cell_type": "code",
   "execution_count": 14,
   "id": "518bf8c7",
   "metadata": {},
   "outputs": [
    {
     "data": {
      "text/plain": [
       "(array(['Hall', 'Murphy', 'Doherty', 'Carter', 'Farrell', 'Jones', 'Wood',\n",
       "        'Greenwood', 'Gardner', 'Hill-Gardner', 'Allan', 'Smith',\n",
       "        'Campbell', 'Clark', 'Brown', 'Walton', 'Richardson', 'Stewart',\n",
       "        'Knight', 'Glover', 'Matthews', 'Harding', 'Buckley', 'Jackson',\n",
       "        'Khan', 'Johnson', 'Thompson', 'Evans', \"O'Sullivan\", 'Banks',\n",
       "        'Mason', 'Day', 'Dunn', 'Higgins', 'Williams', 'Patel', 'Dixon',\n",
       "        'Cartwright', 'Humphries', 'Reynolds', 'Bartlett', 'Whitehead',\n",
       "        'Webb', 'Parker', 'Hill', 'Smith-Johnson', 'Carroll',\n",
       "        'Baker-Carroll', 'Morris', 'Hancock', \"O'Neill\", 'Newman', 'Green',\n",
       "        'Wilson', 'Watson', 'Robertson', 'Turner-Robertson', 'Davies',\n",
       "        'Ali', 'Kirk', 'Dawson', 'Gibbons', 'Whittaker', 'Robinson',\n",
       "        'Baldwin', 'Williams-Baldwin', 'Hardy', 'Bradley', 'Abbott',\n",
       "        'Lucas', 'Preston', 'Gill', 'Oliver', 'Kerr', 'Sheppard',\n",
       "        'Lucas-Fuller', 'Moore', 'Brooks', 'Atkinson', 'Briggs', 'Cook',\n",
       "        'Pritchard', 'Butcher', 'Shaw', 'Burgess', 'Davidson', 'Akhtar',\n",
       "        'Scott', 'Hunt', 'Harris', 'Reid', 'Hughes', 'Butler', 'Page',\n",
       "        'Begum', 'Pearce', 'Anderson', 'Flynn', 'Roberts', 'Kaur', 'Price',\n",
       "        'Hudson', 'Leonard', 'Clarke', 'Marshall', 'Dobson', 'Graham',\n",
       "        'Potter', 'Taylor', 'Phillips', 'Lawrence', 'Morton', 'Stevens',\n",
       "        'Herbert', 'Ellis', 'Nicholls', 'Morgan', 'Robinson-Yates',\n",
       "        'Singh', 'Cameron', 'Wood-Wright', 'Wong', 'Fowler', 'Allen',\n",
       "        'Lord', 'Barnes', 'Iqbal', 'West', 'Wheeler', 'Elliott',\n",
       "        'Morrison', 'Reed', 'McDonald', 'Jenkins', 'Lewis', 'Barker',\n",
       "        'Wilkins-Johnson', 'Bates', 'Willis', 'Smart', 'Little', 'White',\n",
       "        'Saunders', 'Walsh', 'Francis', 'Porter', 'James-Lewis', 'Walker',\n",
       "        'Garner', 'Wright', 'Watkins', 'Cole', 'Godfrey', 'Young', 'King',\n",
       "        'Henderson', 'Cooper-King', 'James', 'West-James', 'Burton',\n",
       "        'Brookes', 'Norman', 'Moss', 'Pearson', 'Tucker', 'Stevenson',\n",
       "        'Clements', 'Lynch', 'Perry', 'Bailey', 'Lees', 'Miller',\n",
       "        'Carpenter', 'Power', 'Rees', 'Gray', 'Gallagher', 'Freeman',\n",
       "        'Mitchell', 'Tyler', 'Wells', 'Bowen', 'Wade', 'Frost',\n",
       "        'Berry-Frost', 'Middleton', 'Hodgson', 'Short', 'Sanderson',\n",
       "        'Holmes', 'Kay', 'Warren', 'Hyde', 'Parkes', 'Andrews', 'Thomas',\n",
       "        'Lee', 'Jenkins-Thomas', 'Phillips-Jenkins-Thomas', 'Savage',\n",
       "        'Chambers', 'Edwards', 'Adams', 'Fletcher', 'Farmer', 'Read',\n",
       "        'Harvey', 'Armstrong', 'Bond', 'Robson', 'Bell', 'Long',\n",
       "        'Harrison', 'Carr', 'Sharpe', 'Mahmood', 'Fraser', 'Turnbull',\n",
       "        'Rice', 'Griffin', 'Davis', 'Blackburn', 'Gordon', 'Burton-Gordon',\n",
       "        'Martin', 'Macdonald', 'Lane', 'Thorpe', \"O'Connor\",\n",
       "        \"Blake-O'Connor\", 'Hilton', 'Lloyd', 'Hewitt', 'Chapman', 'Gibbs',\n",
       "        'Rogers', 'Foster', 'Turner', 'Coles', 'Cooper', 'Patterson',\n",
       "        'Ball', 'Morley', 'Rose', 'Ward', 'Connor', 'Stephenson', 'Parry',\n",
       "        'Warren-Howell', 'Swift', 'Brennan', 'Browne', 'Jennings',\n",
       "        'Smith-Pearson', 'Cox', 'Pratt', 'Holden', 'Hayes', 'Craig',\n",
       "        'George', 'Howells', 'Nelson', 'Ahmed', 'Wilkinson', 'Parkinson',\n",
       "        'Grant', 'Law', 'Barber', 'Watts', 'Faulkner-Watts', 'Cooke',\n",
       "        'Hooper', 'Lawson', 'Simmons', 'Noble', 'Kelly',\n",
       "        'Alexander-Robinson', 'Shepherd', 'Whitehouse', 'Jordan', 'Kemp',\n",
       "        'Walters', 'Lambert', 'Blake', 'Vincent', 'Ryan', 'Wilson-Tucker',\n",
       "        'Williamson', 'Ford', 'Ashton', 'Collins', 'Russell', 'John',\n",
       "        'Fitzgerald', 'Myers', 'Waters', 'Bevan', 'Woods', 'Griffiths',\n",
       "        'Pickering', 'Parkin', 'Mills', 'Rowley', 'Gough', 'Fisher',\n",
       "        'Doyle', 'Holland', 'Davey', 'Hargreaves', 'Randall', 'Kirby',\n",
       "        'Powell', 'Cross', 'Begum-Preston', 'Brady', 'Rhodes', 'Welch',\n",
       "        'Barlow', 'Chadwick', 'Vaughan', 'Simpson', 'Haynes',\n",
       "        'Thomson-Haynes', 'Reeves', 'Hussain', 'Richards', 'Barrett',\n",
       "        'Skinner', 'Hammond', 'Wallace', 'Stephens', 'Carey', 'Bennett',\n",
       "        'Bray', 'Pollard', 'Todd', 'Miles', 'Stone', 'Hanson', 'Miah',\n",
       "        'Birch', 'Thomson', 'Dale', 'Baker', 'Warner', 'Gibson', 'Collier',\n",
       "        'Gilbert', 'Bull', 'Fuller', 'Bryan', 'Holloway', 'Baxter',\n",
       "        'Giles', 'Faulkner', 'Hawkins', 'Bird', 'Conway', 'Shah', 'Leach',\n",
       "        'Woodward', 'Moran', 'Spencer', 'Brown-Marshall', 'Burrows',\n",
       "        'Bolton', 'Arnold', 'Bishop', 'Singh-Marshall', 'McCarthy',\n",
       "        'Collier-Jenkins', 'Potts', 'Kent', 'Nolan-Gray',\n",
       "        'Burns-Henderson', 'Humphreys', 'Byrne', 'Wyatt', 'Holt',\n",
       "        'Butler-Jackson', 'Daly', 'Nolan', 'Parsons', 'Newton',\n",
       "        'Wilkins-Chapman', 'Hicks', 'Hopkins', 'Turner-Brooks', 'Pugh',\n",
       "        'Howard', 'Slater', 'Hutchinson', 'Booth', 'Murray', 'Hale',\n",
       "        'Sharp', 'Chan', 'Webster', 'Osborne', 'Ingram-Stevens',\n",
       "        'Pearson-Kennedy', 'Poole', 'Lamb', 'Rahman', 'Bibi', 'Owens',\n",
       "        'North-Murphy', 'Norris-Jones', 'Duncan', 'Lyons', 'Ward-Jones',\n",
       "        'Martin-Cooper', 'Bradshaw', 'Wilkins', 'Clayton', 'Hunt-Lucas',\n",
       "        'Crawford', 'Marsh', 'Taylor-Martin', 'Stokes', 'Fleming', 'Berry',\n",
       "        'Harper', \"O'Neill-Shaw\", 'Norris', 'Hart', 'Bryant', 'Franklin',\n",
       "        'Sullivan', 'Storey', \"O'Brien\", 'Knowles', 'Davison', 'Douglas',\n",
       "        'Hunter', 'Hartley', 'Fox', 'Talbot', 'French', 'Stanley',\n",
       "        'Palmer-Martin', 'Price-Rowley', 'Bowen-Hargreaves',\n",
       "        'Morgan-Bowen-Hargreaves', 'Sullivan-Lord', 'Henry', 'Coleman',\n",
       "        'Howe', 'Metcalfe', 'Hill-Summers', 'Daniels', 'Thornton',\n",
       "        'Patel-Jenkins', 'Davey-Wilson', 'Townsend', 'Owen',\n",
       "        'Wilkinson-Young', 'Sinclair', 'Kennedy', 'Heath', 'Martin-Cross',\n",
       "        'Gould', 'Schofield', 'Payne', 'Sutton', 'Goddard', 'Poole-Martin',\n",
       "        'Nicholson', 'Marsden', 'Williams-Shaw', 'Peacock',\n",
       "        'Tyler-Roberts', 'Lowe', 'Black', 'Coates', 'Benson', 'Nash',\n",
       "        'Day-Gilbert', 'Woodward-Parker', 'Moore-Woodward-Parker',\n",
       "        'Perry-Murphy', 'Hanson-Richardson', 'Preston-Edwards',\n",
       "        'Hill-Francis', 'Dyer', 'Pope', 'Fletcher-Hussain', 'Boyle',\n",
       "        'Matthews-Bailey', 'Rose-Jones', 'Stevens-Martin', 'Howell',\n",
       "        'Carr-Howe', 'Price-Burke', 'Wallis', 'Rowe', 'Metcalfe-Martin',\n",
       "        'Houghton', 'Barton', 'Wall', 'Burns', 'Bentley', 'Palmer',\n",
       "        'Sharp-Brooks', 'Hurst', 'Winter', 'Finch', 'Gardiner', 'Ross',\n",
       "        'Tomlinson', 'Barker-Farrell', 'Taylor-Barker', 'Conway-Buckley',\n",
       "        'Rogers-Baker', 'Bruce', 'Walker-Bailey', 'Short-Murphy',\n",
       "        'Dickinson', 'Hayward', 'Steele', 'Davis-Houghton', 'Yates',\n",
       "        'Edwards-Moss', 'Jones-Cooper', 'Jones-Cooper-Young', 'Lee-Davies',\n",
       "        'Price-Edwards', 'McLean', 'Quinn', 'Ferguson', 'Dean', 'Burke',\n",
       "        'Kennedy-Hughes', 'Morris-Byrne', 'Nixon', 'Gray-Webster',\n",
       "        'Chandler', 'Forster', 'Charlton', 'Elliott-McDonald',\n",
       "        'Brown-Carter', 'Mann', 'Hughes-Winter', 'White-Ellis', 'Goodwin',\n",
       "        'Cunningham', 'Warren-Cunningham', 'Riley', 'Sims-Harrison',\n",
       "        'Clarke-Fletcher', 'Hicks-Wilkinson', 'Sims', 'Yates-Jackson',\n",
       "        'Manning', 'May', 'Johnston', 'Browne-Rogers', 'Lewis-Bentley',\n",
       "        'Sanders', 'Alexander', 'Norton', 'Ward-Williams', 'Mistry',\n",
       "        'Gregory', 'Brown-Jones', 'Allen-Singh', 'Duffy',\n",
       "        'Jackson-Clements', 'Ingram', 'Barnes-Newman', 'North', 'Donnelly',\n",
       "        'Gibson-Taylor', 'Davies-Morgan', 'Hamilton', 'Atkins',\n",
       "        'Poole-Gibbs', 'Joyce', 'Horton', 'Hodgson-Jackson', 'Dodd',\n",
       "        'Ashton-Mason', 'Gibson-McDonald', 'Perkins', 'Cross-Moore', ' ',\n",
       "        'Slater-Noble', 'Peters', 'Davies-Smith', 'Price-Short',\n",
       "        'Mahmood-Taylor', 'Cox-Sinclair', 'Curtis', 'Thompson-Kaur', 'Fry',\n",
       "        'Cook-Whitehouse', 'Cooper-Williams', 'Hill-Jones', 'McKenzie',\n",
       "        'Miles-Wilkinson', 'Thomas-Joyce', 'Archer', 'Wood-Winter',\n",
       "        'Leonard-Russell', 'Hilton-Brown', 'Gray-Schofield', 'Hall-Hughes',\n",
       "        'Todd-Rowe', 'Hawkins-Cole', 'Campbell-Lynch', 'Jarvis', 'Hobbs',\n",
       "        'Jones-Nicholson', 'Fletcher-Gardner', 'Connolly', 'Smith-Bell',\n",
       "        \"O'Donnell\", 'Barnett', 'Austin', 'Martin-Green', 'Fox-Kemp',\n",
       "        'Williams-Bolton', 'Khan-Hill', 'Khan-Fleming', 'Evans-Burton',\n",
       "        'Chamberlain', 'Thomas-Conway', 'Cooper-Simpson', 'Skinner-Gibbs',\n",
       "        'Ward-Ellis', 'Robinson-Moore', 'Davidson-Pearce', 'Collins-Lee',\n",
       "        'Kaur-Bell', 'Chandler-Williams', 'Sanders-Edwards',\n",
       "        'Reynolds-Russell', 'Bolton-Brown', 'Sykes', 'Naylor',\n",
       "        'Mann-Kirby', 'Field', 'Dennis', 'Fletcher-Ward', 'Hope',\n",
       "        'Williams-Fowler', 'Nicholson-Grant', 'Saunders-Fisher',\n",
       "        'Wood-Ahmed', 'Weston', 'Craig-Clark', 'Gill-Taylor',\n",
       "        'Hill-Gill-Taylor', 'Bolton-Ward', 'Mellor', 'Walton-Evans',\n",
       "        'Macdonald-Allen', 'Barry', 'Matthews-Cox', 'Brown-Johnson',\n",
       "        'Hilton-Waters', 'Fleming-Parker', 'Hudson-Hussain',\n",
       "        'Wilson-Austin', 'Bowen-Hurst', 'Moore-Harding',\n",
       "        'Hyde-Moore-Harding', 'James-Bradley', 'Hopkins-Webb', 'Reed-Page',\n",
       "        'Hanson-Sinclair', 'Doyle-Hurst', 'Smith-Ball', 'Brown-King',\n",
       "        'Turner-Rose'], dtype=object),\n",
       " 675)"
      ]
     },
     "execution_count": 14,
     "metadata": {},
     "output_type": "execute_result"
    }
   ],
   "source": [
    "# Checking for unique values in the Surname column\n",
    "\n",
    "df_mockcensus[\"Surname\"].unique(), df_mockcensus[\"Surname\"].nunique()"
   ]
  },
  {
   "cell_type": "code",
   "execution_count": 15,
   "id": "3ea616f5",
   "metadata": {},
   "outputs": [
    {
     "data": {
      "text/html": [
       "<div>\n",
       "<style scoped>\n",
       "    .dataframe tbody tr th:only-of-type {\n",
       "        vertical-align: middle;\n",
       "    }\n",
       "\n",
       "    .dataframe tbody tr th {\n",
       "        vertical-align: top;\n",
       "    }\n",
       "\n",
       "    .dataframe thead th {\n",
       "        text-align: right;\n",
       "    }\n",
       "</style>\n",
       "<table border=\"1\" class=\"dataframe\">\n",
       "  <thead>\n",
       "    <tr style=\"text-align: right;\">\n",
       "      <th></th>\n",
       "      <th>House Number</th>\n",
       "      <th>Street</th>\n",
       "      <th>First Name</th>\n",
       "      <th>Surname</th>\n",
       "      <th>Age</th>\n",
       "      <th>Relationship to Head of House</th>\n",
       "      <th>Marital Status</th>\n",
       "      <th>Gender</th>\n",
       "      <th>Occupation</th>\n",
       "      <th>Infirmity</th>\n",
       "      <th>Religion</th>\n",
       "    </tr>\n",
       "  </thead>\n",
       "  <tbody>\n",
       "    <tr>\n",
       "      <th>5613</th>\n",
       "      <td>28</td>\n",
       "      <td>Kelly Dale</td>\n",
       "      <td>Rachel</td>\n",
       "      <td></td>\n",
       "      <td>37</td>\n",
       "      <td>Head</td>\n",
       "      <td>Single</td>\n",
       "      <td>Female</td>\n",
       "      <td>Medical sales representative</td>\n",
       "      <td>NaN</td>\n",
       "      <td>Christian</td>\n",
       "    </tr>\n",
       "  </tbody>\n",
       "</table>\n",
       "</div>"
      ],
      "text/plain": [
       "      House Number      Street First Name Surname Age  \\\n",
       "5613            28  Kelly Dale     Rachel          37   \n",
       "\n",
       "     Relationship to Head of House Marital Status  Gender  \\\n",
       "5613                          Head         Single  Female   \n",
       "\n",
       "                        Occupation Infirmity   Religion  \n",
       "5613  Medical sales representative       NaN  Christian  "
      ]
     },
     "execution_count": 15,
     "metadata": {},
     "output_type": "execute_result"
    }
   ],
   "source": [
    "# Checking for blank input\n",
    "\n",
    "df_mockcensus[df_mockcensus['Surname'] == ' ']"
   ]
  },
  {
   "cell_type": "code",
   "execution_count": 16,
   "id": "c0c7be4f",
   "metadata": {},
   "outputs": [
    {
     "data": {
      "text/plain": [
       "Surname\n",
       "Jones              270\n",
       "Smith              254\n",
       "Williams           146\n",
       "Davies             129\n",
       "Brown              115\n",
       "                  ... \n",
       "Kennedy-Hughes       1\n",
       "Forster              1\n",
       "Wilkins-Chapman      1\n",
       "Faulkner-Watts       1\n",
       "O'Neill-Shaw         1\n",
       "Name: count, Length: 675, dtype: int64"
      ]
     },
     "execution_count": 16,
     "metadata": {},
     "output_type": "execute_result"
    }
   ],
   "source": [
    "# Checking frequency of each row \n",
    "\n",
    "df_mockcensus['Surname'].value_counts()"
   ]
  },
  {
   "cell_type": "markdown",
   "id": "fcde69ed",
   "metadata": {},
   "source": [
    "### 5. Age"
   ]
  },
  {
   "cell_type": "code",
   "execution_count": 17,
   "id": "40ee7c72",
   "metadata": {},
   "outputs": [
    {
     "data": {
      "text/plain": [
       "(array(['41', '49', '17', '15', '13', '7', '6', '5', '4', '2', '58', '33',\n",
       "        '26', '36', '47', '51', '19', '42', '44', '8', '0', '60', '56',\n",
       "        '12', '46', '30', '76', '64', '63', '62', '53', '45', '37', '10',\n",
       "        '24', '3', '57', '39', '29', '27', '59', '20', '32', '18', '34',\n",
       "        '21', '11', '52', '50', '85', '87', '9', '61', '35', '31', '23',\n",
       "        '48', '73', '25', '88', '90', '28', '71', '69', '54', '22', '68',\n",
       "        '16', '55', '67', '91', '43', '40', '38', '1', '81', '79', '14',\n",
       "        '70', '77', '72', '66', '65', '84', '78', '100', '92', '93', '74',\n",
       "        '83', '75', '105', '82', '89', '86', '103', '80', '96', '102',\n",
       "        '98', '97', '95.20845345950883', '97.20845345950883',\n",
       "        '46.99999999999999', '104', '110', '101', '99',\n",
       "        '50.68642589738663', '0.0', '71.70511965460919',\n",
       "        '74.70511965460919', '13.0', '84.3600933267044', ' ',\n",
       "        '78.78623363918231', '30.0', '27.0', '24.0', '94', '109'],\n",
       "       dtype=object),\n",
       " 121)"
      ]
     },
     "execution_count": 17,
     "metadata": {},
     "output_type": "execute_result"
    }
   ],
   "source": [
    "# Checking for unique values in the Age column\n",
    "\n",
    "df_mockcensus[\"Age\"].unique(), df_mockcensus[\"Age\"].nunique()"
   ]
  },
  {
   "cell_type": "code",
   "execution_count": 18,
   "id": "79e52aa1",
   "metadata": {},
   "outputs": [
    {
     "data": {
      "text/html": [
       "<div>\n",
       "<style scoped>\n",
       "    .dataframe tbody tr th:only-of-type {\n",
       "        vertical-align: middle;\n",
       "    }\n",
       "\n",
       "    .dataframe tbody tr th {\n",
       "        vertical-align: top;\n",
       "    }\n",
       "\n",
       "    .dataframe thead th {\n",
       "        text-align: right;\n",
       "    }\n",
       "</style>\n",
       "<table border=\"1\" class=\"dataframe\">\n",
       "  <thead>\n",
       "    <tr style=\"text-align: right;\">\n",
       "      <th></th>\n",
       "      <th>House Number</th>\n",
       "      <th>Street</th>\n",
       "      <th>First Name</th>\n",
       "      <th>Surname</th>\n",
       "      <th>Age</th>\n",
       "      <th>Relationship to Head of House</th>\n",
       "      <th>Marital Status</th>\n",
       "      <th>Gender</th>\n",
       "      <th>Occupation</th>\n",
       "      <th>Infirmity</th>\n",
       "      <th>Religion</th>\n",
       "    </tr>\n",
       "  </thead>\n",
       "  <tbody>\n",
       "    <tr>\n",
       "      <th>6819</th>\n",
       "      <td>33</td>\n",
       "      <td>Bank Street</td>\n",
       "      <td>Georgia</td>\n",
       "      <td>Poole</td>\n",
       "      <td></td>\n",
       "      <td>Head</td>\n",
       "      <td>Married</td>\n",
       "      <td>Female</td>\n",
       "      <td>Retired Production manager</td>\n",
       "      <td>NaN</td>\n",
       "      <td>Catholic</td>\n",
       "    </tr>\n",
       "    <tr>\n",
       "      <th>9422</th>\n",
       "      <td>32</td>\n",
       "      <td>Bank Burg</td>\n",
       "      <td>Mitchell</td>\n",
       "      <td>Jordan</td>\n",
       "      <td></td>\n",
       "      <td>Partner</td>\n",
       "      <td>Single</td>\n",
       "      <td>Male</td>\n",
       "      <td>Sales executive</td>\n",
       "      <td>NaN</td>\n",
       "      <td>Christian</td>\n",
       "    </tr>\n",
       "  </tbody>\n",
       "</table>\n",
       "</div>"
      ],
      "text/plain": [
       "      House Number       Street First Name Surname Age  \\\n",
       "6819            33  Bank Street    Georgia   Poole       \n",
       "9422            32    Bank Burg   Mitchell  Jordan       \n",
       "\n",
       "     Relationship to Head of House Marital Status  Gender  \\\n",
       "6819                          Head        Married  Female   \n",
       "9422                       Partner         Single    Male   \n",
       "\n",
       "                      Occupation Infirmity   Religion  \n",
       "6819  Retired Production manager       NaN   Catholic  \n",
       "9422             Sales executive       NaN  Christian  "
      ]
     },
     "execution_count": 18,
     "metadata": {},
     "output_type": "execute_result"
    }
   ],
   "source": [
    "# Checking for blank input\n",
    "\n",
    "df_mockcensus[df_mockcensus['Age'] == ' ']"
   ]
  },
  {
   "cell_type": "code",
   "execution_count": 19,
   "id": "67c17117",
   "metadata": {},
   "outputs": [
    {
     "data": {
      "text/plain": [
       "Age\n",
       "39                   196\n",
       "36                   175\n",
       "40                   170\n",
       "19                   167\n",
       "34                   167\n",
       "                    ... \n",
       "97.20845345950883      1\n",
       "95.20845345950883      1\n",
       "98                     1\n",
       "100                    1\n",
       "109                    1\n",
       "Name: count, Length: 121, dtype: int64"
      ]
     },
     "execution_count": 19,
     "metadata": {},
     "output_type": "execute_result"
    }
   ],
   "source": [
    "# Checking frequency of each row \n",
    "\n",
    "df_mockcensus['Age'].value_counts()"
   ]
  },
  {
   "cell_type": "code",
   "execution_count": 20,
   "id": "992c28e2",
   "metadata": {},
   "outputs": [
    {
     "data": {
      "text/plain": [
       "dtype('O')"
      ]
     },
     "execution_count": 20,
     "metadata": {},
     "output_type": "execute_result"
    }
   ],
   "source": [
    "# Checking data type\n",
    "\n",
    "df_mockcensus['Age'].dtypes"
   ]
  },
  {
   "cell_type": "markdown",
   "id": "3cb9acfb",
   "metadata": {},
   "source": [
    "### 6. Relationship to Head of House"
   ]
  },
  {
   "cell_type": "code",
   "execution_count": 21,
   "id": "a7e535f8",
   "metadata": {},
   "outputs": [
    {
     "data": {
      "text/plain": [
       "(array(['Head', 'Partner', 'Son', 'Daughter', nan, 'Husband', 'Wife',\n",
       "        'Grandson', 'Granddaughter', 'Lodger', 'Cousin',\n",
       "        'Adopted Grandson', 'Sibling', 'Visitor', 'Adopted Son', 'Neice',\n",
       "        'Adopted Granddaughter', 'Nephew', 'Adopted Daughter',\n",
       "        'Step-Daughter', 'Step-Son', ' '], dtype=object),\n",
       " 21)"
      ]
     },
     "execution_count": 21,
     "metadata": {},
     "output_type": "execute_result"
    }
   ],
   "source": [
    "# Checking for unique values in the Relationship to Head of House column\n",
    "\n",
    "df_mockcensus[\"Relationship to Head of House\"].unique(), df_mockcensus[\"Relationship to Head of House\"].nunique()"
   ]
  },
  {
   "cell_type": "code",
   "execution_count": 22,
   "id": "7ba12d89",
   "metadata": {},
   "outputs": [
    {
     "data": {
      "text/html": [
       "<div>\n",
       "<style scoped>\n",
       "    .dataframe tbody tr th:only-of-type {\n",
       "        vertical-align: middle;\n",
       "    }\n",
       "\n",
       "    .dataframe tbody tr th {\n",
       "        vertical-align: top;\n",
       "    }\n",
       "\n",
       "    .dataframe thead th {\n",
       "        text-align: right;\n",
       "    }\n",
       "</style>\n",
       "<table border=\"1\" class=\"dataframe\">\n",
       "  <thead>\n",
       "    <tr style=\"text-align: right;\">\n",
       "      <th></th>\n",
       "      <th>House Number</th>\n",
       "      <th>Street</th>\n",
       "      <th>First Name</th>\n",
       "      <th>Surname</th>\n",
       "      <th>Age</th>\n",
       "      <th>Relationship to Head of House</th>\n",
       "      <th>Marital Status</th>\n",
       "      <th>Gender</th>\n",
       "      <th>Occupation</th>\n",
       "      <th>Infirmity</th>\n",
       "      <th>Religion</th>\n",
       "    </tr>\n",
       "  </thead>\n",
       "  <tbody>\n",
       "    <tr>\n",
       "      <th>8790</th>\n",
       "      <td>18</td>\n",
       "      <td>Taurus Garden</td>\n",
       "      <td>Graeme</td>\n",
       "      <td>Sykes</td>\n",
       "      <td>23</td>\n",
       "      <td></td>\n",
       "      <td>Divorced</td>\n",
       "      <td>Male</td>\n",
       "      <td>Ophthalmologist</td>\n",
       "      <td>NaN</td>\n",
       "      <td>NaN</td>\n",
       "    </tr>\n",
       "  </tbody>\n",
       "</table>\n",
       "</div>"
      ],
      "text/plain": [
       "      House Number         Street First Name Surname Age  \\\n",
       "8790            18  Taurus Garden     Graeme   Sykes  23   \n",
       "\n",
       "     Relationship to Head of House Marital Status Gender       Occupation  \\\n",
       "8790                                     Divorced   Male  Ophthalmologist   \n",
       "\n",
       "     Infirmity Religion  \n",
       "8790       NaN      NaN  "
      ]
     },
     "execution_count": 22,
     "metadata": {},
     "output_type": "execute_result"
    }
   ],
   "source": [
    "# Checking for blank input\n",
    "\n",
    "df_mockcensus[df_mockcensus['Relationship to Head of House'] == ' ']"
   ]
  },
  {
   "cell_type": "code",
   "execution_count": 23,
   "id": "74297ed4",
   "metadata": {},
   "outputs": [
    {
     "data": {
      "text/plain": [
       "Relationship to Head of House\n",
       "Head                     3448\n",
       "Son                      1611\n",
       "Daughter                 1462\n",
       "Husband                   998\n",
       "Lodger                    388\n",
       "Wife                      354\n",
       "Partner                   314\n",
       "Grandson                  123\n",
       "Granddaughter             109\n",
       "Sibling                    58\n",
       "Cousin                     37\n",
       "Visitor                    26\n",
       "Adopted Son                25\n",
       "Neice                      14\n",
       "Step-Son                   10\n",
       "Adopted Daughter            9\n",
       "Step-Daughter               8\n",
       "Nephew                      7\n",
       "Adopted Grandson            2\n",
       "Adopted Granddaughter       2\n",
       "                            1\n",
       "Name: count, dtype: int64"
      ]
     },
     "execution_count": 23,
     "metadata": {},
     "output_type": "execute_result"
    }
   ],
   "source": [
    "# Checking frequency of each row \n",
    "\n",
    "df_mockcensus['Relationship to Head of House'].value_counts()"
   ]
  },
  {
   "cell_type": "markdown",
   "id": "669a6e5a",
   "metadata": {},
   "source": [
    "### 7. Marital Status"
   ]
  },
  {
   "cell_type": "code",
   "execution_count": 24,
   "id": "0e57a518",
   "metadata": {},
   "outputs": [
    {
     "data": {
      "text/plain": [
       "(array(['Single', nan, 'Married', 'Widowed', 'Divorced', ' '], dtype=object),\n",
       " 5)"
      ]
     },
     "execution_count": 24,
     "metadata": {},
     "output_type": "execute_result"
    }
   ],
   "source": [
    "# Checking for unique values in the Marital Status column\n",
    "\n",
    "df_mockcensus[\"Marital Status\"].unique(), df_mockcensus[\"Marital Status\"].nunique()"
   ]
  },
  {
   "cell_type": "code",
   "execution_count": 25,
   "id": "4f0937d1",
   "metadata": {},
   "outputs": [
    {
     "data": {
      "text/html": [
       "<div>\n",
       "<style scoped>\n",
       "    .dataframe tbody tr th:only-of-type {\n",
       "        vertical-align: middle;\n",
       "    }\n",
       "\n",
       "    .dataframe tbody tr th {\n",
       "        vertical-align: top;\n",
       "    }\n",
       "\n",
       "    .dataframe thead th {\n",
       "        text-align: right;\n",
       "    }\n",
       "</style>\n",
       "<table border=\"1\" class=\"dataframe\">\n",
       "  <thead>\n",
       "    <tr style=\"text-align: right;\">\n",
       "      <th></th>\n",
       "      <th>House Number</th>\n",
       "      <th>Street</th>\n",
       "      <th>First Name</th>\n",
       "      <th>Surname</th>\n",
       "      <th>Age</th>\n",
       "      <th>Relationship to Head of House</th>\n",
       "      <th>Marital Status</th>\n",
       "      <th>Gender</th>\n",
       "      <th>Occupation</th>\n",
       "      <th>Infirmity</th>\n",
       "      <th>Religion</th>\n",
       "    </tr>\n",
       "  </thead>\n",
       "  <tbody>\n",
       "    <tr>\n",
       "      <th>4590</th>\n",
       "      <td>5</td>\n",
       "      <td>CherryChestnut Street</td>\n",
       "      <td>Leigh</td>\n",
       "      <td>Ellis</td>\n",
       "      <td>12</td>\n",
       "      <td>Son</td>\n",
       "      <td></td>\n",
       "      <td>Male</td>\n",
       "      <td>Student</td>\n",
       "      <td>NaN</td>\n",
       "      <td>NaN</td>\n",
       "    </tr>\n",
       "  </tbody>\n",
       "</table>\n",
       "</div>"
      ],
      "text/plain": [
       "      House Number                 Street First Name Surname Age  \\\n",
       "4590             5  CherryChestnut Street      Leigh   Ellis  12   \n",
       "\n",
       "     Relationship to Head of House Marital Status Gender Occupation Infirmity  \\\n",
       "4590                           Son                  Male    Student       NaN   \n",
       "\n",
       "     Religion  \n",
       "4590      NaN  "
      ]
     },
     "execution_count": 25,
     "metadata": {},
     "output_type": "execute_result"
    }
   ],
   "source": [
    "# Checking for blank input\n",
    "\n",
    "df_mockcensus[df_mockcensus['Marital Status'] == ' ']"
   ]
  },
  {
   "cell_type": "code",
   "execution_count": 26,
   "id": "9665f8a7",
   "metadata": {},
   "outputs": [
    {
     "data": {
      "text/plain": [
       "2273"
      ]
     },
     "execution_count": 26,
     "metadata": {},
     "output_type": "execute_result"
    }
   ],
   "source": [
    "# Checking for Nan values\n",
    "\n",
    "df_mockcensus['Marital Status'].isna().sum()"
   ]
  },
  {
   "cell_type": "code",
   "execution_count": 27,
   "id": "ed88bcdd",
   "metadata": {},
   "outputs": [
    {
     "data": {
      "text/plain": [
       "Marital Status\n",
       "Single      3443\n",
       "Married     2710\n",
       "Divorced     895\n",
       "Widowed      406\n",
       "               1\n",
       "Name: count, dtype: int64"
      ]
     },
     "execution_count": 27,
     "metadata": {},
     "output_type": "execute_result"
    }
   ],
   "source": [
    "# Checking frequency of each row \n",
    "\n",
    "df_mockcensus['Marital Status'].value_counts()"
   ]
  },
  {
   "cell_type": "markdown",
   "id": "a6070a52",
   "metadata": {},
   "source": [
    "### 8. Gender"
   ]
  },
  {
   "cell_type": "code",
   "execution_count": 28,
   "id": "add3e8e6",
   "metadata": {},
   "outputs": [
    {
     "data": {
      "text/plain": [
       "(array(['Female', 'Male', ' '], dtype=object), 3)"
      ]
     },
     "execution_count": 28,
     "metadata": {},
     "output_type": "execute_result"
    }
   ],
   "source": [
    "# Checking for unique values in the Gender column\n",
    "\n",
    "df_mockcensus[\"Gender\"].unique(), df_mockcensus[\"Gender\"].nunique()"
   ]
  },
  {
   "cell_type": "code",
   "execution_count": 29,
   "id": "681dab2f",
   "metadata": {},
   "outputs": [
    {
     "data": {
      "text/html": [
       "<div>\n",
       "<style scoped>\n",
       "    .dataframe tbody tr th:only-of-type {\n",
       "        vertical-align: middle;\n",
       "    }\n",
       "\n",
       "    .dataframe tbody tr th {\n",
       "        vertical-align: top;\n",
       "    }\n",
       "\n",
       "    .dataframe thead th {\n",
       "        text-align: right;\n",
       "    }\n",
       "</style>\n",
       "<table border=\"1\" class=\"dataframe\">\n",
       "  <thead>\n",
       "    <tr style=\"text-align: right;\">\n",
       "      <th></th>\n",
       "      <th>House Number</th>\n",
       "      <th>Street</th>\n",
       "      <th>First Name</th>\n",
       "      <th>Surname</th>\n",
       "      <th>Age</th>\n",
       "      <th>Relationship to Head of House</th>\n",
       "      <th>Marital Status</th>\n",
       "      <th>Gender</th>\n",
       "      <th>Occupation</th>\n",
       "      <th>Infirmity</th>\n",
       "      <th>Religion</th>\n",
       "    </tr>\n",
       "  </thead>\n",
       "  <tbody>\n",
       "    <tr>\n",
       "      <th>9599</th>\n",
       "      <td>9</td>\n",
       "      <td>ExcaliburBells Dam</td>\n",
       "      <td>Sophie</td>\n",
       "      <td>Doyle-Hurst</td>\n",
       "      <td>48</td>\n",
       "      <td>Partner</td>\n",
       "      <td>Single</td>\n",
       "      <td></td>\n",
       "      <td>Music therapist</td>\n",
       "      <td>NaN</td>\n",
       "      <td>NaN</td>\n",
       "    </tr>\n",
       "  </tbody>\n",
       "</table>\n",
       "</div>"
      ],
      "text/plain": [
       "      House Number              Street First Name      Surname Age  \\\n",
       "9599             9  ExcaliburBells Dam     Sophie  Doyle-Hurst  48   \n",
       "\n",
       "     Relationship to Head of House Marital Status Gender       Occupation  \\\n",
       "9599                       Partner         Single         Music therapist   \n",
       "\n",
       "     Infirmity Religion  \n",
       "9599       NaN      NaN  "
      ]
     },
     "execution_count": 29,
     "metadata": {},
     "output_type": "execute_result"
    }
   ],
   "source": [
    "# Checking for blank input\n",
    "\n",
    "df_mockcensus[df_mockcensus['Gender'] == ' ']"
   ]
  },
  {
   "cell_type": "code",
   "execution_count": 30,
   "id": "f576b316",
   "metadata": {},
   "outputs": [
    {
     "data": {
      "text/plain": [
       "Gender\n",
       "Female    5055\n",
       "Male      4672\n",
       "             1\n",
       "Name: count, dtype: int64"
      ]
     },
     "execution_count": 30,
     "metadata": {},
     "output_type": "execute_result"
    }
   ],
   "source": [
    "# Checking frequency of each row \n",
    "\n",
    "df_mockcensus['Gender'].value_counts()"
   ]
  },
  {
   "cell_type": "markdown",
   "id": "f5b47273",
   "metadata": {},
   "source": [
    "### 9. Occupation"
   ]
  },
  {
   "cell_type": "code",
   "execution_count": 31,
   "id": "26f70d87",
   "metadata": {},
   "outputs": [
    {
     "data": {
      "text/plain": [
       "(array(['Drilling engineer', 'Scientist, research (physical sciences)',\n",
       "        'Student', ..., 'Retired Secretary/administrator',\n",
       "        'Retired Occupational hygienist',\n",
       "        'Retired Research scientist (life sciences)'], dtype=object),\n",
       " 1113)"
      ]
     },
     "execution_count": 31,
     "metadata": {},
     "output_type": "execute_result"
    }
   ],
   "source": [
    "# Checking for unique values in the Occupation column\n",
    "\n",
    "df_mockcensus[\"Occupation\"].unique(), df_mockcensus[\"Occupation\"].nunique()"
   ]
  },
  {
   "cell_type": "code",
   "execution_count": 32,
   "id": "02c8526e",
   "metadata": {},
   "outputs": [
    {
     "data": {
      "text/html": [
       "<div>\n",
       "<style scoped>\n",
       "    .dataframe tbody tr th:only-of-type {\n",
       "        vertical-align: middle;\n",
       "    }\n",
       "\n",
       "    .dataframe tbody tr th {\n",
       "        vertical-align: top;\n",
       "    }\n",
       "\n",
       "    .dataframe thead th {\n",
       "        text-align: right;\n",
       "    }\n",
       "</style>\n",
       "<table border=\"1\" class=\"dataframe\">\n",
       "  <thead>\n",
       "    <tr style=\"text-align: right;\">\n",
       "      <th></th>\n",
       "      <th>House Number</th>\n",
       "      <th>Street</th>\n",
       "      <th>First Name</th>\n",
       "      <th>Surname</th>\n",
       "      <th>Age</th>\n",
       "      <th>Relationship to Head of House</th>\n",
       "      <th>Marital Status</th>\n",
       "      <th>Gender</th>\n",
       "      <th>Occupation</th>\n",
       "      <th>Infirmity</th>\n",
       "      <th>Religion</th>\n",
       "    </tr>\n",
       "  </thead>\n",
       "  <tbody>\n",
       "    <tr>\n",
       "      <th>8563</th>\n",
       "      <td>205</td>\n",
       "      <td>Willis Avenue</td>\n",
       "      <td>Bernard</td>\n",
       "      <td>Williams</td>\n",
       "      <td>21</td>\n",
       "      <td>Head</td>\n",
       "      <td>Single</td>\n",
       "      <td>Male</td>\n",
       "      <td></td>\n",
       "      <td>NaN</td>\n",
       "      <td>Methodist</td>\n",
       "    </tr>\n",
       "  </tbody>\n",
       "</table>\n",
       "</div>"
      ],
      "text/plain": [
       "      House Number         Street First Name   Surname Age  \\\n",
       "8563           205  Willis Avenue    Bernard  Williams  21   \n",
       "\n",
       "     Relationship to Head of House Marital Status Gender Occupation Infirmity  \\\n",
       "8563                          Head         Single   Male                  NaN   \n",
       "\n",
       "       Religion  \n",
       "8563  Methodist  "
      ]
     },
     "execution_count": 32,
     "metadata": {},
     "output_type": "execute_result"
    }
   ],
   "source": [
    "# Checking for blank input\n",
    "\n",
    "df_mockcensus[df_mockcensus['Occupation'] == ' ']"
   ]
  },
  {
   "cell_type": "code",
   "execution_count": 33,
   "id": "50fccba5",
   "metadata": {},
   "outputs": [
    {
     "data": {
      "text/plain": [
       "Occupation\n",
       "Student                                         1871\n",
       "Unemployed                                       593\n",
       "University Student                               571\n",
       "Child                                            537\n",
       "PhD Student                                       20\n",
       "                                                ... \n",
       "Retired Scientist, water quality                   1\n",
       "Retired Nurse, learning disability                 1\n",
       "Retired Energy manager                             1\n",
       "Retired English as a second language teacher       1\n",
       "Retired Research scientist (life sciences)         1\n",
       "Name: count, Length: 1113, dtype: int64"
      ]
     },
     "execution_count": 33,
     "metadata": {},
     "output_type": "execute_result"
    }
   ],
   "source": [
    "# Checking frequency of each row \n",
    "\n",
    "df_mockcensus['Occupation'].value_counts()"
   ]
  },
  {
   "cell_type": "markdown",
   "id": "9c638b83",
   "metadata": {},
   "source": [
    "### 10. Infirmity"
   ]
  },
  {
   "cell_type": "code",
   "execution_count": 34,
   "id": "7710e683",
   "metadata": {},
   "outputs": [
    {
     "data": {
      "text/plain": [
       "(array([nan, 'Deaf', 'Blind', 'Physical Disability', ' ', 'Disabled',\n",
       "        'Mental Disability', 'Unknown Infection'], dtype=object),\n",
       " 7)"
      ]
     },
     "execution_count": 34,
     "metadata": {},
     "output_type": "execute_result"
    }
   ],
   "source": [
    "# Checking for unique values in the Infirmity column\n",
    "\n",
    "df_mockcensus[\"Infirmity\"].unique(), df_mockcensus[\"Infirmity\"].nunique()"
   ]
  },
  {
   "cell_type": "code",
   "execution_count": 35,
   "id": "3308b707",
   "metadata": {},
   "outputs": [
    {
     "data": {
      "text/html": [
       "<div>\n",
       "<style scoped>\n",
       "    .dataframe tbody tr th:only-of-type {\n",
       "        vertical-align: middle;\n",
       "    }\n",
       "\n",
       "    .dataframe tbody tr th {\n",
       "        vertical-align: top;\n",
       "    }\n",
       "\n",
       "    .dataframe thead th {\n",
       "        text-align: right;\n",
       "    }\n",
       "</style>\n",
       "<table border=\"1\" class=\"dataframe\">\n",
       "  <thead>\n",
       "    <tr style=\"text-align: right;\">\n",
       "      <th></th>\n",
       "      <th>House Number</th>\n",
       "      <th>Street</th>\n",
       "      <th>First Name</th>\n",
       "      <th>Surname</th>\n",
       "      <th>Age</th>\n",
       "      <th>Relationship to Head of House</th>\n",
       "      <th>Marital Status</th>\n",
       "      <th>Gender</th>\n",
       "      <th>Occupation</th>\n",
       "      <th>Infirmity</th>\n",
       "      <th>Religion</th>\n",
       "    </tr>\n",
       "  </thead>\n",
       "  <tbody>\n",
       "    <tr>\n",
       "      <th>714</th>\n",
       "      <td>56</td>\n",
       "      <td>Wallis Rapids</td>\n",
       "      <td>Suzanne</td>\n",
       "      <td>Green</td>\n",
       "      <td>2</td>\n",
       "      <td>Daughter</td>\n",
       "      <td>NaN</td>\n",
       "      <td>Female</td>\n",
       "      <td>Child</td>\n",
       "      <td></td>\n",
       "      <td>NaN</td>\n",
       "    </tr>\n",
       "    <tr>\n",
       "      <th>3640</th>\n",
       "      <td>91</td>\n",
       "      <td>Green Squares</td>\n",
       "      <td>Georgia</td>\n",
       "      <td>Smith</td>\n",
       "      <td>61</td>\n",
       "      <td>NaN</td>\n",
       "      <td>Single</td>\n",
       "      <td>Female</td>\n",
       "      <td>Higher education careers adviser</td>\n",
       "      <td></td>\n",
       "      <td>Christian</td>\n",
       "    </tr>\n",
       "    <tr>\n",
       "      <th>5533</th>\n",
       "      <td>7</td>\n",
       "      <td>Kelly Dale</td>\n",
       "      <td>Jayne</td>\n",
       "      <td>Ashton-Mason</td>\n",
       "      <td>36</td>\n",
       "      <td>Daughter</td>\n",
       "      <td>Single</td>\n",
       "      <td>Female</td>\n",
       "      <td>Plant breeder/geneticist</td>\n",
       "      <td></td>\n",
       "      <td>NaN</td>\n",
       "    </tr>\n",
       "    <tr>\n",
       "      <th>8305</th>\n",
       "      <td>98</td>\n",
       "      <td>Willis Avenue</td>\n",
       "      <td>Carl</td>\n",
       "      <td>Richardson</td>\n",
       "      <td>59</td>\n",
       "      <td>Head</td>\n",
       "      <td>Single</td>\n",
       "      <td>Male</td>\n",
       "      <td>Production assistant, television</td>\n",
       "      <td></td>\n",
       "      <td>Methodist</td>\n",
       "    </tr>\n",
       "    <tr>\n",
       "      <th>8830</th>\n",
       "      <td>33</td>\n",
       "      <td>Taurus Garden</td>\n",
       "      <td>Cheryl</td>\n",
       "      <td>King</td>\n",
       "      <td>30</td>\n",
       "      <td>Head</td>\n",
       "      <td>Single</td>\n",
       "      <td>Female</td>\n",
       "      <td>Ranger/warden</td>\n",
       "      <td></td>\n",
       "      <td>Sikh</td>\n",
       "    </tr>\n",
       "    <tr>\n",
       "      <th>9683</th>\n",
       "      <td>1</td>\n",
       "      <td>Woodward Cabin</td>\n",
       "      <td>Timothy</td>\n",
       "      <td>Harris</td>\n",
       "      <td>34</td>\n",
       "      <td>Visitor</td>\n",
       "      <td>Divorced</td>\n",
       "      <td>Male</td>\n",
       "      <td>Hydrogeologist</td>\n",
       "      <td></td>\n",
       "      <td>Christian</td>\n",
       "    </tr>\n",
       "  </tbody>\n",
       "</table>\n",
       "</div>"
      ],
      "text/plain": [
       "      House Number          Street First Name       Surname Age  \\\n",
       "714             56   Wallis Rapids    Suzanne         Green   2   \n",
       "3640            91   Green Squares    Georgia         Smith  61   \n",
       "5533             7      Kelly Dale      Jayne  Ashton-Mason  36   \n",
       "8305            98   Willis Avenue       Carl    Richardson  59   \n",
       "8830            33   Taurus Garden     Cheryl          King  30   \n",
       "9683             1  Woodward Cabin    Timothy        Harris  34   \n",
       "\n",
       "     Relationship to Head of House Marital Status  Gender  \\\n",
       "714                       Daughter            NaN  Female   \n",
       "3640                           NaN         Single  Female   \n",
       "5533                      Daughter         Single  Female   \n",
       "8305                          Head         Single    Male   \n",
       "8830                          Head         Single  Female   \n",
       "9683                       Visitor       Divorced    Male   \n",
       "\n",
       "                            Occupation Infirmity   Religion  \n",
       "714                              Child                  NaN  \n",
       "3640  Higher education careers adviser            Christian  \n",
       "5533          Plant breeder/geneticist                  NaN  \n",
       "8305  Production assistant, television            Methodist  \n",
       "8830                     Ranger/warden                 Sikh  \n",
       "9683                    Hydrogeologist            Christian  "
      ]
     },
     "execution_count": 35,
     "metadata": {},
     "output_type": "execute_result"
    }
   ],
   "source": [
    "# Checking for blank input\n",
    "\n",
    "df_mockcensus[df_mockcensus['Infirmity'] == ' ']"
   ]
  },
  {
   "cell_type": "code",
   "execution_count": 36,
   "id": "ab9c080d",
   "metadata": {},
   "outputs": [
    {
     "data": {
      "text/plain": [
       "Infirmity\n",
       "Physical Disability    16\n",
       "Blind                  14\n",
       "Mental Disability      12\n",
       "Deaf                   10\n",
       "Unknown Infection       8\n",
       "                        6\n",
       "Disabled                5\n",
       "Name: count, dtype: int64"
      ]
     },
     "execution_count": 36,
     "metadata": {},
     "output_type": "execute_result"
    }
   ],
   "source": [
    "# Checking frequency of each row \n",
    "\n",
    "df_mockcensus['Infirmity'].value_counts()"
   ]
  },
  {
   "cell_type": "markdown",
   "id": "41553563",
   "metadata": {},
   "source": [
    "### 11. Religion"
   ]
  },
  {
   "cell_type": "code",
   "execution_count": 37,
   "id": "89759fe8",
   "metadata": {},
   "outputs": [
    {
     "data": {
      "text/plain": [
       "(array(['Catholic', nan, 'Christian', 'Methodist', 'Jewish', 'Muslim',\n",
       "        'Sikh', 'Jedi', 'Bahai', 'Quaker', 'Pagan', ' ', 'Housekeeper'],\n",
       "       dtype=object),\n",
       " 12)"
      ]
     },
     "execution_count": 37,
     "metadata": {},
     "output_type": "execute_result"
    }
   ],
   "source": [
    "# Checking for unique values in the Religion column\n",
    "\n",
    "df_mockcensus[\"Religion\"].unique(), df_mockcensus[\"Religion\"].nunique()"
   ]
  },
  {
   "cell_type": "code",
   "execution_count": 38,
   "id": "35c2b777",
   "metadata": {},
   "outputs": [
    {
     "data": {
      "text/html": [
       "<div>\n",
       "<style scoped>\n",
       "    .dataframe tbody tr th:only-of-type {\n",
       "        vertical-align: middle;\n",
       "    }\n",
       "\n",
       "    .dataframe tbody tr th {\n",
       "        vertical-align: top;\n",
       "    }\n",
       "\n",
       "    .dataframe thead th {\n",
       "        text-align: right;\n",
       "    }\n",
       "</style>\n",
       "<table border=\"1\" class=\"dataframe\">\n",
       "  <thead>\n",
       "    <tr style=\"text-align: right;\">\n",
       "      <th></th>\n",
       "      <th>House Number</th>\n",
       "      <th>Street</th>\n",
       "      <th>First Name</th>\n",
       "      <th>Surname</th>\n",
       "      <th>Age</th>\n",
       "      <th>Relationship to Head of House</th>\n",
       "      <th>Marital Status</th>\n",
       "      <th>Gender</th>\n",
       "      <th>Occupation</th>\n",
       "      <th>Infirmity</th>\n",
       "      <th>Religion</th>\n",
       "    </tr>\n",
       "  </thead>\n",
       "  <tbody>\n",
       "    <tr>\n",
       "      <th>5791</th>\n",
       "      <td>6</td>\n",
       "      <td>Cook Plaza</td>\n",
       "      <td>Alan</td>\n",
       "      <td>Nicholls</td>\n",
       "      <td>34</td>\n",
       "      <td>NaN</td>\n",
       "      <td>Divorced</td>\n",
       "      <td>Male</td>\n",
       "      <td>Drilling engineer</td>\n",
       "      <td>NaN</td>\n",
       "      <td></td>\n",
       "    </tr>\n",
       "  </tbody>\n",
       "</table>\n",
       "</div>"
      ],
      "text/plain": [
       "      House Number      Street First Name   Surname Age  \\\n",
       "5791             6  Cook Plaza       Alan  Nicholls  34   \n",
       "\n",
       "     Relationship to Head of House Marital Status Gender         Occupation  \\\n",
       "5791                           NaN       Divorced   Male  Drilling engineer   \n",
       "\n",
       "     Infirmity Religion  \n",
       "5791       NaN           "
      ]
     },
     "execution_count": 38,
     "metadata": {},
     "output_type": "execute_result"
    }
   ],
   "source": [
    "# Checking for blank input\n",
    "\n",
    "df_mockcensus[df_mockcensus['Religion'] == ' ']"
   ]
  },
  {
   "cell_type": "code",
   "execution_count": 39,
   "id": "13ae51ea",
   "metadata": {},
   "outputs": [
    {
     "data": {
      "text/plain": [
       "5561"
      ]
     },
     "execution_count": 39,
     "metadata": {},
     "output_type": "execute_result"
    }
   ],
   "source": [
    "# Checking for sum of NaN values\n",
    "\n",
    "df_mockcensus['Religion'].isna().sum()"
   ]
  },
  {
   "cell_type": "code",
   "execution_count": 40,
   "id": "a5d38d91",
   "metadata": {},
   "outputs": [
    {
     "data": {
      "text/plain": [
       "Religion\n",
       "Christian      2261\n",
       "Catholic       1034\n",
       "Methodist       636\n",
       "Muslim          120\n",
       "Sikh             68\n",
       "Jewish           37\n",
       "Quaker            3\n",
       "Jedi              2\n",
       "Bahai             2\n",
       "Pagan             2\n",
       "                  1\n",
       "Housekeeper       1\n",
       "Name: count, dtype: int64"
      ]
     },
     "execution_count": 40,
     "metadata": {},
     "output_type": "execute_result"
    }
   ],
   "source": [
    "# Checking frequency of each row \n",
    "\n",
    "df_mockcensus['Religion'].value_counts()"
   ]
  },
  {
   "cell_type": "markdown",
   "id": "c6b15eda",
   "metadata": {},
   "source": [
    "### Data Problems seen from viewing the data\n",
    "\n",
    "From the inspection of the data, some problems were noticed. In other to get as much accurate information as possible to decide what should be built on the empty piece of land, the data has to be cleaned.\n",
    "\n",
    "Below is a list of the problems with the data and how I went about cleaning them beginning with the first problematic column to the last column. "
   ]
  },
  {
   "cell_type": "code",
   "execution_count": 41,
   "id": "513ba25a",
   "metadata": {},
   "outputs": [],
   "source": [
    "# Making a copy of the original dataset before cleaning\n",
    "\n",
    "df_copy = df_mockcensus.copy()"
   ]
  },
  {
   "cell_type": "markdown",
   "id": "6eb6d16c",
   "metadata": {},
   "source": [
    "  "
   ]
  },
  {
   "cell_type": "markdown",
   "id": "73437ce0",
   "metadata": {},
   "source": [
    "## DATA CLEANING"
   ]
  },
  {
   "cell_type": "markdown",
   "id": "3b4727e0",
   "metadata": {},
   "source": [
    "### 1. First Name column contains a blank input"
   ]
  },
  {
   "cell_type": "code",
   "execution_count": 42,
   "id": "28019c34",
   "metadata": {},
   "outputs": [
    {
     "data": {
      "text/html": [
       "<div>\n",
       "<style scoped>\n",
       "    .dataframe tbody tr th:only-of-type {\n",
       "        vertical-align: middle;\n",
       "    }\n",
       "\n",
       "    .dataframe tbody tr th {\n",
       "        vertical-align: top;\n",
       "    }\n",
       "\n",
       "    .dataframe thead th {\n",
       "        text-align: right;\n",
       "    }\n",
       "</style>\n",
       "<table border=\"1\" class=\"dataframe\">\n",
       "  <thead>\n",
       "    <tr style=\"text-align: right;\">\n",
       "      <th></th>\n",
       "      <th>House Number</th>\n",
       "      <th>Street</th>\n",
       "      <th>First Name</th>\n",
       "      <th>Surname</th>\n",
       "      <th>Age</th>\n",
       "      <th>Relationship to Head of House</th>\n",
       "      <th>Marital Status</th>\n",
       "      <th>Gender</th>\n",
       "      <th>Occupation</th>\n",
       "      <th>Infirmity</th>\n",
       "      <th>Religion</th>\n",
       "    </tr>\n",
       "  </thead>\n",
       "  <tbody>\n",
       "    <tr>\n",
       "      <th>2614</th>\n",
       "      <td>21</td>\n",
       "      <td>Webb Parkway</td>\n",
       "      <td></td>\n",
       "      <td>Gardner</td>\n",
       "      <td>21</td>\n",
       "      <td>Daughter</td>\n",
       "      <td>Single</td>\n",
       "      <td>Female</td>\n",
       "      <td>University Student</td>\n",
       "      <td>NaN</td>\n",
       "      <td>NaN</td>\n",
       "    </tr>\n",
       "  </tbody>\n",
       "</table>\n",
       "</div>"
      ],
      "text/plain": [
       "      House Number        Street First Name  Surname Age  \\\n",
       "2614            21  Webb Parkway             Gardner  21   \n",
       "\n",
       "     Relationship to Head of House Marital Status  Gender          Occupation  \\\n",
       "2614                      Daughter         Single  Female  University Student   \n",
       "\n",
       "     Infirmity Religion  \n",
       "2614       NaN      NaN  "
      ]
     },
     "execution_count": 42,
     "metadata": {},
     "output_type": "execute_result"
    }
   ],
   "source": [
    "# Checking for blank input\n",
    "\n",
    "df_copy[df_copy['First Name'] == ' ']"
   ]
  },
  {
   "cell_type": "code",
   "execution_count": 43,
   "id": "d14f7e74",
   "metadata": {
    "scrolled": true
   },
   "outputs": [
    {
     "data": {
      "text/html": [
       "<div>\n",
       "<style scoped>\n",
       "    .dataframe tbody tr th:only-of-type {\n",
       "        vertical-align: middle;\n",
       "    }\n",
       "\n",
       "    .dataframe tbody tr th {\n",
       "        vertical-align: top;\n",
       "    }\n",
       "\n",
       "    .dataframe thead th {\n",
       "        text-align: right;\n",
       "    }\n",
       "</style>\n",
       "<table border=\"1\" class=\"dataframe\">\n",
       "  <thead>\n",
       "    <tr style=\"text-align: right;\">\n",
       "      <th></th>\n",
       "      <th>House Number</th>\n",
       "      <th>Street</th>\n",
       "      <th>First Name</th>\n",
       "      <th>Surname</th>\n",
       "      <th>Age</th>\n",
       "      <th>Relationship to Head of House</th>\n",
       "      <th>Marital Status</th>\n",
       "      <th>Gender</th>\n",
       "      <th>Occupation</th>\n",
       "      <th>Infirmity</th>\n",
       "      <th>Religion</th>\n",
       "    </tr>\n",
       "  </thead>\n",
       "  <tbody>\n",
       "    <tr>\n",
       "      <th>2612</th>\n",
       "      <td>21</td>\n",
       "      <td>Webb Parkway</td>\n",
       "      <td>Naomi</td>\n",
       "      <td>Gardner</td>\n",
       "      <td>55</td>\n",
       "      <td>Head</td>\n",
       "      <td>Single</td>\n",
       "      <td>Female</td>\n",
       "      <td>Research officer, trade union</td>\n",
       "      <td>NaN</td>\n",
       "      <td>NaN</td>\n",
       "    </tr>\n",
       "    <tr>\n",
       "      <th>2613</th>\n",
       "      <td>21</td>\n",
       "      <td>Webb Parkway</td>\n",
       "      <td>Jacob</td>\n",
       "      <td>Brown</td>\n",
       "      <td>55</td>\n",
       "      <td>Partner</td>\n",
       "      <td>Single</td>\n",
       "      <td>Male</td>\n",
       "      <td>Sports coach</td>\n",
       "      <td>NaN</td>\n",
       "      <td>NaN</td>\n",
       "    </tr>\n",
       "    <tr>\n",
       "      <th>2614</th>\n",
       "      <td>21</td>\n",
       "      <td>Webb Parkway</td>\n",
       "      <td></td>\n",
       "      <td>Gardner</td>\n",
       "      <td>21</td>\n",
       "      <td>Daughter</td>\n",
       "      <td>Single</td>\n",
       "      <td>Female</td>\n",
       "      <td>University Student</td>\n",
       "      <td>NaN</td>\n",
       "      <td>NaN</td>\n",
       "    </tr>\n",
       "    <tr>\n",
       "      <th>2615</th>\n",
       "      <td>21</td>\n",
       "      <td>Webb Parkway</td>\n",
       "      <td>Rachel</td>\n",
       "      <td>Gardner</td>\n",
       "      <td>20</td>\n",
       "      <td>Daughter</td>\n",
       "      <td>Single</td>\n",
       "      <td>Female</td>\n",
       "      <td>University Student</td>\n",
       "      <td>NaN</td>\n",
       "      <td>NaN</td>\n",
       "    </tr>\n",
       "    <tr>\n",
       "      <th>2616</th>\n",
       "      <td>21</td>\n",
       "      <td>Webb Parkway</td>\n",
       "      <td>Richard</td>\n",
       "      <td>Gardner</td>\n",
       "      <td>7</td>\n",
       "      <td>Son</td>\n",
       "      <td>NaN</td>\n",
       "      <td>Male</td>\n",
       "      <td>Student</td>\n",
       "      <td>NaN</td>\n",
       "      <td>NaN</td>\n",
       "    </tr>\n",
       "  </tbody>\n",
       "</table>\n",
       "</div>"
      ],
      "text/plain": [
       "      House Number        Street First Name  Surname Age  \\\n",
       "2612            21  Webb Parkway      Naomi  Gardner  55   \n",
       "2613            21  Webb Parkway      Jacob    Brown  55   \n",
       "2614            21  Webb Parkway             Gardner  21   \n",
       "2615            21  Webb Parkway     Rachel  Gardner  20   \n",
       "2616            21  Webb Parkway    Richard  Gardner   7   \n",
       "\n",
       "     Relationship to Head of House Marital Status  Gender  \\\n",
       "2612                          Head         Single  Female   \n",
       "2613                       Partner         Single    Male   \n",
       "2614                      Daughter         Single  Female   \n",
       "2615                      Daughter         Single  Female   \n",
       "2616                           Son            NaN    Male   \n",
       "\n",
       "                         Occupation Infirmity Religion  \n",
       "2612  Research officer, trade union       NaN      NaN  \n",
       "2613                   Sports coach       NaN      NaN  \n",
       "2614             University Student       NaN      NaN  \n",
       "2615             University Student       NaN      NaN  \n",
       "2616                        Student       NaN      NaN  "
      ]
     },
     "execution_count": 43,
     "metadata": {},
     "output_type": "execute_result"
    }
   ],
   "source": [
    "# Obtaining data of individuals residing in the same residence \n",
    "\n",
    "df_copy[(df_copy['Street'] == 'Webb Parkway') & (df_copy['House Number'] == 21)]"
   ]
  },
  {
   "cell_type": "code",
   "execution_count": 44,
   "id": "a895cbd7",
   "metadata": {},
   "outputs": [],
   "source": [
    "# Replacing blank with unundetermined as first name can't be determined from data given\n",
    "\n",
    "df_copy['First Name'] = df_copy['First Name'].replace(' ', 'Undetermined')"
   ]
  },
  {
   "cell_type": "markdown",
   "id": "0cf65315",
   "metadata": {},
   "source": [
    "### Verify Implementation"
   ]
  },
  {
   "cell_type": "code",
   "execution_count": 45,
   "id": "919d5f1c",
   "metadata": {
    "scrolled": true
   },
   "outputs": [
    {
     "data": {
      "text/html": [
       "<div>\n",
       "<style scoped>\n",
       "    .dataframe tbody tr th:only-of-type {\n",
       "        vertical-align: middle;\n",
       "    }\n",
       "\n",
       "    .dataframe tbody tr th {\n",
       "        vertical-align: top;\n",
       "    }\n",
       "\n",
       "    .dataframe thead th {\n",
       "        text-align: right;\n",
       "    }\n",
       "</style>\n",
       "<table border=\"1\" class=\"dataframe\">\n",
       "  <thead>\n",
       "    <tr style=\"text-align: right;\">\n",
       "      <th></th>\n",
       "      <th>House Number</th>\n",
       "      <th>Street</th>\n",
       "      <th>First Name</th>\n",
       "      <th>Surname</th>\n",
       "      <th>Age</th>\n",
       "      <th>Relationship to Head of House</th>\n",
       "      <th>Marital Status</th>\n",
       "      <th>Gender</th>\n",
       "      <th>Occupation</th>\n",
       "      <th>Infirmity</th>\n",
       "      <th>Religion</th>\n",
       "    </tr>\n",
       "  </thead>\n",
       "  <tbody>\n",
       "  </tbody>\n",
       "</table>\n",
       "</div>"
      ],
      "text/plain": [
       "Empty DataFrame\n",
       "Columns: [House Number, Street, First Name, Surname, Age, Relationship to Head of House, Marital Status, Gender, Occupation, Infirmity, Religion]\n",
       "Index: []"
      ]
     },
     "execution_count": 45,
     "metadata": {},
     "output_type": "execute_result"
    }
   ],
   "source": [
    "# Checking for blank input\n",
    "\n",
    "df_copy[df_copy['First Name'] == ' ']"
   ]
  },
  {
   "cell_type": "markdown",
   "id": "a6fdafa0",
   "metadata": {},
   "source": [
    "  "
   ]
  },
  {
   "cell_type": "markdown",
   "id": "b04b870b",
   "metadata": {},
   "source": [
    "### 2. Surname column contains a blank input"
   ]
  },
  {
   "cell_type": "code",
   "execution_count": 46,
   "id": "c091956f",
   "metadata": {},
   "outputs": [
    {
     "data": {
      "text/html": [
       "<div>\n",
       "<style scoped>\n",
       "    .dataframe tbody tr th:only-of-type {\n",
       "        vertical-align: middle;\n",
       "    }\n",
       "\n",
       "    .dataframe tbody tr th {\n",
       "        vertical-align: top;\n",
       "    }\n",
       "\n",
       "    .dataframe thead th {\n",
       "        text-align: right;\n",
       "    }\n",
       "</style>\n",
       "<table border=\"1\" class=\"dataframe\">\n",
       "  <thead>\n",
       "    <tr style=\"text-align: right;\">\n",
       "      <th></th>\n",
       "      <th>House Number</th>\n",
       "      <th>Street</th>\n",
       "      <th>First Name</th>\n",
       "      <th>Surname</th>\n",
       "      <th>Age</th>\n",
       "      <th>Relationship to Head of House</th>\n",
       "      <th>Marital Status</th>\n",
       "      <th>Gender</th>\n",
       "      <th>Occupation</th>\n",
       "      <th>Infirmity</th>\n",
       "      <th>Religion</th>\n",
       "    </tr>\n",
       "  </thead>\n",
       "  <tbody>\n",
       "    <tr>\n",
       "      <th>5613</th>\n",
       "      <td>28</td>\n",
       "      <td>Kelly Dale</td>\n",
       "      <td>Rachel</td>\n",
       "      <td></td>\n",
       "      <td>37</td>\n",
       "      <td>Head</td>\n",
       "      <td>Single</td>\n",
       "      <td>Female</td>\n",
       "      <td>Medical sales representative</td>\n",
       "      <td>NaN</td>\n",
       "      <td>Christian</td>\n",
       "    </tr>\n",
       "  </tbody>\n",
       "</table>\n",
       "</div>"
      ],
      "text/plain": [
       "      House Number      Street First Name Surname Age  \\\n",
       "5613            28  Kelly Dale     Rachel          37   \n",
       "\n",
       "     Relationship to Head of House Marital Status  Gender  \\\n",
       "5613                          Head         Single  Female   \n",
       "\n",
       "                        Occupation Infirmity   Religion  \n",
       "5613  Medical sales representative       NaN  Christian  "
      ]
     },
     "execution_count": 46,
     "metadata": {},
     "output_type": "execute_result"
    }
   ],
   "source": [
    "# Checking for blank input\n",
    "\n",
    "df_copy[df_copy['Surname'] == ' ']"
   ]
  },
  {
   "cell_type": "code",
   "execution_count": 47,
   "id": "34e42274",
   "metadata": {},
   "outputs": [
    {
     "data": {
      "text/html": [
       "<div>\n",
       "<style scoped>\n",
       "    .dataframe tbody tr th:only-of-type {\n",
       "        vertical-align: middle;\n",
       "    }\n",
       "\n",
       "    .dataframe tbody tr th {\n",
       "        vertical-align: top;\n",
       "    }\n",
       "\n",
       "    .dataframe thead th {\n",
       "        text-align: right;\n",
       "    }\n",
       "</style>\n",
       "<table border=\"1\" class=\"dataframe\">\n",
       "  <thead>\n",
       "    <tr style=\"text-align: right;\">\n",
       "      <th></th>\n",
       "      <th>House Number</th>\n",
       "      <th>Street</th>\n",
       "      <th>First Name</th>\n",
       "      <th>Surname</th>\n",
       "      <th>Age</th>\n",
       "      <th>Relationship to Head of House</th>\n",
       "      <th>Marital Status</th>\n",
       "      <th>Gender</th>\n",
       "      <th>Occupation</th>\n",
       "      <th>Infirmity</th>\n",
       "      <th>Religion</th>\n",
       "    </tr>\n",
       "  </thead>\n",
       "  <tbody>\n",
       "    <tr>\n",
       "      <th>5613</th>\n",
       "      <td>28</td>\n",
       "      <td>Kelly Dale</td>\n",
       "      <td>Rachel</td>\n",
       "      <td></td>\n",
       "      <td>37</td>\n",
       "      <td>Head</td>\n",
       "      <td>Single</td>\n",
       "      <td>Female</td>\n",
       "      <td>Medical sales representative</td>\n",
       "      <td>NaN</td>\n",
       "      <td>Christian</td>\n",
       "    </tr>\n",
       "    <tr>\n",
       "      <th>5614</th>\n",
       "      <td>28</td>\n",
       "      <td>Kelly Dale</td>\n",
       "      <td>Paula</td>\n",
       "      <td>Greenwood</td>\n",
       "      <td>2</td>\n",
       "      <td>Daughter</td>\n",
       "      <td>NaN</td>\n",
       "      <td>Female</td>\n",
       "      <td>Child</td>\n",
       "      <td>NaN</td>\n",
       "      <td>NaN</td>\n",
       "    </tr>\n",
       "    <tr>\n",
       "      <th>5615</th>\n",
       "      <td>28</td>\n",
       "      <td>Kelly Dale</td>\n",
       "      <td>Frank</td>\n",
       "      <td>Greenwood</td>\n",
       "      <td>0</td>\n",
       "      <td>Son</td>\n",
       "      <td>NaN</td>\n",
       "      <td>Male</td>\n",
       "      <td>Child</td>\n",
       "      <td>NaN</td>\n",
       "      <td>NaN</td>\n",
       "    </tr>\n",
       "    <tr>\n",
       "      <th>5616</th>\n",
       "      <td>28</td>\n",
       "      <td>Kelly Dale</td>\n",
       "      <td>Julia</td>\n",
       "      <td>Morgan</td>\n",
       "      <td>20</td>\n",
       "      <td>Lodger</td>\n",
       "      <td>Single</td>\n",
       "      <td>Female</td>\n",
       "      <td>Fashion designer</td>\n",
       "      <td>NaN</td>\n",
       "      <td>Muslim</td>\n",
       "    </tr>\n",
       "  </tbody>\n",
       "</table>\n",
       "</div>"
      ],
      "text/plain": [
       "      House Number      Street First Name    Surname Age  \\\n",
       "5613            28  Kelly Dale     Rachel             37   \n",
       "5614            28  Kelly Dale      Paula  Greenwood   2   \n",
       "5615            28  Kelly Dale      Frank  Greenwood   0   \n",
       "5616            28  Kelly Dale      Julia     Morgan  20   \n",
       "\n",
       "     Relationship to Head of House Marital Status  Gender  \\\n",
       "5613                          Head         Single  Female   \n",
       "5614                      Daughter            NaN  Female   \n",
       "5615                           Son            NaN    Male   \n",
       "5616                        Lodger         Single  Female   \n",
       "\n",
       "                        Occupation Infirmity   Religion  \n",
       "5613  Medical sales representative       NaN  Christian  \n",
       "5614                         Child       NaN        NaN  \n",
       "5615                         Child       NaN        NaN  \n",
       "5616              Fashion designer       NaN     Muslim  "
      ]
     },
     "execution_count": 47,
     "metadata": {},
     "output_type": "execute_result"
    }
   ],
   "source": [
    "# Obtaining data of individuals residing in the same residence as it increases the chances of them being family and bearing the same last name\n",
    "\n",
    "df_copy[(df_copy['Street'] == 'Kelly Dale') & (df_copy['House Number'] == 28)]"
   ]
  },
  {
   "cell_type": "code",
   "execution_count": 48,
   "id": "1aaf5e7e",
   "metadata": {},
   "outputs": [],
   "source": [
    "# Assigning 'Greenwood' as the surname to the blank input since the data suggests she might be the mother to Paula and Frank Greenwood.\n",
    "\n",
    "df_copy['Surname'] = df_copy['Surname'].replace(' ', 'Greenwood')"
   ]
  },
  {
   "cell_type": "markdown",
   "id": "800aabc2",
   "metadata": {},
   "source": [
    "### Verify Implementation"
   ]
  },
  {
   "cell_type": "code",
   "execution_count": 49,
   "id": "d0155097",
   "metadata": {
    "scrolled": true
   },
   "outputs": [
    {
     "data": {
      "text/html": [
       "<div>\n",
       "<style scoped>\n",
       "    .dataframe tbody tr th:only-of-type {\n",
       "        vertical-align: middle;\n",
       "    }\n",
       "\n",
       "    .dataframe tbody tr th {\n",
       "        vertical-align: top;\n",
       "    }\n",
       "\n",
       "    .dataframe thead th {\n",
       "        text-align: right;\n",
       "    }\n",
       "</style>\n",
       "<table border=\"1\" class=\"dataframe\">\n",
       "  <thead>\n",
       "    <tr style=\"text-align: right;\">\n",
       "      <th></th>\n",
       "      <th>House Number</th>\n",
       "      <th>Street</th>\n",
       "      <th>First Name</th>\n",
       "      <th>Surname</th>\n",
       "      <th>Age</th>\n",
       "      <th>Relationship to Head of House</th>\n",
       "      <th>Marital Status</th>\n",
       "      <th>Gender</th>\n",
       "      <th>Occupation</th>\n",
       "      <th>Infirmity</th>\n",
       "      <th>Religion</th>\n",
       "    </tr>\n",
       "  </thead>\n",
       "  <tbody>\n",
       "  </tbody>\n",
       "</table>\n",
       "</div>"
      ],
      "text/plain": [
       "Empty DataFrame\n",
       "Columns: [House Number, Street, First Name, Surname, Age, Relationship to Head of House, Marital Status, Gender, Occupation, Infirmity, Religion]\n",
       "Index: []"
      ]
     },
     "execution_count": 49,
     "metadata": {},
     "output_type": "execute_result"
    }
   ],
   "source": [
    "# Checking for blank input\n",
    "\n",
    "df_copy[df_copy['Surname'] == ' ']"
   ]
  },
  {
   "cell_type": "markdown",
   "id": "28ba652b",
   "metadata": {},
   "source": [
    "  "
   ]
  },
  {
   "cell_type": "markdown",
   "id": "4603c533",
   "metadata": {},
   "source": [
    "### 3. Age column contains two blank inputs and not all entries in this column are integers as should be."
   ]
  },
  {
   "cell_type": "code",
   "execution_count": 50,
   "id": "a8f4c726",
   "metadata": {},
   "outputs": [
    {
     "data": {
      "text/html": [
       "<div>\n",
       "<style scoped>\n",
       "    .dataframe tbody tr th:only-of-type {\n",
       "        vertical-align: middle;\n",
       "    }\n",
       "\n",
       "    .dataframe tbody tr th {\n",
       "        vertical-align: top;\n",
       "    }\n",
       "\n",
       "    .dataframe thead th {\n",
       "        text-align: right;\n",
       "    }\n",
       "</style>\n",
       "<table border=\"1\" class=\"dataframe\">\n",
       "  <thead>\n",
       "    <tr style=\"text-align: right;\">\n",
       "      <th></th>\n",
       "      <th>House Number</th>\n",
       "      <th>Street</th>\n",
       "      <th>First Name</th>\n",
       "      <th>Surname</th>\n",
       "      <th>Age</th>\n",
       "      <th>Relationship to Head of House</th>\n",
       "      <th>Marital Status</th>\n",
       "      <th>Gender</th>\n",
       "      <th>Occupation</th>\n",
       "      <th>Infirmity</th>\n",
       "      <th>Religion</th>\n",
       "    </tr>\n",
       "  </thead>\n",
       "  <tbody>\n",
       "    <tr>\n",
       "      <th>6819</th>\n",
       "      <td>33</td>\n",
       "      <td>Bank Street</td>\n",
       "      <td>Georgia</td>\n",
       "      <td>Poole</td>\n",
       "      <td></td>\n",
       "      <td>Head</td>\n",
       "      <td>Married</td>\n",
       "      <td>Female</td>\n",
       "      <td>Retired Production manager</td>\n",
       "      <td>NaN</td>\n",
       "      <td>Catholic</td>\n",
       "    </tr>\n",
       "    <tr>\n",
       "      <th>9422</th>\n",
       "      <td>32</td>\n",
       "      <td>Bank Burg</td>\n",
       "      <td>Mitchell</td>\n",
       "      <td>Jordan</td>\n",
       "      <td></td>\n",
       "      <td>Partner</td>\n",
       "      <td>Single</td>\n",
       "      <td>Male</td>\n",
       "      <td>Sales executive</td>\n",
       "      <td>NaN</td>\n",
       "      <td>Christian</td>\n",
       "    </tr>\n",
       "  </tbody>\n",
       "</table>\n",
       "</div>"
      ],
      "text/plain": [
       "      House Number       Street First Name Surname Age  \\\n",
       "6819            33  Bank Street    Georgia   Poole       \n",
       "9422            32    Bank Burg   Mitchell  Jordan       \n",
       "\n",
       "     Relationship to Head of House Marital Status  Gender  \\\n",
       "6819                          Head        Married  Female   \n",
       "9422                       Partner         Single    Male   \n",
       "\n",
       "                      Occupation Infirmity   Religion  \n",
       "6819  Retired Production manager       NaN   Catholic  \n",
       "9422             Sales executive       NaN  Christian  "
      ]
     },
     "execution_count": 50,
     "metadata": {},
     "output_type": "execute_result"
    }
   ],
   "source": [
    "# Checking for blank input\n",
    "\n",
    "df_copy[df_copy['Age'] == ' ']"
   ]
  },
  {
   "cell_type": "markdown",
   "id": "0cd671b4",
   "metadata": {},
   "source": [
    "#### Blank Input 6819"
   ]
  },
  {
   "cell_type": "code",
   "execution_count": 51,
   "id": "c8522b6e",
   "metadata": {
    "scrolled": true
   },
   "outputs": [
    {
     "data": {
      "text/html": [
       "<div>\n",
       "<style scoped>\n",
       "    .dataframe tbody tr th:only-of-type {\n",
       "        vertical-align: middle;\n",
       "    }\n",
       "\n",
       "    .dataframe tbody tr th {\n",
       "        vertical-align: top;\n",
       "    }\n",
       "\n",
       "    .dataframe thead th {\n",
       "        text-align: right;\n",
       "    }\n",
       "</style>\n",
       "<table border=\"1\" class=\"dataframe\">\n",
       "  <thead>\n",
       "    <tr style=\"text-align: right;\">\n",
       "      <th></th>\n",
       "      <th>House Number</th>\n",
       "      <th>Street</th>\n",
       "      <th>First Name</th>\n",
       "      <th>Surname</th>\n",
       "      <th>Age</th>\n",
       "      <th>Relationship to Head of House</th>\n",
       "      <th>Marital Status</th>\n",
       "      <th>Gender</th>\n",
       "      <th>Occupation</th>\n",
       "      <th>Infirmity</th>\n",
       "      <th>Religion</th>\n",
       "    </tr>\n",
       "  </thead>\n",
       "  <tbody>\n",
       "    <tr>\n",
       "      <th>6819</th>\n",
       "      <td>33</td>\n",
       "      <td>Bank Street</td>\n",
       "      <td>Georgia</td>\n",
       "      <td>Poole</td>\n",
       "      <td></td>\n",
       "      <td>Head</td>\n",
       "      <td>Married</td>\n",
       "      <td>Female</td>\n",
       "      <td>Retired Production manager</td>\n",
       "      <td>NaN</td>\n",
       "      <td>Catholic</td>\n",
       "    </tr>\n",
       "    <tr>\n",
       "      <th>6820</th>\n",
       "      <td>33</td>\n",
       "      <td>Bank Street</td>\n",
       "      <td>Aaron</td>\n",
       "      <td>Poole</td>\n",
       "      <td>73</td>\n",
       "      <td>Husband</td>\n",
       "      <td>Married</td>\n",
       "      <td>Male</td>\n",
       "      <td>Retired Surveyor, commercial/residential</td>\n",
       "      <td>NaN</td>\n",
       "      <td>NaN</td>\n",
       "    </tr>\n",
       "  </tbody>\n",
       "</table>\n",
       "</div>"
      ],
      "text/plain": [
       "      House Number       Street First Name Surname Age  \\\n",
       "6819            33  Bank Street    Georgia   Poole       \n",
       "6820            33  Bank Street      Aaron   Poole  73   \n",
       "\n",
       "     Relationship to Head of House Marital Status  Gender  \\\n",
       "6819                          Head        Married  Female   \n",
       "6820                       Husband        Married    Male   \n",
       "\n",
       "                                    Occupation Infirmity  Religion  \n",
       "6819                Retired Production manager       NaN  Catholic  \n",
       "6820  Retired Surveyor, commercial/residential       NaN       NaN  "
      ]
     },
     "execution_count": 51,
     "metadata": {},
     "output_type": "execute_result"
    }
   ],
   "source": [
    "# Checking age of other individuals residing in the same residence\n",
    "\n",
    "df_copy[(df_copy['Surname'] == 'Poole') & (df_copy['Street'] == 'Bank Street')]"
   ]
  },
  {
   "cell_type": "code",
   "execution_count": 52,
   "id": "22752580",
   "metadata": {},
   "outputs": [],
   "source": [
    "# Replacing blank input with same age as partner as I believe it is a safe assumption that Georgia is around the same age as her husband Aaron \n",
    "\n",
    "\n",
    "df_copy.at[6819, 'Age'] = 73"
   ]
  },
  {
   "cell_type": "markdown",
   "id": "5b9da23c",
   "metadata": {},
   "source": [
    "#### Blank input 9422"
   ]
  },
  {
   "cell_type": "code",
   "execution_count": 53,
   "id": "18391cbe",
   "metadata": {
    "scrolled": true
   },
   "outputs": [
    {
     "data": {
      "text/html": [
       "<div>\n",
       "<style scoped>\n",
       "    .dataframe tbody tr th:only-of-type {\n",
       "        vertical-align: middle;\n",
       "    }\n",
       "\n",
       "    .dataframe tbody tr th {\n",
       "        vertical-align: top;\n",
       "    }\n",
       "\n",
       "    .dataframe thead th {\n",
       "        text-align: right;\n",
       "    }\n",
       "</style>\n",
       "<table border=\"1\" class=\"dataframe\">\n",
       "  <thead>\n",
       "    <tr style=\"text-align: right;\">\n",
       "      <th></th>\n",
       "      <th>House Number</th>\n",
       "      <th>Street</th>\n",
       "      <th>First Name</th>\n",
       "      <th>Surname</th>\n",
       "      <th>Age</th>\n",
       "      <th>Relationship to Head of House</th>\n",
       "      <th>Marital Status</th>\n",
       "      <th>Gender</th>\n",
       "      <th>Occupation</th>\n",
       "      <th>Infirmity</th>\n",
       "      <th>Religion</th>\n",
       "    </tr>\n",
       "  </thead>\n",
       "  <tbody>\n",
       "    <tr>\n",
       "      <th>9421</th>\n",
       "      <td>32</td>\n",
       "      <td>Bank Burg</td>\n",
       "      <td>Lauren</td>\n",
       "      <td>Sutton</td>\n",
       "      <td>50</td>\n",
       "      <td>Head</td>\n",
       "      <td>Single</td>\n",
       "      <td>Female</td>\n",
       "      <td>Hospital pharmacist</td>\n",
       "      <td>NaN</td>\n",
       "      <td>Christian</td>\n",
       "    </tr>\n",
       "    <tr>\n",
       "      <th>9422</th>\n",
       "      <td>32</td>\n",
       "      <td>Bank Burg</td>\n",
       "      <td>Mitchell</td>\n",
       "      <td>Jordan</td>\n",
       "      <td></td>\n",
       "      <td>Partner</td>\n",
       "      <td>Single</td>\n",
       "      <td>Male</td>\n",
       "      <td>Sales executive</td>\n",
       "      <td>NaN</td>\n",
       "      <td>Christian</td>\n",
       "    </tr>\n",
       "    <tr>\n",
       "      <th>9423</th>\n",
       "      <td>32</td>\n",
       "      <td>Bank Burg</td>\n",
       "      <td>Diane</td>\n",
       "      <td>Sutton</td>\n",
       "      <td>11</td>\n",
       "      <td>Daughter</td>\n",
       "      <td>NaN</td>\n",
       "      <td>Female</td>\n",
       "      <td>Student</td>\n",
       "      <td>NaN</td>\n",
       "      <td>NaN</td>\n",
       "    </tr>\n",
       "  </tbody>\n",
       "</table>\n",
       "</div>"
      ],
      "text/plain": [
       "      House Number     Street First Name Surname Age  \\\n",
       "9421            32  Bank Burg     Lauren  Sutton  50   \n",
       "9422            32  Bank Burg   Mitchell  Jordan       \n",
       "9423            32  Bank Burg      Diane  Sutton  11   \n",
       "\n",
       "     Relationship to Head of House Marital Status  Gender  \\\n",
       "9421                          Head         Single  Female   \n",
       "9422                       Partner         Single    Male   \n",
       "9423                      Daughter            NaN  Female   \n",
       "\n",
       "               Occupation Infirmity   Religion  \n",
       "9421  Hospital pharmacist       NaN  Christian  \n",
       "9422      Sales executive       NaN  Christian  \n",
       "9423              Student       NaN        NaN  "
      ]
     },
     "execution_count": 53,
     "metadata": {},
     "output_type": "execute_result"
    }
   ],
   "source": [
    "# Checking age of other individuals residing in the same residence\n",
    "\n",
    "df_copy[(df_copy['Street'] == 'Bank Burg') & (df_copy['House Number'] == 32)]"
   ]
  },
  {
   "cell_type": "code",
   "execution_count": 54,
   "id": "bfd4912e",
   "metadata": {},
   "outputs": [],
   "source": [
    "# Replacing blank input with same age as partner as I believe it is a safe assumption that Mitchell is around the same age as her partner Lauren \n",
    "\n",
    "\n",
    "df_copy.at[9422, 'Age'] = 50"
   ]
  },
  {
   "cell_type": "markdown",
   "id": "2c794389",
   "metadata": {},
   "source": [
    "### Converting mixed-type age input to integers"
   ]
  },
  {
   "cell_type": "code",
   "execution_count": 55,
   "id": "26f82a15",
   "metadata": {},
   "outputs": [],
   "source": [
    "# Converting all values in age column to integer\n",
    "\n",
    "df_copy.Age = df_copy['Age'].astype(float)\n",
    "\n",
    "df_copy.Age = df_copy.Age.astype(int)"
   ]
  },
  {
   "cell_type": "markdown",
   "id": "ed3aaef1",
   "metadata": {},
   "source": [
    "### Verify Implementation"
   ]
  },
  {
   "cell_type": "code",
   "execution_count": 56,
   "id": "418c1d7d",
   "metadata": {},
   "outputs": [
    {
     "data": {
      "text/html": [
       "<div>\n",
       "<style scoped>\n",
       "    .dataframe tbody tr th:only-of-type {\n",
       "        vertical-align: middle;\n",
       "    }\n",
       "\n",
       "    .dataframe tbody tr th {\n",
       "        vertical-align: top;\n",
       "    }\n",
       "\n",
       "    .dataframe thead th {\n",
       "        text-align: right;\n",
       "    }\n",
       "</style>\n",
       "<table border=\"1\" class=\"dataframe\">\n",
       "  <thead>\n",
       "    <tr style=\"text-align: right;\">\n",
       "      <th></th>\n",
       "      <th>House Number</th>\n",
       "      <th>Street</th>\n",
       "      <th>First Name</th>\n",
       "      <th>Surname</th>\n",
       "      <th>Age</th>\n",
       "      <th>Relationship to Head of House</th>\n",
       "      <th>Marital Status</th>\n",
       "      <th>Gender</th>\n",
       "      <th>Occupation</th>\n",
       "      <th>Infirmity</th>\n",
       "      <th>Religion</th>\n",
       "    </tr>\n",
       "  </thead>\n",
       "  <tbody>\n",
       "  </tbody>\n",
       "</table>\n",
       "</div>"
      ],
      "text/plain": [
       "Empty DataFrame\n",
       "Columns: [House Number, Street, First Name, Surname, Age, Relationship to Head of House, Marital Status, Gender, Occupation, Infirmity, Religion]\n",
       "Index: []"
      ]
     },
     "execution_count": 56,
     "metadata": {},
     "output_type": "execute_result"
    }
   ],
   "source": [
    "# Checking for blank input\n",
    "\n",
    "df_copy[df_copy['Age'] == ' ']"
   ]
  },
  {
   "cell_type": "markdown",
   "id": "29354a2a",
   "metadata": {},
   "source": [
    "  "
   ]
  },
  {
   "cell_type": "code",
   "execution_count": 57,
   "id": "f0ba0a6d",
   "metadata": {},
   "outputs": [
    {
     "data": {
      "text/plain": [
       "dtype('int64')"
      ]
     },
     "execution_count": 57,
     "metadata": {},
     "output_type": "execute_result"
    }
   ],
   "source": [
    "# Checking for data type\n",
    "\n",
    "df_copy.Age.dtype"
   ]
  },
  {
   "cell_type": "code",
   "execution_count": 58,
   "id": "7548772f",
   "metadata": {},
   "outputs": [
    {
     "data": {
      "text/plain": [
       "array([ 41,  49,  17,  15,  13,   7,   6,   5,   4,   2,  58,  33,  26,\n",
       "        36,  47,  51,  19,  42,  44,   8,   0,  60,  56,  12,  46,  30,\n",
       "        76,  64,  63,  62,  53,  45,  37,  10,  24,   3,  57,  39,  29,\n",
       "        27,  59,  20,  32,  18,  34,  21,  11,  52,  50,  85,  87,   9,\n",
       "        61,  35,  31,  23,  48,  73,  25,  88,  90,  28,  71,  69,  54,\n",
       "        22,  68,  16,  55,  67,  91,  43,  40,  38,   1,  81,  79,  14,\n",
       "        70,  77,  72,  66,  65,  84,  78, 100,  92,  93,  74,  83,  75,\n",
       "       105,  82,  89,  86, 103,  80,  96, 102,  98,  97,  95, 104, 110,\n",
       "       101,  99,  94, 109])"
      ]
     },
     "execution_count": 58,
     "metadata": {},
     "output_type": "execute_result"
    }
   ],
   "source": [
    "# Checking for unique values\n",
    "\n",
    "df_copy[\"Age\"].unique()"
   ]
  },
  {
   "cell_type": "markdown",
   "id": "432d4fe9",
   "metadata": {},
   "source": [
    "  "
   ]
  },
  {
   "cell_type": "markdown",
   "id": "da69b294",
   "metadata": {},
   "source": [
    "### 4. Relationship to Head of House column contains a blank input and incorrectly spelt input (i.e Neice)"
   ]
  },
  {
   "cell_type": "code",
   "execution_count": 59,
   "id": "c3ca84f9",
   "metadata": {},
   "outputs": [
    {
     "data": {
      "text/html": [
       "<div>\n",
       "<style scoped>\n",
       "    .dataframe tbody tr th:only-of-type {\n",
       "        vertical-align: middle;\n",
       "    }\n",
       "\n",
       "    .dataframe tbody tr th {\n",
       "        vertical-align: top;\n",
       "    }\n",
       "\n",
       "    .dataframe thead th {\n",
       "        text-align: right;\n",
       "    }\n",
       "</style>\n",
       "<table border=\"1\" class=\"dataframe\">\n",
       "  <thead>\n",
       "    <tr style=\"text-align: right;\">\n",
       "      <th></th>\n",
       "      <th>House Number</th>\n",
       "      <th>Street</th>\n",
       "      <th>First Name</th>\n",
       "      <th>Surname</th>\n",
       "      <th>Age</th>\n",
       "      <th>Relationship to Head of House</th>\n",
       "      <th>Marital Status</th>\n",
       "      <th>Gender</th>\n",
       "      <th>Occupation</th>\n",
       "      <th>Infirmity</th>\n",
       "      <th>Religion</th>\n",
       "    </tr>\n",
       "  </thead>\n",
       "  <tbody>\n",
       "    <tr>\n",
       "      <th>8790</th>\n",
       "      <td>18</td>\n",
       "      <td>Taurus Garden</td>\n",
       "      <td>Graeme</td>\n",
       "      <td>Sykes</td>\n",
       "      <td>23</td>\n",
       "      <td></td>\n",
       "      <td>Divorced</td>\n",
       "      <td>Male</td>\n",
       "      <td>Ophthalmologist</td>\n",
       "      <td>NaN</td>\n",
       "      <td>NaN</td>\n",
       "    </tr>\n",
       "  </tbody>\n",
       "</table>\n",
       "</div>"
      ],
      "text/plain": [
       "      House Number         Street First Name Surname  Age  \\\n",
       "8790            18  Taurus Garden     Graeme   Sykes   23   \n",
       "\n",
       "     Relationship to Head of House Marital Status Gender       Occupation  \\\n",
       "8790                                     Divorced   Male  Ophthalmologist   \n",
       "\n",
       "     Infirmity Religion  \n",
       "8790       NaN      NaN  "
      ]
     },
     "execution_count": 59,
     "metadata": {},
     "output_type": "execute_result"
    }
   ],
   "source": [
    "# Checking for blank input\n",
    "\n",
    "df_copy[df_copy['Relationship to Head of House'] == ' ']"
   ]
  },
  {
   "cell_type": "code",
   "execution_count": 60,
   "id": "adccdd34",
   "metadata": {},
   "outputs": [
    {
     "data": {
      "text/html": [
       "<div>\n",
       "<style scoped>\n",
       "    .dataframe tbody tr th:only-of-type {\n",
       "        vertical-align: middle;\n",
       "    }\n",
       "\n",
       "    .dataframe tbody tr th {\n",
       "        vertical-align: top;\n",
       "    }\n",
       "\n",
       "    .dataframe thead th {\n",
       "        text-align: right;\n",
       "    }\n",
       "</style>\n",
       "<table border=\"1\" class=\"dataframe\">\n",
       "  <thead>\n",
       "    <tr style=\"text-align: right;\">\n",
       "      <th></th>\n",
       "      <th>House Number</th>\n",
       "      <th>Street</th>\n",
       "      <th>First Name</th>\n",
       "      <th>Surname</th>\n",
       "      <th>Age</th>\n",
       "      <th>Relationship to Head of House</th>\n",
       "      <th>Marital Status</th>\n",
       "      <th>Gender</th>\n",
       "      <th>Occupation</th>\n",
       "      <th>Infirmity</th>\n",
       "      <th>Religion</th>\n",
       "    </tr>\n",
       "  </thead>\n",
       "  <tbody>\n",
       "    <tr>\n",
       "      <th>8788</th>\n",
       "      <td>18</td>\n",
       "      <td>Taurus Garden</td>\n",
       "      <td>Joan</td>\n",
       "      <td>Sykes</td>\n",
       "      <td>42</td>\n",
       "      <td>Head</td>\n",
       "      <td>Single</td>\n",
       "      <td>Female</td>\n",
       "      <td>Mudlogger</td>\n",
       "      <td>NaN</td>\n",
       "      <td>NaN</td>\n",
       "    </tr>\n",
       "    <tr>\n",
       "      <th>8789</th>\n",
       "      <td>18</td>\n",
       "      <td>Taurus Garden</td>\n",
       "      <td>Norman</td>\n",
       "      <td>Shah</td>\n",
       "      <td>42</td>\n",
       "      <td>Partner</td>\n",
       "      <td>Single</td>\n",
       "      <td>Male</td>\n",
       "      <td>Pathologist</td>\n",
       "      <td>NaN</td>\n",
       "      <td>NaN</td>\n",
       "    </tr>\n",
       "    <tr>\n",
       "      <th>8790</th>\n",
       "      <td>18</td>\n",
       "      <td>Taurus Garden</td>\n",
       "      <td>Graeme</td>\n",
       "      <td>Sykes</td>\n",
       "      <td>23</td>\n",
       "      <td></td>\n",
       "      <td>Divorced</td>\n",
       "      <td>Male</td>\n",
       "      <td>Ophthalmologist</td>\n",
       "      <td>NaN</td>\n",
       "      <td>NaN</td>\n",
       "    </tr>\n",
       "    <tr>\n",
       "      <th>8791</th>\n",
       "      <td>18</td>\n",
       "      <td>Taurus Garden</td>\n",
       "      <td>Louis</td>\n",
       "      <td>Sykes</td>\n",
       "      <td>6</td>\n",
       "      <td>Son</td>\n",
       "      <td>NaN</td>\n",
       "      <td>Male</td>\n",
       "      <td>Student</td>\n",
       "      <td>NaN</td>\n",
       "      <td>NaN</td>\n",
       "    </tr>\n",
       "  </tbody>\n",
       "</table>\n",
       "</div>"
      ],
      "text/plain": [
       "      House Number         Street First Name Surname  Age  \\\n",
       "8788            18  Taurus Garden       Joan   Sykes   42   \n",
       "8789            18  Taurus Garden     Norman    Shah   42   \n",
       "8790            18  Taurus Garden     Graeme   Sykes   23   \n",
       "8791            18  Taurus Garden      Louis   Sykes    6   \n",
       "\n",
       "     Relationship to Head of House Marital Status  Gender       Occupation  \\\n",
       "8788                          Head         Single  Female        Mudlogger   \n",
       "8789                       Partner         Single    Male      Pathologist   \n",
       "8790                                     Divorced    Male  Ophthalmologist   \n",
       "8791                           Son            NaN    Male          Student   \n",
       "\n",
       "     Infirmity Religion  \n",
       "8788       NaN      NaN  \n",
       "8789       NaN      NaN  \n",
       "8790       NaN      NaN  \n",
       "8791       NaN      NaN  "
      ]
     },
     "execution_count": 60,
     "metadata": {},
     "output_type": "execute_result"
    }
   ],
   "source": [
    "# Checking data of other individuals residing in the same residence\n",
    "\n",
    "df_copy[(df_copy['House Number'] == 18) & (df_copy['Street'] == 'Taurus Garden')]"
   ]
  },
  {
   "cell_type": "code",
   "execution_count": 61,
   "id": "3f1c68c0",
   "metadata": {},
   "outputs": [],
   "source": [
    "# Assigning son as the relationship to head of house as there is sufficient age gap to make it a possibility and they have the same surnames\n",
    "\n",
    "df_copy.at[8790, 'Relationship to Head of House'] = 'Son'"
   ]
  },
  {
   "cell_type": "code",
   "execution_count": 62,
   "id": "d632e186",
   "metadata": {},
   "outputs": [
    {
     "data": {
      "text/html": [
       "<div>\n",
       "<style scoped>\n",
       "    .dataframe tbody tr th:only-of-type {\n",
       "        vertical-align: middle;\n",
       "    }\n",
       "\n",
       "    .dataframe tbody tr th {\n",
       "        vertical-align: top;\n",
       "    }\n",
       "\n",
       "    .dataframe thead th {\n",
       "        text-align: right;\n",
       "    }\n",
       "</style>\n",
       "<table border=\"1\" class=\"dataframe\">\n",
       "  <thead>\n",
       "    <tr style=\"text-align: right;\">\n",
       "      <th></th>\n",
       "      <th>House Number</th>\n",
       "      <th>Street</th>\n",
       "      <th>First Name</th>\n",
       "      <th>Surname</th>\n",
       "      <th>Age</th>\n",
       "      <th>Relationship to Head of House</th>\n",
       "      <th>Marital Status</th>\n",
       "      <th>Gender</th>\n",
       "      <th>Occupation</th>\n",
       "      <th>Infirmity</th>\n",
       "      <th>Religion</th>\n",
       "    </tr>\n",
       "  </thead>\n",
       "  <tbody>\n",
       "    <tr>\n",
       "      <th>344</th>\n",
       "      <td>11</td>\n",
       "      <td>Laurelline Street</td>\n",
       "      <td>Katherine</td>\n",
       "      <td>Nicholls</td>\n",
       "      <td>12</td>\n",
       "      <td>Neice</td>\n",
       "      <td>NaN</td>\n",
       "      <td>Female</td>\n",
       "      <td>Student</td>\n",
       "      <td>NaN</td>\n",
       "      <td>NaN</td>\n",
       "    </tr>\n",
       "    <tr>\n",
       "      <th>2023</th>\n",
       "      <td>11</td>\n",
       "      <td>Armagh Crescent</td>\n",
       "      <td>Andrea</td>\n",
       "      <td>Bevan</td>\n",
       "      <td>10</td>\n",
       "      <td>Neice</td>\n",
       "      <td>NaN</td>\n",
       "      <td>Female</td>\n",
       "      <td>Student</td>\n",
       "      <td>NaN</td>\n",
       "      <td>NaN</td>\n",
       "    </tr>\n",
       "    <tr>\n",
       "      <th>2025</th>\n",
       "      <td>11</td>\n",
       "      <td>Armagh Crescent</td>\n",
       "      <td>Lindsey</td>\n",
       "      <td>Bevan</td>\n",
       "      <td>3</td>\n",
       "      <td>Neice</td>\n",
       "      <td>NaN</td>\n",
       "      <td>Female</td>\n",
       "      <td>Child</td>\n",
       "      <td>NaN</td>\n",
       "      <td>NaN</td>\n",
       "    </tr>\n",
       "    <tr>\n",
       "      <th>2902</th>\n",
       "      <td>4</td>\n",
       "      <td>Taylor Wall</td>\n",
       "      <td>Chelsea</td>\n",
       "      <td>Shepherd</td>\n",
       "      <td>3</td>\n",
       "      <td>Neice</td>\n",
       "      <td>NaN</td>\n",
       "      <td>Female</td>\n",
       "      <td>Child</td>\n",
       "      <td>NaN</td>\n",
       "      <td>NaN</td>\n",
       "    </tr>\n",
       "    <tr>\n",
       "      <th>6472</th>\n",
       "      <td>5</td>\n",
       "      <td>Metcalfe Forks</td>\n",
       "      <td>Stacey</td>\n",
       "      <td>Daniels</td>\n",
       "      <td>24</td>\n",
       "      <td>Neice</td>\n",
       "      <td>Divorced</td>\n",
       "      <td>Female</td>\n",
       "      <td>Corporate investment banker</td>\n",
       "      <td>NaN</td>\n",
       "      <td>NaN</td>\n",
       "    </tr>\n",
       "    <tr>\n",
       "      <th>6474</th>\n",
       "      <td>5</td>\n",
       "      <td>Metcalfe Forks</td>\n",
       "      <td>Katie</td>\n",
       "      <td>Ashton</td>\n",
       "      <td>22</td>\n",
       "      <td>Neice</td>\n",
       "      <td>Single</td>\n",
       "      <td>Female</td>\n",
       "      <td>University Student</td>\n",
       "      <td>NaN</td>\n",
       "      <td>NaN</td>\n",
       "    </tr>\n",
       "    <tr>\n",
       "      <th>6475</th>\n",
       "      <td>5</td>\n",
       "      <td>Metcalfe Forks</td>\n",
       "      <td>Sharon</td>\n",
       "      <td>Bailey</td>\n",
       "      <td>20</td>\n",
       "      <td>Neice</td>\n",
       "      <td>Single</td>\n",
       "      <td>Female</td>\n",
       "      <td>University Student</td>\n",
       "      <td>NaN</td>\n",
       "      <td>NaN</td>\n",
       "    </tr>\n",
       "    <tr>\n",
       "      <th>6732</th>\n",
       "      <td>7</td>\n",
       "      <td>Bank Street</td>\n",
       "      <td>Danielle</td>\n",
       "      <td>Brown</td>\n",
       "      <td>5</td>\n",
       "      <td>Neice</td>\n",
       "      <td>NaN</td>\n",
       "      <td>Female</td>\n",
       "      <td>Student</td>\n",
       "      <td>NaN</td>\n",
       "      <td>NaN</td>\n",
       "    </tr>\n",
       "    <tr>\n",
       "      <th>7234</th>\n",
       "      <td>24</td>\n",
       "      <td>Daniels Green</td>\n",
       "      <td>Elaine</td>\n",
       "      <td>Hurst</td>\n",
       "      <td>2</td>\n",
       "      <td>Neice</td>\n",
       "      <td>NaN</td>\n",
       "      <td>Female</td>\n",
       "      <td>Child</td>\n",
       "      <td>NaN</td>\n",
       "      <td>NaN</td>\n",
       "    </tr>\n",
       "    <tr>\n",
       "      <th>7809</th>\n",
       "      <td>20</td>\n",
       "      <td>Conifer Drive</td>\n",
       "      <td>Georgina</td>\n",
       "      <td>Fletcher</td>\n",
       "      <td>10</td>\n",
       "      <td>Neice</td>\n",
       "      <td>NaN</td>\n",
       "      <td>Female</td>\n",
       "      <td>Student</td>\n",
       "      <td>NaN</td>\n",
       "      <td>NaN</td>\n",
       "    </tr>\n",
       "    <tr>\n",
       "      <th>7810</th>\n",
       "      <td>20</td>\n",
       "      <td>Conifer Drive</td>\n",
       "      <td>Danielle</td>\n",
       "      <td>Miller</td>\n",
       "      <td>6</td>\n",
       "      <td>Neice</td>\n",
       "      <td>NaN</td>\n",
       "      <td>Female</td>\n",
       "      <td>Student</td>\n",
       "      <td>NaN</td>\n",
       "      <td>NaN</td>\n",
       "    </tr>\n",
       "    <tr>\n",
       "      <th>8190</th>\n",
       "      <td>54</td>\n",
       "      <td>Willis Avenue</td>\n",
       "      <td>Amelia</td>\n",
       "      <td>Price</td>\n",
       "      <td>11</td>\n",
       "      <td>Neice</td>\n",
       "      <td>NaN</td>\n",
       "      <td>Female</td>\n",
       "      <td>Student</td>\n",
       "      <td>NaN</td>\n",
       "      <td>NaN</td>\n",
       "    </tr>\n",
       "    <tr>\n",
       "      <th>8192</th>\n",
       "      <td>54</td>\n",
       "      <td>Willis Avenue</td>\n",
       "      <td>Linda</td>\n",
       "      <td>Price</td>\n",
       "      <td>6</td>\n",
       "      <td>Neice</td>\n",
       "      <td>NaN</td>\n",
       "      <td>Female</td>\n",
       "      <td>Student</td>\n",
       "      <td>NaN</td>\n",
       "      <td>NaN</td>\n",
       "    </tr>\n",
       "    <tr>\n",
       "      <th>8345</th>\n",
       "      <td>115</td>\n",
       "      <td>Willis Avenue</td>\n",
       "      <td>Natasha</td>\n",
       "      <td>Savage</td>\n",
       "      <td>1</td>\n",
       "      <td>Neice</td>\n",
       "      <td>NaN</td>\n",
       "      <td>Female</td>\n",
       "      <td>Child</td>\n",
       "      <td>NaN</td>\n",
       "      <td>NaN</td>\n",
       "    </tr>\n",
       "  </tbody>\n",
       "</table>\n",
       "</div>"
      ],
      "text/plain": [
       "      House Number             Street First Name   Surname  Age  \\\n",
       "344             11  Laurelline Street  Katherine  Nicholls   12   \n",
       "2023            11    Armagh Crescent     Andrea     Bevan   10   \n",
       "2025            11    Armagh Crescent    Lindsey     Bevan    3   \n",
       "2902             4        Taylor Wall    Chelsea  Shepherd    3   \n",
       "6472             5     Metcalfe Forks     Stacey   Daniels   24   \n",
       "6474             5     Metcalfe Forks      Katie    Ashton   22   \n",
       "6475             5     Metcalfe Forks     Sharon    Bailey   20   \n",
       "6732             7        Bank Street   Danielle     Brown    5   \n",
       "7234            24      Daniels Green     Elaine     Hurst    2   \n",
       "7809            20      Conifer Drive   Georgina  Fletcher   10   \n",
       "7810            20      Conifer Drive   Danielle    Miller    6   \n",
       "8190            54      Willis Avenue     Amelia     Price   11   \n",
       "8192            54      Willis Avenue      Linda     Price    6   \n",
       "8345           115      Willis Avenue    Natasha    Savage    1   \n",
       "\n",
       "     Relationship to Head of House Marital Status  Gender  \\\n",
       "344                          Neice            NaN  Female   \n",
       "2023                         Neice            NaN  Female   \n",
       "2025                         Neice            NaN  Female   \n",
       "2902                         Neice            NaN  Female   \n",
       "6472                         Neice       Divorced  Female   \n",
       "6474                         Neice         Single  Female   \n",
       "6475                         Neice         Single  Female   \n",
       "6732                         Neice            NaN  Female   \n",
       "7234                         Neice            NaN  Female   \n",
       "7809                         Neice            NaN  Female   \n",
       "7810                         Neice            NaN  Female   \n",
       "8190                         Neice            NaN  Female   \n",
       "8192                         Neice            NaN  Female   \n",
       "8345                         Neice            NaN  Female   \n",
       "\n",
       "                       Occupation Infirmity Religion  \n",
       "344                       Student       NaN      NaN  \n",
       "2023                      Student       NaN      NaN  \n",
       "2025                        Child       NaN      NaN  \n",
       "2902                        Child       NaN      NaN  \n",
       "6472  Corporate investment banker       NaN      NaN  \n",
       "6474           University Student       NaN      NaN  \n",
       "6475           University Student       NaN      NaN  \n",
       "6732                      Student       NaN      NaN  \n",
       "7234                        Child       NaN      NaN  \n",
       "7809                      Student       NaN      NaN  \n",
       "7810                      Student       NaN      NaN  \n",
       "8190                      Student       NaN      NaN  \n",
       "8192                      Student       NaN      NaN  \n",
       "8345                        Child       NaN      NaN  "
      ]
     },
     "execution_count": 62,
     "metadata": {},
     "output_type": "execute_result"
    }
   ],
   "source": [
    "# Showing data with relationship to head of house as Neice\n",
    "\n",
    "df_copy[df_copy['Relationship to Head of House'] == 'Neice']"
   ]
  },
  {
   "cell_type": "code",
   "execution_count": 63,
   "id": "8a441918",
   "metadata": {},
   "outputs": [],
   "source": [
    "# Replacing Neice with Niece\n",
    "\n",
    "df_copy['Relationship to Head of House'] = df_copy['Relationship to Head of House'].replace('Neice', 'Niece')"
   ]
  },
  {
   "cell_type": "markdown",
   "id": "ed4d1e38",
   "metadata": {},
   "source": [
    "### Verify Implementation"
   ]
  },
  {
   "cell_type": "code",
   "execution_count": 64,
   "id": "a438fe52",
   "metadata": {},
   "outputs": [
    {
     "data": {
      "text/html": [
       "<div>\n",
       "<style scoped>\n",
       "    .dataframe tbody tr th:only-of-type {\n",
       "        vertical-align: middle;\n",
       "    }\n",
       "\n",
       "    .dataframe tbody tr th {\n",
       "        vertical-align: top;\n",
       "    }\n",
       "\n",
       "    .dataframe thead th {\n",
       "        text-align: right;\n",
       "    }\n",
       "</style>\n",
       "<table border=\"1\" class=\"dataframe\">\n",
       "  <thead>\n",
       "    <tr style=\"text-align: right;\">\n",
       "      <th></th>\n",
       "      <th>House Number</th>\n",
       "      <th>Street</th>\n",
       "      <th>First Name</th>\n",
       "      <th>Surname</th>\n",
       "      <th>Age</th>\n",
       "      <th>Relationship to Head of House</th>\n",
       "      <th>Marital Status</th>\n",
       "      <th>Gender</th>\n",
       "      <th>Occupation</th>\n",
       "      <th>Infirmity</th>\n",
       "      <th>Religion</th>\n",
       "    </tr>\n",
       "  </thead>\n",
       "  <tbody>\n",
       "  </tbody>\n",
       "</table>\n",
       "</div>"
      ],
      "text/plain": [
       "Empty DataFrame\n",
       "Columns: [House Number, Street, First Name, Surname, Age, Relationship to Head of House, Marital Status, Gender, Occupation, Infirmity, Religion]\n",
       "Index: []"
      ]
     },
     "execution_count": 64,
     "metadata": {},
     "output_type": "execute_result"
    }
   ],
   "source": [
    "# Checking for blank input\n",
    "\n",
    "df_copy[df_copy['Relationship to Head of House'] == ' ']"
   ]
  },
  {
   "cell_type": "markdown",
   "id": "efb0e22b",
   "metadata": {},
   "source": [
    "  "
   ]
  },
  {
   "cell_type": "code",
   "execution_count": 65,
   "id": "06cf113a",
   "metadata": {},
   "outputs": [
    {
     "data": {
      "text/plain": [
       "array(['Head', 'Partner', 'Son', 'Daughter', nan, 'Husband', 'Wife',\n",
       "       'Grandson', 'Granddaughter', 'Lodger', 'Cousin',\n",
       "       'Adopted Grandson', 'Sibling', 'Visitor', 'Adopted Son', 'Niece',\n",
       "       'Adopted Granddaughter', 'Nephew', 'Adopted Daughter',\n",
       "       'Step-Daughter', 'Step-Son'], dtype=object)"
      ]
     },
     "execution_count": 65,
     "metadata": {},
     "output_type": "execute_result"
    }
   ],
   "source": [
    "# Checking for unique values\n",
    "\n",
    "df_copy['Relationship to Head of House'].unique()"
   ]
  },
  {
   "cell_type": "markdown",
   "id": "aa299daa",
   "metadata": {},
   "source": [
    "  "
   ]
  },
  {
   "cell_type": "markdown",
   "id": "720f66ad",
   "metadata": {},
   "source": [
    "### 5. Marital Status column contains a blank input. Column also contains missing values"
   ]
  },
  {
   "cell_type": "code",
   "execution_count": 66,
   "id": "528ce4ad",
   "metadata": {},
   "outputs": [
    {
     "data": {
      "text/html": [
       "<div>\n",
       "<style scoped>\n",
       "    .dataframe tbody tr th:only-of-type {\n",
       "        vertical-align: middle;\n",
       "    }\n",
       "\n",
       "    .dataframe tbody tr th {\n",
       "        vertical-align: top;\n",
       "    }\n",
       "\n",
       "    .dataframe thead th {\n",
       "        text-align: right;\n",
       "    }\n",
       "</style>\n",
       "<table border=\"1\" class=\"dataframe\">\n",
       "  <thead>\n",
       "    <tr style=\"text-align: right;\">\n",
       "      <th></th>\n",
       "      <th>House Number</th>\n",
       "      <th>Street</th>\n",
       "      <th>First Name</th>\n",
       "      <th>Surname</th>\n",
       "      <th>Age</th>\n",
       "      <th>Relationship to Head of House</th>\n",
       "      <th>Marital Status</th>\n",
       "      <th>Gender</th>\n",
       "      <th>Occupation</th>\n",
       "      <th>Infirmity</th>\n",
       "      <th>Religion</th>\n",
       "    </tr>\n",
       "  </thead>\n",
       "  <tbody>\n",
       "    <tr>\n",
       "      <th>4590</th>\n",
       "      <td>5</td>\n",
       "      <td>CherryChestnut Street</td>\n",
       "      <td>Leigh</td>\n",
       "      <td>Ellis</td>\n",
       "      <td>12</td>\n",
       "      <td>Son</td>\n",
       "      <td></td>\n",
       "      <td>Male</td>\n",
       "      <td>Student</td>\n",
       "      <td>NaN</td>\n",
       "      <td>NaN</td>\n",
       "    </tr>\n",
       "  </tbody>\n",
       "</table>\n",
       "</div>"
      ],
      "text/plain": [
       "      House Number                 Street First Name Surname  Age  \\\n",
       "4590             5  CherryChestnut Street      Leigh   Ellis   12   \n",
       "\n",
       "     Relationship to Head of House Marital Status Gender Occupation Infirmity  \\\n",
       "4590                           Son                  Male    Student       NaN   \n",
       "\n",
       "     Religion  \n",
       "4590      NaN  "
      ]
     },
     "execution_count": 66,
     "metadata": {},
     "output_type": "execute_result"
    }
   ],
   "source": [
    "# Checking for blank input\n",
    "\n",
    "df_copy[df_copy['Marital Status'] == ' ']"
   ]
  },
  {
   "cell_type": "code",
   "execution_count": 67,
   "id": "c47dcf43",
   "metadata": {
    "scrolled": true
   },
   "outputs": [
    {
     "data": {
      "text/html": [
       "<div>\n",
       "<style scoped>\n",
       "    .dataframe tbody tr th:only-of-type {\n",
       "        vertical-align: middle;\n",
       "    }\n",
       "\n",
       "    .dataframe tbody tr th {\n",
       "        vertical-align: top;\n",
       "    }\n",
       "\n",
       "    .dataframe thead th {\n",
       "        text-align: right;\n",
       "    }\n",
       "</style>\n",
       "<table border=\"1\" class=\"dataframe\">\n",
       "  <thead>\n",
       "    <tr style=\"text-align: right;\">\n",
       "      <th></th>\n",
       "      <th>House Number</th>\n",
       "      <th>Street</th>\n",
       "      <th>First Name</th>\n",
       "      <th>Surname</th>\n",
       "      <th>Age</th>\n",
       "      <th>Relationship to Head of House</th>\n",
       "      <th>Marital Status</th>\n",
       "      <th>Gender</th>\n",
       "      <th>Occupation</th>\n",
       "      <th>Infirmity</th>\n",
       "      <th>Religion</th>\n",
       "    </tr>\n",
       "  </thead>\n",
       "  <tbody>\n",
       "    <tr>\n",
       "      <th>4588</th>\n",
       "      <td>5</td>\n",
       "      <td>CherryChestnut Street</td>\n",
       "      <td>Alan</td>\n",
       "      <td>Ellis</td>\n",
       "      <td>51</td>\n",
       "      <td>Head</td>\n",
       "      <td>Married</td>\n",
       "      <td>Male</td>\n",
       "      <td>Operational investment banker</td>\n",
       "      <td>NaN</td>\n",
       "      <td>Christian</td>\n",
       "    </tr>\n",
       "    <tr>\n",
       "      <th>4589</th>\n",
       "      <td>5</td>\n",
       "      <td>CherryChestnut Street</td>\n",
       "      <td>Sarah</td>\n",
       "      <td>Ellis</td>\n",
       "      <td>52</td>\n",
       "      <td>Wife</td>\n",
       "      <td>Married</td>\n",
       "      <td>Female</td>\n",
       "      <td>Civil Service administrator</td>\n",
       "      <td>NaN</td>\n",
       "      <td>NaN</td>\n",
       "    </tr>\n",
       "    <tr>\n",
       "      <th>4590</th>\n",
       "      <td>5</td>\n",
       "      <td>CherryChestnut Street</td>\n",
       "      <td>Leigh</td>\n",
       "      <td>Ellis</td>\n",
       "      <td>12</td>\n",
       "      <td>Son</td>\n",
       "      <td></td>\n",
       "      <td>Male</td>\n",
       "      <td>Student</td>\n",
       "      <td>NaN</td>\n",
       "      <td>NaN</td>\n",
       "    </tr>\n",
       "  </tbody>\n",
       "</table>\n",
       "</div>"
      ],
      "text/plain": [
       "      House Number                 Street First Name Surname  Age  \\\n",
       "4588             5  CherryChestnut Street       Alan   Ellis   51   \n",
       "4589             5  CherryChestnut Street      Sarah   Ellis   52   \n",
       "4590             5  CherryChestnut Street      Leigh   Ellis   12   \n",
       "\n",
       "     Relationship to Head of House Marital Status  Gender  \\\n",
       "4588                          Head        Married    Male   \n",
       "4589                          Wife        Married  Female   \n",
       "4590                           Son                   Male   \n",
       "\n",
       "                         Occupation Infirmity   Religion  \n",
       "4588  Operational investment banker       NaN  Christian  \n",
       "4589    Civil Service administrator       NaN        NaN  \n",
       "4590                        Student       NaN        NaN  "
      ]
     },
     "execution_count": 67,
     "metadata": {},
     "output_type": "execute_result"
    }
   ],
   "source": [
    "# Checking data of other individuals residing in the same residence\n",
    "\n",
    "df_copy[(df_copy['House Number'] == 5) & (df_copy['Street'] == 'CherryChestnut Street')]"
   ]
  },
  {
   "cell_type": "code",
   "execution_count": 68,
   "id": "2a10022f",
   "metadata": {},
   "outputs": [],
   "source": [
    "# Assigning 'Minor' as the marital status to the blank input since the data shows the age as 12\n",
    "\n",
    "df_copy['Marital Status'] = df_copy['Marital Status'].replace(' ', 'Minor')"
   ]
  },
  {
   "cell_type": "code",
   "execution_count": 69,
   "id": "37be8aa0",
   "metadata": {},
   "outputs": [
    {
     "data": {
      "text/plain": [
       "2273"
      ]
     },
     "execution_count": 69,
     "metadata": {},
     "output_type": "execute_result"
    }
   ],
   "source": [
    "# All missing values in Marital Status column\n",
    "\n",
    "df_copy['Marital Status'].isna().sum()"
   ]
  },
  {
   "cell_type": "code",
   "execution_count": 70,
   "id": "71f3a3d5",
   "metadata": {},
   "outputs": [
    {
     "data": {
      "text/plain": [
       "2273"
      ]
     },
     "execution_count": 70,
     "metadata": {},
     "output_type": "execute_result"
    }
   ],
   "source": [
    "# All missing values of individuals less that 18years in Marital Status column \n",
    "\n",
    "df_copy[df_copy['Age'] < 18]['Marital Status'].isna().sum()"
   ]
  },
  {
   "cell_type": "code",
   "execution_count": 71,
   "id": "5d676bef",
   "metadata": {},
   "outputs": [],
   "source": [
    "# Output above shows that all missing inputs are for individuals less than 18years  \n",
    "\n",
    "# Replacing ages below 18 with Minor\n",
    "\n",
    "df_copy['Marital Status'] = df_copy['Marital Status'].replace(np.nan, 'Minor')"
   ]
  },
  {
   "cell_type": "markdown",
   "id": "a96af470",
   "metadata": {},
   "source": [
    "### Verifying Implementation"
   ]
  },
  {
   "cell_type": "code",
   "execution_count": 72,
   "id": "fe2adaec",
   "metadata": {},
   "outputs": [
    {
     "data": {
      "text/plain": [
       "array(['Single', 'Minor', 'Married', 'Widowed', 'Divorced'], dtype=object)"
      ]
     },
     "execution_count": 72,
     "metadata": {},
     "output_type": "execute_result"
    }
   ],
   "source": [
    "# Checking for unique values\n",
    "\n",
    "df_copy['Marital Status'].unique()"
   ]
  },
  {
   "cell_type": "markdown",
   "id": "230d6900",
   "metadata": {},
   "source": [
    "Further inspection of the data shows us that apart from the blank and missing values, there appears to be data that is outrightly incorrect or near impossible suggesting that the individuals lied about their correct information such as ages below 18 that are recorded as Married, Divorced or Widowed. In other to minimize increased error during my analysis, such data has to undergo further inspection."
   ]
  },
  {
   "cell_type": "markdown",
   "id": "33fa462f",
   "metadata": {},
   "source": [
    "### Below 18 that are married"
   ]
  },
  {
   "cell_type": "code",
   "execution_count": 73,
   "id": "71538396",
   "metadata": {},
   "outputs": [
    {
     "data": {
      "text/html": [
       "<div>\n",
       "<style scoped>\n",
       "    .dataframe tbody tr th:only-of-type {\n",
       "        vertical-align: middle;\n",
       "    }\n",
       "\n",
       "    .dataframe tbody tr th {\n",
       "        vertical-align: top;\n",
       "    }\n",
       "\n",
       "    .dataframe thead th {\n",
       "        text-align: right;\n",
       "    }\n",
       "</style>\n",
       "<table border=\"1\" class=\"dataframe\">\n",
       "  <thead>\n",
       "    <tr style=\"text-align: right;\">\n",
       "      <th></th>\n",
       "      <th>House Number</th>\n",
       "      <th>Street</th>\n",
       "      <th>First Name</th>\n",
       "      <th>Surname</th>\n",
       "      <th>Age</th>\n",
       "      <th>Relationship to Head of House</th>\n",
       "      <th>Marital Status</th>\n",
       "      <th>Gender</th>\n",
       "      <th>Occupation</th>\n",
       "      <th>Infirmity</th>\n",
       "      <th>Religion</th>\n",
       "    </tr>\n",
       "  </thead>\n",
       "  <tbody>\n",
       "    <tr>\n",
       "      <th>2084</th>\n",
       "      <td>29</td>\n",
       "      <td>Armagh Crescent</td>\n",
       "      <td>Rachel</td>\n",
       "      <td>Carr</td>\n",
       "      <td>15</td>\n",
       "      <td>Head</td>\n",
       "      <td>Married</td>\n",
       "      <td>Female</td>\n",
       "      <td>Student</td>\n",
       "      <td>NaN</td>\n",
       "      <td>NaN</td>\n",
       "    </tr>\n",
       "    <tr>\n",
       "      <th>3871</th>\n",
       "      <td>162</td>\n",
       "      <td>Green Squares</td>\n",
       "      <td>Sophie</td>\n",
       "      <td>Smith</td>\n",
       "      <td>17</td>\n",
       "      <td>Head</td>\n",
       "      <td>Married</td>\n",
       "      <td>Female</td>\n",
       "      <td>Student</td>\n",
       "      <td>NaN</td>\n",
       "      <td>NaN</td>\n",
       "    </tr>\n",
       "    <tr>\n",
       "      <th>5778</th>\n",
       "      <td>2</td>\n",
       "      <td>Cook Plaza</td>\n",
       "      <td>Eileen</td>\n",
       "      <td>Williams</td>\n",
       "      <td>16</td>\n",
       "      <td>Head</td>\n",
       "      <td>Married</td>\n",
       "      <td>Female</td>\n",
       "      <td>Student</td>\n",
       "      <td>NaN</td>\n",
       "      <td>NaN</td>\n",
       "    </tr>\n",
       "  </tbody>\n",
       "</table>\n",
       "</div>"
      ],
      "text/plain": [
       "      House Number           Street First Name   Surname  Age  \\\n",
       "2084            29  Armagh Crescent     Rachel      Carr   15   \n",
       "3871           162    Green Squares     Sophie     Smith   17   \n",
       "5778             2       Cook Plaza     Eileen  Williams   16   \n",
       "\n",
       "     Relationship to Head of House Marital Status  Gender Occupation  \\\n",
       "2084                          Head        Married  Female    Student   \n",
       "3871                          Head        Married  Female    Student   \n",
       "5778                          Head        Married  Female    Student   \n",
       "\n",
       "     Infirmity Religion  \n",
       "2084       NaN      NaN  \n",
       "3871       NaN      NaN  \n",
       "5778       NaN      NaN  "
      ]
     },
     "execution_count": 73,
     "metadata": {},
     "output_type": "execute_result"
    }
   ],
   "source": [
    "# Filtering those below 18 that are married as the legal age for marriage in the uk is 18, hence, this information would be incorrect.\n",
    "\n",
    "df_copy[((df_copy['Age'] < 18) & (df_copy['Marital Status'] == 'Married'))]"
   ]
  },
  {
   "cell_type": "markdown",
   "id": "8d863b48",
   "metadata": {},
   "source": [
    "#### 2084 - Rachel Carr"
   ]
  },
  {
   "cell_type": "code",
   "execution_count": 74,
   "id": "63ddb338",
   "metadata": {},
   "outputs": [
    {
     "data": {
      "text/html": [
       "<div>\n",
       "<style scoped>\n",
       "    .dataframe tbody tr th:only-of-type {\n",
       "        vertical-align: middle;\n",
       "    }\n",
       "\n",
       "    .dataframe tbody tr th {\n",
       "        vertical-align: top;\n",
       "    }\n",
       "\n",
       "    .dataframe thead th {\n",
       "        text-align: right;\n",
       "    }\n",
       "</style>\n",
       "<table border=\"1\" class=\"dataframe\">\n",
       "  <thead>\n",
       "    <tr style=\"text-align: right;\">\n",
       "      <th></th>\n",
       "      <th>House Number</th>\n",
       "      <th>Street</th>\n",
       "      <th>First Name</th>\n",
       "      <th>Surname</th>\n",
       "      <th>Age</th>\n",
       "      <th>Relationship to Head of House</th>\n",
       "      <th>Marital Status</th>\n",
       "      <th>Gender</th>\n",
       "      <th>Occupation</th>\n",
       "      <th>Infirmity</th>\n",
       "      <th>Religion</th>\n",
       "    </tr>\n",
       "  </thead>\n",
       "  <tbody>\n",
       "    <tr>\n",
       "      <th>2084</th>\n",
       "      <td>29</td>\n",
       "      <td>Armagh Crescent</td>\n",
       "      <td>Rachel</td>\n",
       "      <td>Carr</td>\n",
       "      <td>15</td>\n",
       "      <td>Head</td>\n",
       "      <td>Married</td>\n",
       "      <td>Female</td>\n",
       "      <td>Student</td>\n",
       "      <td>NaN</td>\n",
       "      <td>NaN</td>\n",
       "    </tr>\n",
       "    <tr>\n",
       "      <th>2085</th>\n",
       "      <td>29</td>\n",
       "      <td>Armagh Crescent</td>\n",
       "      <td>Jack</td>\n",
       "      <td>Carr</td>\n",
       "      <td>19</td>\n",
       "      <td>Husband</td>\n",
       "      <td>Married</td>\n",
       "      <td>Male</td>\n",
       "      <td>University Student</td>\n",
       "      <td>NaN</td>\n",
       "      <td>NaN</td>\n",
       "    </tr>\n",
       "    <tr>\n",
       "      <th>2086</th>\n",
       "      <td>29</td>\n",
       "      <td>Armagh Crescent</td>\n",
       "      <td>Shaun</td>\n",
       "      <td>Carr</td>\n",
       "      <td>0</td>\n",
       "      <td>Son</td>\n",
       "      <td>Minor</td>\n",
       "      <td>Male</td>\n",
       "      <td>Child</td>\n",
       "      <td>NaN</td>\n",
       "      <td>NaN</td>\n",
       "    </tr>\n",
       "  </tbody>\n",
       "</table>\n",
       "</div>"
      ],
      "text/plain": [
       "      House Number           Street First Name Surname  Age  \\\n",
       "2084            29  Armagh Crescent     Rachel    Carr   15   \n",
       "2085            29  Armagh Crescent       Jack    Carr   19   \n",
       "2086            29  Armagh Crescent      Shaun    Carr    0   \n",
       "\n",
       "     Relationship to Head of House Marital Status  Gender          Occupation  \\\n",
       "2084                          Head        Married  Female             Student   \n",
       "2085                       Husband        Married    Male  University Student   \n",
       "2086                           Son          Minor    Male               Child   \n",
       "\n",
       "     Infirmity Religion  \n",
       "2084       NaN      NaN  \n",
       "2085       NaN      NaN  \n",
       "2086       NaN      NaN  "
      ]
     },
     "execution_count": 74,
     "metadata": {},
     "output_type": "execute_result"
    }
   ],
   "source": [
    "# Checking data of other individuals residing in the same residence\n",
    "\n",
    "df_copy[(df_copy['House Number'] == 29) & (df_copy['Street'] == 'Armagh Crescent')]"
   ]
  },
  {
   "cell_type": "code",
   "execution_count": 75,
   "id": "ccea7394",
   "metadata": {},
   "outputs": [],
   "source": [
    "# Data above indicates Rachel and Jack Carr have a son but they cannot be married as Rachel is 15years\n",
    "\n",
    "# Rachel was also registered as head of house which is not possible as 16years is the legal age for moving out\n",
    "\n",
    "# If Rachel's marital status changes to underage, Jack's status also needs to be changed to single as he cannot be married to her\n",
    "\n",
    "# Jack's relationship to head of house will also need to change as Rachel cannot be head of house therefore he cannot be the husband to the head of house\n",
    "\n",
    "# Considering all these factors, I concluded that it will be better to drop the household as too many guesses will be made"
   ]
  },
  {
   "cell_type": "code",
   "execution_count": 76,
   "id": "f1fab90b",
   "metadata": {},
   "outputs": [],
   "source": [
    "# Deleting household\n",
    "\n",
    "household_to_delete = df_copy[((df_copy['Surname'] == 'Carr') & (df_copy['House Number'] == 29) & (df_copy['Street'] == 'Armagh Crescent'))]\n",
    "\n",
    "df_copy = df_copy.drop(household_to_delete.index)"
   ]
  },
  {
   "cell_type": "markdown",
   "id": "2800e3cf",
   "metadata": {},
   "source": [
    "#### 3871 - Sophie Smith"
   ]
  },
  {
   "cell_type": "code",
   "execution_count": 77,
   "id": "c59e8a09",
   "metadata": {},
   "outputs": [
    {
     "data": {
      "text/html": [
       "<div>\n",
       "<style scoped>\n",
       "    .dataframe tbody tr th:only-of-type {\n",
       "        vertical-align: middle;\n",
       "    }\n",
       "\n",
       "    .dataframe tbody tr th {\n",
       "        vertical-align: top;\n",
       "    }\n",
       "\n",
       "    .dataframe thead th {\n",
       "        text-align: right;\n",
       "    }\n",
       "</style>\n",
       "<table border=\"1\" class=\"dataframe\">\n",
       "  <thead>\n",
       "    <tr style=\"text-align: right;\">\n",
       "      <th></th>\n",
       "      <th>House Number</th>\n",
       "      <th>Street</th>\n",
       "      <th>First Name</th>\n",
       "      <th>Surname</th>\n",
       "      <th>Age</th>\n",
       "      <th>Relationship to Head of House</th>\n",
       "      <th>Marital Status</th>\n",
       "      <th>Gender</th>\n",
       "      <th>Occupation</th>\n",
       "      <th>Infirmity</th>\n",
       "      <th>Religion</th>\n",
       "    </tr>\n",
       "  </thead>\n",
       "  <tbody>\n",
       "    <tr>\n",
       "      <th>3871</th>\n",
       "      <td>162</td>\n",
       "      <td>Green Squares</td>\n",
       "      <td>Sophie</td>\n",
       "      <td>Smith</td>\n",
       "      <td>17</td>\n",
       "      <td>Head</td>\n",
       "      <td>Married</td>\n",
       "      <td>Female</td>\n",
       "      <td>Student</td>\n",
       "      <td>NaN</td>\n",
       "      <td>NaN</td>\n",
       "    </tr>\n",
       "    <tr>\n",
       "      <th>3872</th>\n",
       "      <td>162</td>\n",
       "      <td>Green Squares</td>\n",
       "      <td>Dominic</td>\n",
       "      <td>Smith</td>\n",
       "      <td>21</td>\n",
       "      <td>Husband</td>\n",
       "      <td>Married</td>\n",
       "      <td>Male</td>\n",
       "      <td>University Student</td>\n",
       "      <td>NaN</td>\n",
       "      <td>NaN</td>\n",
       "    </tr>\n",
       "    <tr>\n",
       "      <th>3873</th>\n",
       "      <td>162</td>\n",
       "      <td>Green Squares</td>\n",
       "      <td>Jake</td>\n",
       "      <td>Smith</td>\n",
       "      <td>0</td>\n",
       "      <td>Son</td>\n",
       "      <td>Minor</td>\n",
       "      <td>Male</td>\n",
       "      <td>Child</td>\n",
       "      <td>NaN</td>\n",
       "      <td>NaN</td>\n",
       "    </tr>\n",
       "  </tbody>\n",
       "</table>\n",
       "</div>"
      ],
      "text/plain": [
       "      House Number         Street First Name Surname  Age  \\\n",
       "3871           162  Green Squares     Sophie   Smith   17   \n",
       "3872           162  Green Squares    Dominic   Smith   21   \n",
       "3873           162  Green Squares       Jake   Smith    0   \n",
       "\n",
       "     Relationship to Head of House Marital Status  Gender          Occupation  \\\n",
       "3871                          Head        Married  Female             Student   \n",
       "3872                       Husband        Married    Male  University Student   \n",
       "3873                           Son          Minor    Male               Child   \n",
       "\n",
       "     Infirmity Religion  \n",
       "3871       NaN      NaN  \n",
       "3872       NaN      NaN  \n",
       "3873       NaN      NaN  "
      ]
     },
     "execution_count": 77,
     "metadata": {},
     "output_type": "execute_result"
    }
   ],
   "source": [
    "# Checking data of other individuals residing in the same residence\n",
    "\n",
    "df_copy[(df_copy['House Number'] == 162) & (df_copy['Street'] == 'Green Squares')]"
   ]
  },
  {
   "cell_type": "code",
   "execution_count": 78,
   "id": "c117947a",
   "metadata": {},
   "outputs": [],
   "source": [
    "# Data above indicates Sophie and Dominic Smith have a son but they cannot be married as Sophie is 17years\n",
    "\n",
    "# If Sophie's marital status changes to underage, Dominic's status also needs to be changed to single as he cannot be married to her\n",
    "\n",
    "# Dominic's relationship to head of house will also needs to be changed as he cannot be Sophie's husband\n",
    "\n",
    "# Considering all these factors, I concluded that it will be better to drop the household as too many guesses need to be made"
   ]
  },
  {
   "cell_type": "code",
   "execution_count": 79,
   "id": "e82a6ac8",
   "metadata": {},
   "outputs": [],
   "source": [
    "# Deleting household\n",
    "\n",
    "household_to_delete_2 = df_copy[((df_copy['Surname'] == 'Smith') & (df_copy['House Number'] == 162) & (df_copy['Street'] == 'Green Squares'))]\n",
    "\n",
    "df_copy = df_copy.drop(household_to_delete_2.index)"
   ]
  },
  {
   "cell_type": "markdown",
   "id": "eba5e124",
   "metadata": {},
   "source": [
    "#### 5778 - Eileen Williams"
   ]
  },
  {
   "cell_type": "code",
   "execution_count": 80,
   "id": "b5446a25",
   "metadata": {},
   "outputs": [
    {
     "data": {
      "text/html": [
       "<div>\n",
       "<style scoped>\n",
       "    .dataframe tbody tr th:only-of-type {\n",
       "        vertical-align: middle;\n",
       "    }\n",
       "\n",
       "    .dataframe tbody tr th {\n",
       "        vertical-align: top;\n",
       "    }\n",
       "\n",
       "    .dataframe thead th {\n",
       "        text-align: right;\n",
       "    }\n",
       "</style>\n",
       "<table border=\"1\" class=\"dataframe\">\n",
       "  <thead>\n",
       "    <tr style=\"text-align: right;\">\n",
       "      <th></th>\n",
       "      <th>House Number</th>\n",
       "      <th>Street</th>\n",
       "      <th>First Name</th>\n",
       "      <th>Surname</th>\n",
       "      <th>Age</th>\n",
       "      <th>Relationship to Head of House</th>\n",
       "      <th>Marital Status</th>\n",
       "      <th>Gender</th>\n",
       "      <th>Occupation</th>\n",
       "      <th>Infirmity</th>\n",
       "      <th>Religion</th>\n",
       "    </tr>\n",
       "  </thead>\n",
       "  <tbody>\n",
       "    <tr>\n",
       "      <th>5778</th>\n",
       "      <td>2</td>\n",
       "      <td>Cook Plaza</td>\n",
       "      <td>Eileen</td>\n",
       "      <td>Williams</td>\n",
       "      <td>16</td>\n",
       "      <td>Head</td>\n",
       "      <td>Married</td>\n",
       "      <td>Female</td>\n",
       "      <td>Student</td>\n",
       "      <td>NaN</td>\n",
       "      <td>NaN</td>\n",
       "    </tr>\n",
       "    <tr>\n",
       "      <th>5779</th>\n",
       "      <td>2</td>\n",
       "      <td>Cook Plaza</td>\n",
       "      <td>Eric</td>\n",
       "      <td>Williams</td>\n",
       "      <td>19</td>\n",
       "      <td>Husband</td>\n",
       "      <td>Married</td>\n",
       "      <td>Male</td>\n",
       "      <td>University Student</td>\n",
       "      <td>NaN</td>\n",
       "      <td>NaN</td>\n",
       "    </tr>\n",
       "    <tr>\n",
       "      <th>5780</th>\n",
       "      <td>2</td>\n",
       "      <td>Cook Plaza</td>\n",
       "      <td>Lisa</td>\n",
       "      <td>Rhodes</td>\n",
       "      <td>42</td>\n",
       "      <td>Lodger</td>\n",
       "      <td>Single</td>\n",
       "      <td>Female</td>\n",
       "      <td>Psychologist, educational</td>\n",
       "      <td>NaN</td>\n",
       "      <td>NaN</td>\n",
       "    </tr>\n",
       "    <tr>\n",
       "      <th>5781</th>\n",
       "      <td>2</td>\n",
       "      <td>Cook Plaza</td>\n",
       "      <td>Gerald</td>\n",
       "      <td>Smith</td>\n",
       "      <td>28</td>\n",
       "      <td>Lodger</td>\n",
       "      <td>Divorced</td>\n",
       "      <td>Male</td>\n",
       "      <td>Production manager</td>\n",
       "      <td>NaN</td>\n",
       "      <td>NaN</td>\n",
       "    </tr>\n",
       "  </tbody>\n",
       "</table>\n",
       "</div>"
      ],
      "text/plain": [
       "      House Number      Street First Name   Surname  Age  \\\n",
       "5778             2  Cook Plaza     Eileen  Williams   16   \n",
       "5779             2  Cook Plaza       Eric  Williams   19   \n",
       "5780             2  Cook Plaza       Lisa    Rhodes   42   \n",
       "5781             2  Cook Plaza     Gerald     Smith   28   \n",
       "\n",
       "     Relationship to Head of House Marital Status  Gender  \\\n",
       "5778                          Head        Married  Female   \n",
       "5779                       Husband        Married    Male   \n",
       "5780                        Lodger         Single  Female   \n",
       "5781                        Lodger       Divorced    Male   \n",
       "\n",
       "                     Occupation Infirmity Religion  \n",
       "5778                    Student       NaN      NaN  \n",
       "5779         University Student       NaN      NaN  \n",
       "5780  Psychologist, educational       NaN      NaN  \n",
       "5781         Production manager       NaN      NaN  "
      ]
     },
     "execution_count": 80,
     "metadata": {},
     "output_type": "execute_result"
    }
   ],
   "source": [
    "# Checking data of other individuals residing in the same residence\n",
    "\n",
    "df_copy[(df_copy['House Number'] == 2) & (df_copy['Street'] == 'Cook Plaza')]"
   ]
  },
  {
   "cell_type": "code",
   "execution_count": 81,
   "id": "17931489",
   "metadata": {},
   "outputs": [],
   "source": [
    "# Data above indicates Eileen and Eric Williams are married but this is incorrect as Eileen is underage\n",
    "\n",
    "# If Eileen's marital status changes to underage, Eric's status also needs to be changed to single as he cannot be married to her\n",
    "\n",
    "# Eric's relationship to head of house will also needs to be changed as he cannot be husband to the head of house\n",
    "\n",
    "# Considering all these factors, I concluded that it will be better to drop the Eric and Eileen as too many guesses need to be made"
   ]
  },
  {
   "cell_type": "code",
   "execution_count": 82,
   "id": "343b2058",
   "metadata": {},
   "outputs": [],
   "source": [
    "# Deleting Eric and Eileen\n",
    "\n",
    "household_to_delete_3 = df_copy[((df_copy['Surname'] == 'Williams') & (df_copy['House Number'] == 2) & (df_copy['Street'] == 'Cook Plaza'))]\n",
    "\n",
    "df_copy = df_copy.drop(household_to_delete_3.index)"
   ]
  },
  {
   "cell_type": "markdown",
   "id": "4d086cab",
   "metadata": {},
   "source": [
    "### Verifying Implementation"
   ]
  },
  {
   "cell_type": "code",
   "execution_count": 83,
   "id": "77c722cf",
   "metadata": {},
   "outputs": [
    {
     "data": {
      "text/html": [
       "<div>\n",
       "<style scoped>\n",
       "    .dataframe tbody tr th:only-of-type {\n",
       "        vertical-align: middle;\n",
       "    }\n",
       "\n",
       "    .dataframe tbody tr th {\n",
       "        vertical-align: top;\n",
       "    }\n",
       "\n",
       "    .dataframe thead th {\n",
       "        text-align: right;\n",
       "    }\n",
       "</style>\n",
       "<table border=\"1\" class=\"dataframe\">\n",
       "  <thead>\n",
       "    <tr style=\"text-align: right;\">\n",
       "      <th></th>\n",
       "      <th>House Number</th>\n",
       "      <th>Street</th>\n",
       "      <th>First Name</th>\n",
       "      <th>Surname</th>\n",
       "      <th>Age</th>\n",
       "      <th>Relationship to Head of House</th>\n",
       "      <th>Marital Status</th>\n",
       "      <th>Gender</th>\n",
       "      <th>Occupation</th>\n",
       "      <th>Infirmity</th>\n",
       "      <th>Religion</th>\n",
       "    </tr>\n",
       "  </thead>\n",
       "  <tbody>\n",
       "  </tbody>\n",
       "</table>\n",
       "</div>"
      ],
      "text/plain": [
       "Empty DataFrame\n",
       "Columns: [House Number, Street, First Name, Surname, Age, Relationship to Head of House, Marital Status, Gender, Occupation, Infirmity, Religion]\n",
       "Index: []"
      ]
     },
     "execution_count": 83,
     "metadata": {},
     "output_type": "execute_result"
    }
   ],
   "source": [
    "#Filtering those below 18 that are married \n",
    "\n",
    "df_copy[((df_copy['Age'] < 18) & (df_copy['Marital Status'] == 'Married'))]"
   ]
  },
  {
   "cell_type": "markdown",
   "id": "ef3a9499",
   "metadata": {},
   "source": [
    "### 18 and below that are divorced"
   ]
  },
  {
   "cell_type": "code",
   "execution_count": 84,
   "id": "25849eb3",
   "metadata": {},
   "outputs": [
    {
     "data": {
      "text/html": [
       "<div>\n",
       "<style scoped>\n",
       "    .dataframe tbody tr th:only-of-type {\n",
       "        vertical-align: middle;\n",
       "    }\n",
       "\n",
       "    .dataframe tbody tr th {\n",
       "        vertical-align: top;\n",
       "    }\n",
       "\n",
       "    .dataframe thead th {\n",
       "        text-align: right;\n",
       "    }\n",
       "</style>\n",
       "<table border=\"1\" class=\"dataframe\">\n",
       "  <thead>\n",
       "    <tr style=\"text-align: right;\">\n",
       "      <th></th>\n",
       "      <th>House Number</th>\n",
       "      <th>Street</th>\n",
       "      <th>First Name</th>\n",
       "      <th>Surname</th>\n",
       "      <th>Age</th>\n",
       "      <th>Relationship to Head of House</th>\n",
       "      <th>Marital Status</th>\n",
       "      <th>Gender</th>\n",
       "      <th>Occupation</th>\n",
       "      <th>Infirmity</th>\n",
       "      <th>Religion</th>\n",
       "    </tr>\n",
       "  </thead>\n",
       "  <tbody>\n",
       "    <tr>\n",
       "      <th>718</th>\n",
       "      <td>57</td>\n",
       "      <td>Wallis Rapids</td>\n",
       "      <td>Emily</td>\n",
       "      <td>Davidson</td>\n",
       "      <td>18</td>\n",
       "      <td>Granddaughter</td>\n",
       "      <td>Divorced</td>\n",
       "      <td>Female</td>\n",
       "      <td>Student</td>\n",
       "      <td>NaN</td>\n",
       "      <td>Christian</td>\n",
       "    </tr>\n",
       "    <tr>\n",
       "      <th>828</th>\n",
       "      <td>78</td>\n",
       "      <td>Wallis Rapids</td>\n",
       "      <td>Leon</td>\n",
       "      <td>Lee</td>\n",
       "      <td>18</td>\n",
       "      <td>Son</td>\n",
       "      <td>Divorced</td>\n",
       "      <td>Male</td>\n",
       "      <td>Student</td>\n",
       "      <td>NaN</td>\n",
       "      <td>Catholic</td>\n",
       "    </tr>\n",
       "    <tr>\n",
       "      <th>1155</th>\n",
       "      <td>2</td>\n",
       "      <td>Winterbarrier Street</td>\n",
       "      <td>Molly</td>\n",
       "      <td>Collins</td>\n",
       "      <td>18</td>\n",
       "      <td>Daughter</td>\n",
       "      <td>Divorced</td>\n",
       "      <td>Female</td>\n",
       "      <td>Student</td>\n",
       "      <td>NaN</td>\n",
       "      <td>NaN</td>\n",
       "    </tr>\n",
       "    <tr>\n",
       "      <th>1227</th>\n",
       "      <td>2</td>\n",
       "      <td>Willis Springs</td>\n",
       "      <td>Maria</td>\n",
       "      <td>Gough</td>\n",
       "      <td>18</td>\n",
       "      <td>Daughter</td>\n",
       "      <td>Divorced</td>\n",
       "      <td>Female</td>\n",
       "      <td>Student</td>\n",
       "      <td>NaN</td>\n",
       "      <td>NaN</td>\n",
       "    </tr>\n",
       "    <tr>\n",
       "      <th>2210</th>\n",
       "      <td>14</td>\n",
       "      <td>Mitchell Loaf</td>\n",
       "      <td>Josephine</td>\n",
       "      <td>Campbell</td>\n",
       "      <td>18</td>\n",
       "      <td>Daughter</td>\n",
       "      <td>Divorced</td>\n",
       "      <td>Female</td>\n",
       "      <td>Student</td>\n",
       "      <td>NaN</td>\n",
       "      <td>Christian</td>\n",
       "    </tr>\n",
       "    <tr>\n",
       "      <th>2409</th>\n",
       "      <td>33</td>\n",
       "      <td>Mill Drive</td>\n",
       "      <td>Abdul</td>\n",
       "      <td>Hartley</td>\n",
       "      <td>18</td>\n",
       "      <td>Son</td>\n",
       "      <td>Divorced</td>\n",
       "      <td>Male</td>\n",
       "      <td>Student</td>\n",
       "      <td>NaN</td>\n",
       "      <td>NaN</td>\n",
       "    </tr>\n",
       "    <tr>\n",
       "      <th>3335</th>\n",
       "      <td>39</td>\n",
       "      <td>Coin Street</td>\n",
       "      <td>Norman</td>\n",
       "      <td>Webb</td>\n",
       "      <td>18</td>\n",
       "      <td>Son</td>\n",
       "      <td>Divorced</td>\n",
       "      <td>Male</td>\n",
       "      <td>Student</td>\n",
       "      <td>NaN</td>\n",
       "      <td>NaN</td>\n",
       "    </tr>\n",
       "    <tr>\n",
       "      <th>3797</th>\n",
       "      <td>139</td>\n",
       "      <td>Green Squares</td>\n",
       "      <td>Zoe</td>\n",
       "      <td>Gordon</td>\n",
       "      <td>18</td>\n",
       "      <td>Daughter</td>\n",
       "      <td>Divorced</td>\n",
       "      <td>Female</td>\n",
       "      <td>Student</td>\n",
       "      <td>NaN</td>\n",
       "      <td>Christian</td>\n",
       "    </tr>\n",
       "    <tr>\n",
       "      <th>3927</th>\n",
       "      <td>180</td>\n",
       "      <td>Green Squares</td>\n",
       "      <td>George</td>\n",
       "      <td>Williamson</td>\n",
       "      <td>18</td>\n",
       "      <td>Son</td>\n",
       "      <td>Divorced</td>\n",
       "      <td>Male</td>\n",
       "      <td>Student</td>\n",
       "      <td>Mental Disability</td>\n",
       "      <td>NaN</td>\n",
       "    </tr>\n",
       "    <tr>\n",
       "      <th>4141</th>\n",
       "      <td>1</td>\n",
       "      <td>Apricot Rapids</td>\n",
       "      <td>Alexander</td>\n",
       "      <td>Rowe</td>\n",
       "      <td>18</td>\n",
       "      <td>Head</td>\n",
       "      <td>Divorced</td>\n",
       "      <td>Male</td>\n",
       "      <td>Student</td>\n",
       "      <td>NaN</td>\n",
       "      <td>NaN</td>\n",
       "    </tr>\n",
       "    <tr>\n",
       "      <th>4277</th>\n",
       "      <td>30</td>\n",
       "      <td>Taurus Lodge</td>\n",
       "      <td>Lauren</td>\n",
       "      <td>Law</td>\n",
       "      <td>18</td>\n",
       "      <td>Daughter</td>\n",
       "      <td>Divorced</td>\n",
       "      <td>Female</td>\n",
       "      <td>Student</td>\n",
       "      <td>NaN</td>\n",
       "      <td>NaN</td>\n",
       "    </tr>\n",
       "    <tr>\n",
       "      <th>4599</th>\n",
       "      <td>7</td>\n",
       "      <td>CherryChestnut Street</td>\n",
       "      <td>Lynn</td>\n",
       "      <td>Harris</td>\n",
       "      <td>18</td>\n",
       "      <td>Daughter</td>\n",
       "      <td>Divorced</td>\n",
       "      <td>Female</td>\n",
       "      <td>Student</td>\n",
       "      <td>NaN</td>\n",
       "      <td>Christian</td>\n",
       "    </tr>\n",
       "    <tr>\n",
       "      <th>4666</th>\n",
       "      <td>25</td>\n",
       "      <td>CherryChestnut Street</td>\n",
       "      <td>Lorraine</td>\n",
       "      <td>Blake</td>\n",
       "      <td>18</td>\n",
       "      <td>Daughter</td>\n",
       "      <td>Divorced</td>\n",
       "      <td>Female</td>\n",
       "      <td>Student</td>\n",
       "      <td>NaN</td>\n",
       "      <td>Christian</td>\n",
       "    </tr>\n",
       "    <tr>\n",
       "      <th>5135</th>\n",
       "      <td>16</td>\n",
       "      <td>Marsh Lights</td>\n",
       "      <td>Neil</td>\n",
       "      <td>Thornton</td>\n",
       "      <td>18</td>\n",
       "      <td>Son</td>\n",
       "      <td>Divorced</td>\n",
       "      <td>Male</td>\n",
       "      <td>Student</td>\n",
       "      <td>NaN</td>\n",
       "      <td>Catholic</td>\n",
       "    </tr>\n",
       "    <tr>\n",
       "      <th>5144</th>\n",
       "      <td>19</td>\n",
       "      <td>Marsh Lights</td>\n",
       "      <td>Liam</td>\n",
       "      <td>Wood</td>\n",
       "      <td>18</td>\n",
       "      <td>Son</td>\n",
       "      <td>Divorced</td>\n",
       "      <td>Male</td>\n",
       "      <td>Student</td>\n",
       "      <td>NaN</td>\n",
       "      <td>NaN</td>\n",
       "    </tr>\n",
       "    <tr>\n",
       "      <th>5774</th>\n",
       "      <td>1</td>\n",
       "      <td>Cook Plaza</td>\n",
       "      <td>Ann</td>\n",
       "      <td>Marsh</td>\n",
       "      <td>18</td>\n",
       "      <td>Daughter</td>\n",
       "      <td>Divorced</td>\n",
       "      <td>Female</td>\n",
       "      <td>Student</td>\n",
       "      <td>NaN</td>\n",
       "      <td>Catholic</td>\n",
       "    </tr>\n",
       "    <tr>\n",
       "      <th>8132</th>\n",
       "      <td>36</td>\n",
       "      <td>Willis Avenue</td>\n",
       "      <td>Brian</td>\n",
       "      <td>Evans</td>\n",
       "      <td>18</td>\n",
       "      <td>Son</td>\n",
       "      <td>Divorced</td>\n",
       "      <td>Male</td>\n",
       "      <td>Student</td>\n",
       "      <td>NaN</td>\n",
       "      <td>NaN</td>\n",
       "    </tr>\n",
       "    <tr>\n",
       "      <th>8410</th>\n",
       "      <td>141</td>\n",
       "      <td>Willis Avenue</td>\n",
       "      <td>Dawn</td>\n",
       "      <td>Robinson</td>\n",
       "      <td>18</td>\n",
       "      <td>Daughter</td>\n",
       "      <td>Divorced</td>\n",
       "      <td>Female</td>\n",
       "      <td>Student</td>\n",
       "      <td>NaN</td>\n",
       "      <td>Catholic</td>\n",
       "    </tr>\n",
       "    <tr>\n",
       "      <th>8761</th>\n",
       "      <td>7</td>\n",
       "      <td>Taurus Garden</td>\n",
       "      <td>Guy</td>\n",
       "      <td>Whittaker</td>\n",
       "      <td>18</td>\n",
       "      <td>Son</td>\n",
       "      <td>Divorced</td>\n",
       "      <td>Male</td>\n",
       "      <td>Student</td>\n",
       "      <td>NaN</td>\n",
       "      <td>NaN</td>\n",
       "    </tr>\n",
       "  </tbody>\n",
       "</table>\n",
       "</div>"
      ],
      "text/plain": [
       "      House Number                 Street First Name     Surname  Age  \\\n",
       "718             57          Wallis Rapids      Emily    Davidson   18   \n",
       "828             78          Wallis Rapids       Leon         Lee   18   \n",
       "1155             2   Winterbarrier Street      Molly     Collins   18   \n",
       "1227             2         Willis Springs      Maria       Gough   18   \n",
       "2210            14          Mitchell Loaf  Josephine    Campbell   18   \n",
       "2409            33             Mill Drive      Abdul     Hartley   18   \n",
       "3335            39            Coin Street     Norman        Webb   18   \n",
       "3797           139          Green Squares        Zoe      Gordon   18   \n",
       "3927           180          Green Squares     George  Williamson   18   \n",
       "4141             1         Apricot Rapids  Alexander        Rowe   18   \n",
       "4277            30           Taurus Lodge     Lauren         Law   18   \n",
       "4599             7  CherryChestnut Street       Lynn      Harris   18   \n",
       "4666            25  CherryChestnut Street   Lorraine       Blake   18   \n",
       "5135            16           Marsh Lights       Neil    Thornton   18   \n",
       "5144            19           Marsh Lights       Liam        Wood   18   \n",
       "5774             1             Cook Plaza        Ann       Marsh   18   \n",
       "8132            36          Willis Avenue      Brian       Evans   18   \n",
       "8410           141          Willis Avenue       Dawn    Robinson   18   \n",
       "8761             7          Taurus Garden        Guy   Whittaker   18   \n",
       "\n",
       "     Relationship to Head of House Marital Status  Gender Occupation  \\\n",
       "718                  Granddaughter       Divorced  Female    Student   \n",
       "828                            Son       Divorced    Male    Student   \n",
       "1155                      Daughter       Divorced  Female    Student   \n",
       "1227                      Daughter       Divorced  Female    Student   \n",
       "2210                      Daughter       Divorced  Female    Student   \n",
       "2409                           Son       Divorced    Male    Student   \n",
       "3335                           Son       Divorced    Male    Student   \n",
       "3797                      Daughter       Divorced  Female    Student   \n",
       "3927                           Son       Divorced    Male    Student   \n",
       "4141                          Head       Divorced    Male    Student   \n",
       "4277                      Daughter       Divorced  Female    Student   \n",
       "4599                      Daughter       Divorced  Female    Student   \n",
       "4666                      Daughter       Divorced  Female    Student   \n",
       "5135                           Son       Divorced    Male    Student   \n",
       "5144                           Son       Divorced    Male    Student   \n",
       "5774                      Daughter       Divorced  Female    Student   \n",
       "8132                           Son       Divorced    Male    Student   \n",
       "8410                      Daughter       Divorced  Female    Student   \n",
       "8761                           Son       Divorced    Male    Student   \n",
       "\n",
       "              Infirmity   Religion  \n",
       "718                 NaN  Christian  \n",
       "828                 NaN   Catholic  \n",
       "1155                NaN        NaN  \n",
       "1227                NaN        NaN  \n",
       "2210                NaN  Christian  \n",
       "2409                NaN        NaN  \n",
       "3335                NaN        NaN  \n",
       "3797                NaN  Christian  \n",
       "3927  Mental Disability        NaN  \n",
       "4141                NaN        NaN  \n",
       "4277                NaN        NaN  \n",
       "4599                NaN  Christian  \n",
       "4666                NaN  Christian  \n",
       "5135                NaN   Catholic  \n",
       "5144                NaN        NaN  \n",
       "5774                NaN   Catholic  \n",
       "8132                NaN        NaN  \n",
       "8410                NaN   Catholic  \n",
       "8761                NaN        NaN  "
      ]
     },
     "execution_count": 84,
     "metadata": {},
     "output_type": "execute_result"
    }
   ],
   "source": [
    "# 18 years is included in this category as you can't be divorced till you've been married at least a year which will make all divorced individuals 19 or over)\n",
    "\n",
    "# Filtering individuals 18 or below that are divorced\n",
    "\n",
    "df_copy[((df_copy['Age'] <= 18) & (df_copy['Marital Status'] == 'Divorced'))]"
   ]
  },
  {
   "cell_type": "code",
   "execution_count": 85,
   "id": "7488f791",
   "metadata": {},
   "outputs": [],
   "source": [
    "# Nineteen individuals have been recorded as divorced. We can infer that this information is incorrect as they need to be at least 19 to be divorced\n",
    "\n",
    "# Apart from one that was recorded as head of house, the remaining are all sons or daughters of the head of house which also indicates they reside with their parents\n",
    "\n",
    "# Their occupation has also been recorded as students, further indicating that they probably still live with parents\n",
    "\n",
    "# Considering all these facts, I concluded that the marital status of these individuals should be single"
   ]
  },
  {
   "cell_type": "code",
   "execution_count": 86,
   "id": "3e1bbf0e",
   "metadata": {},
   "outputs": [],
   "source": [
    "# Replacing 18 years old that are divorced with single\n",
    "\n",
    "Eighteen_and_divorced = (df_copy['Age'] == 18) & (df_copy['Marital Status'] == 'Divorced')\n",
    "\n",
    "df_copy.loc[Eighteen_and_divorced, 'Marital Status'] = 'Single'"
   ]
  },
  {
   "cell_type": "markdown",
   "id": "7fbf403f",
   "metadata": {},
   "source": [
    "### Verifying Implementation"
   ]
  },
  {
   "cell_type": "code",
   "execution_count": 87,
   "id": "43e8dbfb",
   "metadata": {},
   "outputs": [
    {
     "data": {
      "text/html": [
       "<div>\n",
       "<style scoped>\n",
       "    .dataframe tbody tr th:only-of-type {\n",
       "        vertical-align: middle;\n",
       "    }\n",
       "\n",
       "    .dataframe tbody tr th {\n",
       "        vertical-align: top;\n",
       "    }\n",
       "\n",
       "    .dataframe thead th {\n",
       "        text-align: right;\n",
       "    }\n",
       "</style>\n",
       "<table border=\"1\" class=\"dataframe\">\n",
       "  <thead>\n",
       "    <tr style=\"text-align: right;\">\n",
       "      <th></th>\n",
       "      <th>House Number</th>\n",
       "      <th>Street</th>\n",
       "      <th>First Name</th>\n",
       "      <th>Surname</th>\n",
       "      <th>Age</th>\n",
       "      <th>Relationship to Head of House</th>\n",
       "      <th>Marital Status</th>\n",
       "      <th>Gender</th>\n",
       "      <th>Occupation</th>\n",
       "      <th>Infirmity</th>\n",
       "      <th>Religion</th>\n",
       "    </tr>\n",
       "  </thead>\n",
       "  <tbody>\n",
       "  </tbody>\n",
       "</table>\n",
       "</div>"
      ],
      "text/plain": [
       "Empty DataFrame\n",
       "Columns: [House Number, Street, First Name, Surname, Age, Relationship to Head of House, Marital Status, Gender, Occupation, Infirmity, Religion]\n",
       "Index: []"
      ]
     },
     "execution_count": 87,
     "metadata": {},
     "output_type": "execute_result"
    }
   ],
   "source": [
    "# Checking for 18 and below that are still recorded as divorced\n",
    "\n",
    "df_copy[((df_copy['Age'] <= 18) & (df_copy['Marital Status'] == 'Divorced'))]"
   ]
  },
  {
   "cell_type": "markdown",
   "id": "938f43b6",
   "metadata": {},
   "source": [
    "### Below 18 that are widowed"
   ]
  },
  {
   "cell_type": "code",
   "execution_count": 88,
   "id": "f0c677e0",
   "metadata": {},
   "outputs": [
    {
     "data": {
      "text/html": [
       "<div>\n",
       "<style scoped>\n",
       "    .dataframe tbody tr th:only-of-type {\n",
       "        vertical-align: middle;\n",
       "    }\n",
       "\n",
       "    .dataframe tbody tr th {\n",
       "        vertical-align: top;\n",
       "    }\n",
       "\n",
       "    .dataframe thead th {\n",
       "        text-align: right;\n",
       "    }\n",
       "</style>\n",
       "<table border=\"1\" class=\"dataframe\">\n",
       "  <thead>\n",
       "    <tr style=\"text-align: right;\">\n",
       "      <th></th>\n",
       "      <th>House Number</th>\n",
       "      <th>Street</th>\n",
       "      <th>First Name</th>\n",
       "      <th>Surname</th>\n",
       "      <th>Age</th>\n",
       "      <th>Relationship to Head of House</th>\n",
       "      <th>Marital Status</th>\n",
       "      <th>Gender</th>\n",
       "      <th>Occupation</th>\n",
       "      <th>Infirmity</th>\n",
       "      <th>Religion</th>\n",
       "    </tr>\n",
       "  </thead>\n",
       "  <tbody>\n",
       "  </tbody>\n",
       "</table>\n",
       "</div>"
      ],
      "text/plain": [
       "Empty DataFrame\n",
       "Columns: [House Number, Street, First Name, Surname, Age, Relationship to Head of House, Marital Status, Gender, Occupation, Infirmity, Religion]\n",
       "Index: []"
      ]
     },
     "execution_count": 88,
     "metadata": {},
     "output_type": "execute_result"
    }
   ],
   "source": [
    "# Checking those below 18 that are widowed\n",
    "\n",
    "df_copy[((df_copy['Age'] < 18) & (df_copy['Marital Status'] == 'Widowed'))]"
   ]
  },
  {
   "cell_type": "markdown",
   "id": "9f9e676e",
   "metadata": {},
   "source": [
    "### Verify Implementation"
   ]
  },
  {
   "cell_type": "code",
   "execution_count": 89,
   "id": "6512e09d",
   "metadata": {},
   "outputs": [
    {
     "data": {
      "text/html": [
       "<div>\n",
       "<style scoped>\n",
       "    .dataframe tbody tr th:only-of-type {\n",
       "        vertical-align: middle;\n",
       "    }\n",
       "\n",
       "    .dataframe tbody tr th {\n",
       "        vertical-align: top;\n",
       "    }\n",
       "\n",
       "    .dataframe thead th {\n",
       "        text-align: right;\n",
       "    }\n",
       "</style>\n",
       "<table border=\"1\" class=\"dataframe\">\n",
       "  <thead>\n",
       "    <tr style=\"text-align: right;\">\n",
       "      <th></th>\n",
       "      <th>House Number</th>\n",
       "      <th>Street</th>\n",
       "      <th>First Name</th>\n",
       "      <th>Surname</th>\n",
       "      <th>Age</th>\n",
       "      <th>Relationship to Head of House</th>\n",
       "      <th>Marital Status</th>\n",
       "      <th>Gender</th>\n",
       "      <th>Occupation</th>\n",
       "      <th>Infirmity</th>\n",
       "      <th>Religion</th>\n",
       "    </tr>\n",
       "  </thead>\n",
       "  <tbody>\n",
       "  </tbody>\n",
       "</table>\n",
       "</div>"
      ],
      "text/plain": [
       "Empty DataFrame\n",
       "Columns: [House Number, Street, First Name, Surname, Age, Relationship to Head of House, Marital Status, Gender, Occupation, Infirmity, Religion]\n",
       "Index: []"
      ]
     },
     "execution_count": 89,
     "metadata": {},
     "output_type": "execute_result"
    }
   ],
   "source": [
    "#Checking for blank input\n",
    "\n",
    "df_copy[df_copy['Marital Status'] == ' ']"
   ]
  },
  {
   "cell_type": "markdown",
   "id": "08c1350d",
   "metadata": {},
   "source": [
    "  "
   ]
  },
  {
   "cell_type": "markdown",
   "id": "bd2ad134",
   "metadata": {},
   "source": [
    "### 6. Gender column contains a blank input."
   ]
  },
  {
   "cell_type": "code",
   "execution_count": 90,
   "id": "950c0d1a",
   "metadata": {},
   "outputs": [
    {
     "data": {
      "text/html": [
       "<div>\n",
       "<style scoped>\n",
       "    .dataframe tbody tr th:only-of-type {\n",
       "        vertical-align: middle;\n",
       "    }\n",
       "\n",
       "    .dataframe tbody tr th {\n",
       "        vertical-align: top;\n",
       "    }\n",
       "\n",
       "    .dataframe thead th {\n",
       "        text-align: right;\n",
       "    }\n",
       "</style>\n",
       "<table border=\"1\" class=\"dataframe\">\n",
       "  <thead>\n",
       "    <tr style=\"text-align: right;\">\n",
       "      <th></th>\n",
       "      <th>House Number</th>\n",
       "      <th>Street</th>\n",
       "      <th>First Name</th>\n",
       "      <th>Surname</th>\n",
       "      <th>Age</th>\n",
       "      <th>Relationship to Head of House</th>\n",
       "      <th>Marital Status</th>\n",
       "      <th>Gender</th>\n",
       "      <th>Occupation</th>\n",
       "      <th>Infirmity</th>\n",
       "      <th>Religion</th>\n",
       "    </tr>\n",
       "  </thead>\n",
       "  <tbody>\n",
       "    <tr>\n",
       "      <th>9599</th>\n",
       "      <td>9</td>\n",
       "      <td>ExcaliburBells Dam</td>\n",
       "      <td>Sophie</td>\n",
       "      <td>Doyle-Hurst</td>\n",
       "      <td>48</td>\n",
       "      <td>Partner</td>\n",
       "      <td>Single</td>\n",
       "      <td></td>\n",
       "      <td>Music therapist</td>\n",
       "      <td>NaN</td>\n",
       "      <td>NaN</td>\n",
       "    </tr>\n",
       "  </tbody>\n",
       "</table>\n",
       "</div>"
      ],
      "text/plain": [
       "      House Number              Street First Name      Surname  Age  \\\n",
       "9599             9  ExcaliburBells Dam     Sophie  Doyle-Hurst   48   \n",
       "\n",
       "     Relationship to Head of House Marital Status Gender       Occupation  \\\n",
       "9599                       Partner         Single         Music therapist   \n",
       "\n",
       "     Infirmity Religion  \n",
       "9599       NaN      NaN  "
      ]
     },
     "execution_count": 90,
     "metadata": {},
     "output_type": "execute_result"
    }
   ],
   "source": [
    "# Checking for blank input\n",
    "\n",
    "df_copy[df_copy['Gender'] == ' ']"
   ]
  },
  {
   "cell_type": "code",
   "execution_count": 91,
   "id": "c1243239",
   "metadata": {},
   "outputs": [],
   "source": [
    "# Assigining gender as female based on the probability that the name 'Sophie' is commonly a female name\n",
    "\n",
    "df_copy['Gender'] = df_copy['Gender'].replace(' ', 'Female')"
   ]
  },
  {
   "cell_type": "markdown",
   "id": "affe9ac3",
   "metadata": {},
   "source": [
    "### Verify Implementation"
   ]
  },
  {
   "cell_type": "code",
   "execution_count": 92,
   "id": "05dc19ba",
   "metadata": {},
   "outputs": [
    {
     "data": {
      "text/html": [
       "<div>\n",
       "<style scoped>\n",
       "    .dataframe tbody tr th:only-of-type {\n",
       "        vertical-align: middle;\n",
       "    }\n",
       "\n",
       "    .dataframe tbody tr th {\n",
       "        vertical-align: top;\n",
       "    }\n",
       "\n",
       "    .dataframe thead th {\n",
       "        text-align: right;\n",
       "    }\n",
       "</style>\n",
       "<table border=\"1\" class=\"dataframe\">\n",
       "  <thead>\n",
       "    <tr style=\"text-align: right;\">\n",
       "      <th></th>\n",
       "      <th>House Number</th>\n",
       "      <th>Street</th>\n",
       "      <th>First Name</th>\n",
       "      <th>Surname</th>\n",
       "      <th>Age</th>\n",
       "      <th>Relationship to Head of House</th>\n",
       "      <th>Marital Status</th>\n",
       "      <th>Gender</th>\n",
       "      <th>Occupation</th>\n",
       "      <th>Infirmity</th>\n",
       "      <th>Religion</th>\n",
       "    </tr>\n",
       "  </thead>\n",
       "  <tbody>\n",
       "  </tbody>\n",
       "</table>\n",
       "</div>"
      ],
      "text/plain": [
       "Empty DataFrame\n",
       "Columns: [House Number, Street, First Name, Surname, Age, Relationship to Head of House, Marital Status, Gender, Occupation, Infirmity, Religion]\n",
       "Index: []"
      ]
     },
     "execution_count": 92,
     "metadata": {},
     "output_type": "execute_result"
    }
   ],
   "source": [
    "# Checking for blank input\n",
    "\n",
    "df_copy[df_copy['Gender'] == ' ']"
   ]
  },
  {
   "cell_type": "markdown",
   "id": "fccf00b5",
   "metadata": {},
   "source": [
    " "
   ]
  },
  {
   "cell_type": "code",
   "execution_count": 93,
   "id": "ca1617b7",
   "metadata": {},
   "outputs": [
    {
     "data": {
      "text/plain": [
       "array(['Female', 'Male'], dtype=object)"
      ]
     },
     "execution_count": 93,
     "metadata": {},
     "output_type": "execute_result"
    }
   ],
   "source": [
    "# Checking for unique values\n",
    "\n",
    "df_copy['Gender'].unique()"
   ]
  },
  {
   "cell_type": "markdown",
   "id": "354db2b5",
   "metadata": {},
   "source": [
    "  "
   ]
  },
  {
   "cell_type": "markdown",
   "id": "e3bf4296",
   "metadata": {},
   "source": [
    "### 7. Occupation column contains a blank input and some individuals above 66 are recorded as unemployed"
   ]
  },
  {
   "cell_type": "code",
   "execution_count": 94,
   "id": "c7a49259",
   "metadata": {},
   "outputs": [
    {
     "data": {
      "text/html": [
       "<div>\n",
       "<style scoped>\n",
       "    .dataframe tbody tr th:only-of-type {\n",
       "        vertical-align: middle;\n",
       "    }\n",
       "\n",
       "    .dataframe tbody tr th {\n",
       "        vertical-align: top;\n",
       "    }\n",
       "\n",
       "    .dataframe thead th {\n",
       "        text-align: right;\n",
       "    }\n",
       "</style>\n",
       "<table border=\"1\" class=\"dataframe\">\n",
       "  <thead>\n",
       "    <tr style=\"text-align: right;\">\n",
       "      <th></th>\n",
       "      <th>House Number</th>\n",
       "      <th>Street</th>\n",
       "      <th>First Name</th>\n",
       "      <th>Surname</th>\n",
       "      <th>Age</th>\n",
       "      <th>Relationship to Head of House</th>\n",
       "      <th>Marital Status</th>\n",
       "      <th>Gender</th>\n",
       "      <th>Occupation</th>\n",
       "      <th>Infirmity</th>\n",
       "      <th>Religion</th>\n",
       "    </tr>\n",
       "  </thead>\n",
       "  <tbody>\n",
       "    <tr>\n",
       "      <th>8563</th>\n",
       "      <td>205</td>\n",
       "      <td>Willis Avenue</td>\n",
       "      <td>Bernard</td>\n",
       "      <td>Williams</td>\n",
       "      <td>21</td>\n",
       "      <td>Head</td>\n",
       "      <td>Single</td>\n",
       "      <td>Male</td>\n",
       "      <td></td>\n",
       "      <td>NaN</td>\n",
       "      <td>Methodist</td>\n",
       "    </tr>\n",
       "  </tbody>\n",
       "</table>\n",
       "</div>"
      ],
      "text/plain": [
       "      House Number         Street First Name   Surname  Age  \\\n",
       "8563           205  Willis Avenue    Bernard  Williams   21   \n",
       "\n",
       "     Relationship to Head of House Marital Status Gender Occupation Infirmity  \\\n",
       "8563                          Head         Single   Male                  NaN   \n",
       "\n",
       "       Religion  \n",
       "8563  Methodist  "
      ]
     },
     "execution_count": 94,
     "metadata": {},
     "output_type": "execute_result"
    }
   ],
   "source": [
    "# Checking for blank input\n",
    "\n",
    "df_copy[df_copy['Occupation'] == ' ']"
   ]
  },
  {
   "cell_type": "code",
   "execution_count": 95,
   "id": "1e26b570",
   "metadata": {
    "scrolled": true
   },
   "outputs": [
    {
     "data": {
      "text/html": [
       "<div>\n",
       "<style scoped>\n",
       "    .dataframe tbody tr th:only-of-type {\n",
       "        vertical-align: middle;\n",
       "    }\n",
       "\n",
       "    .dataframe tbody tr th {\n",
       "        vertical-align: top;\n",
       "    }\n",
       "\n",
       "    .dataframe thead th {\n",
       "        text-align: right;\n",
       "    }\n",
       "</style>\n",
       "<table border=\"1\" class=\"dataframe\">\n",
       "  <thead>\n",
       "    <tr style=\"text-align: right;\">\n",
       "      <th></th>\n",
       "      <th>House Number</th>\n",
       "      <th>Street</th>\n",
       "      <th>First Name</th>\n",
       "      <th>Surname</th>\n",
       "      <th>Age</th>\n",
       "      <th>Relationship to Head of House</th>\n",
       "      <th>Marital Status</th>\n",
       "      <th>Gender</th>\n",
       "      <th>Occupation</th>\n",
       "      <th>Infirmity</th>\n",
       "      <th>Religion</th>\n",
       "    </tr>\n",
       "  </thead>\n",
       "  <tbody>\n",
       "    <tr>\n",
       "      <th>8563</th>\n",
       "      <td>205</td>\n",
       "      <td>Willis Avenue</td>\n",
       "      <td>Bernard</td>\n",
       "      <td>Williams</td>\n",
       "      <td>21</td>\n",
       "      <td>Head</td>\n",
       "      <td>Single</td>\n",
       "      <td>Male</td>\n",
       "      <td></td>\n",
       "      <td>NaN</td>\n",
       "      <td>Methodist</td>\n",
       "    </tr>\n",
       "    <tr>\n",
       "      <th>8564</th>\n",
       "      <td>205</td>\n",
       "      <td>Willis Avenue</td>\n",
       "      <td>Lisa</td>\n",
       "      <td>Graham</td>\n",
       "      <td>21</td>\n",
       "      <td>NaN</td>\n",
       "      <td>Single</td>\n",
       "      <td>Female</td>\n",
       "      <td>University Student</td>\n",
       "      <td>NaN</td>\n",
       "      <td>NaN</td>\n",
       "    </tr>\n",
       "    <tr>\n",
       "      <th>8565</th>\n",
       "      <td>205</td>\n",
       "      <td>Willis Avenue</td>\n",
       "      <td>Rhys</td>\n",
       "      <td>Burrows</td>\n",
       "      <td>21</td>\n",
       "      <td>NaN</td>\n",
       "      <td>Single</td>\n",
       "      <td>Male</td>\n",
       "      <td>University Student</td>\n",
       "      <td>NaN</td>\n",
       "      <td>Catholic</td>\n",
       "    </tr>\n",
       "  </tbody>\n",
       "</table>\n",
       "</div>"
      ],
      "text/plain": [
       "      House Number         Street First Name   Surname  Age  \\\n",
       "8563           205  Willis Avenue    Bernard  Williams   21   \n",
       "8564           205  Willis Avenue       Lisa    Graham   21   \n",
       "8565           205  Willis Avenue       Rhys   Burrows   21   \n",
       "\n",
       "     Relationship to Head of House Marital Status  Gender          Occupation  \\\n",
       "8563                          Head         Single    Male                       \n",
       "8564                           NaN         Single  Female  University Student   \n",
       "8565                           NaN         Single    Male  University Student   \n",
       "\n",
       "     Infirmity   Religion  \n",
       "8563       NaN  Methodist  \n",
       "8564       NaN        NaN  \n",
       "8565       NaN   Catholic  "
      ]
     },
     "execution_count": 95,
     "metadata": {},
     "output_type": "execute_result"
    }
   ],
   "source": [
    "# Checking data of other individuals residing in the same residence\n",
    "\n",
    "df_copy[(df_copy['House Number'] == 205) & (df_copy['Street'] == 'Willis Avenue')]"
   ]
  },
  {
   "cell_type": "code",
   "execution_count": 96,
   "id": "04156218",
   "metadata": {},
   "outputs": [],
   "source": [
    "# Assigning 'University Student' as the occupation to the blank input as the data shows that other individuals in that same house of the same age are both university students.\n",
    "\n",
    "df_copy['Occupation'] = df_copy['Occupation'].replace(' ', 'University Student')"
   ]
  },
  {
   "cell_type": "markdown",
   "id": "1571048d",
   "metadata": {},
   "source": [
    "### Above 66 that are recorded as unemployed"
   ]
  },
  {
   "cell_type": "code",
   "execution_count": 97,
   "id": "701d06e9",
   "metadata": {},
   "outputs": [
    {
     "data": {
      "text/html": [
       "<div>\n",
       "<style scoped>\n",
       "    .dataframe tbody tr th:only-of-type {\n",
       "        vertical-align: middle;\n",
       "    }\n",
       "\n",
       "    .dataframe tbody tr th {\n",
       "        vertical-align: top;\n",
       "    }\n",
       "\n",
       "    .dataframe thead th {\n",
       "        text-align: right;\n",
       "    }\n",
       "</style>\n",
       "<table border=\"1\" class=\"dataframe\">\n",
       "  <thead>\n",
       "    <tr style=\"text-align: right;\">\n",
       "      <th></th>\n",
       "      <th>House Number</th>\n",
       "      <th>Street</th>\n",
       "      <th>First Name</th>\n",
       "      <th>Surname</th>\n",
       "      <th>Age</th>\n",
       "      <th>Relationship to Head of House</th>\n",
       "      <th>Marital Status</th>\n",
       "      <th>Gender</th>\n",
       "      <th>Occupation</th>\n",
       "      <th>Infirmity</th>\n",
       "      <th>Religion</th>\n",
       "    </tr>\n",
       "  </thead>\n",
       "  <tbody>\n",
       "    <tr>\n",
       "      <th>258</th>\n",
       "      <td>41</td>\n",
       "      <td>Rhubarb Drive</td>\n",
       "      <td>Marian</td>\n",
       "      <td>Green</td>\n",
       "      <td>69</td>\n",
       "      <td>Head</td>\n",
       "      <td>Married</td>\n",
       "      <td>Female</td>\n",
       "      <td>Unemployed</td>\n",
       "      <td>NaN</td>\n",
       "      <td>Catholic</td>\n",
       "    </tr>\n",
       "    <tr>\n",
       "      <th>259</th>\n",
       "      <td>41</td>\n",
       "      <td>Rhubarb Drive</td>\n",
       "      <td>Jack</td>\n",
       "      <td>Green</td>\n",
       "      <td>71</td>\n",
       "      <td>Husband</td>\n",
       "      <td>Married</td>\n",
       "      <td>Male</td>\n",
       "      <td>Unemployed</td>\n",
       "      <td>NaN</td>\n",
       "      <td>Catholic</td>\n",
       "    </tr>\n",
       "    <tr>\n",
       "      <th>606</th>\n",
       "      <td>44</td>\n",
       "      <td>Wallis Rapids</td>\n",
       "      <td>Ashleigh</td>\n",
       "      <td>Khan</td>\n",
       "      <td>67</td>\n",
       "      <td>Head</td>\n",
       "      <td>Married</td>\n",
       "      <td>Female</td>\n",
       "      <td>Unemployed</td>\n",
       "      <td>NaN</td>\n",
       "      <td>NaN</td>\n",
       "    </tr>\n",
       "    <tr>\n",
       "      <th>959</th>\n",
       "      <td>10</td>\n",
       "      <td>Testamentrigg Road</td>\n",
       "      <td>Alexandra</td>\n",
       "      <td>Ali</td>\n",
       "      <td>73</td>\n",
       "      <td>Head</td>\n",
       "      <td>Widowed</td>\n",
       "      <td>Female</td>\n",
       "      <td>Unemployed</td>\n",
       "      <td>NaN</td>\n",
       "      <td>Christian</td>\n",
       "    </tr>\n",
       "    <tr>\n",
       "      <th>1334</th>\n",
       "      <td>38</td>\n",
       "      <td>Inner Street</td>\n",
       "      <td>Gareth</td>\n",
       "      <td>Stephens</td>\n",
       "      <td>74</td>\n",
       "      <td>Head</td>\n",
       "      <td>Divorced</td>\n",
       "      <td>Male</td>\n",
       "      <td>Unemployed</td>\n",
       "      <td>NaN</td>\n",
       "      <td>NaN</td>\n",
       "    </tr>\n",
       "    <tr>\n",
       "      <th>1378</th>\n",
       "      <td>17</td>\n",
       "      <td>Protectoratearch Road</td>\n",
       "      <td>Lynda</td>\n",
       "      <td>Holmes</td>\n",
       "      <td>89</td>\n",
       "      <td>Head</td>\n",
       "      <td>Divorced</td>\n",
       "      <td>Female</td>\n",
       "      <td>Unemployed</td>\n",
       "      <td>NaN</td>\n",
       "      <td>Catholic</td>\n",
       "    </tr>\n",
       "    <tr>\n",
       "      <th>1693</th>\n",
       "      <td>68</td>\n",
       "      <td>Richardson Street</td>\n",
       "      <td>Joanne</td>\n",
       "      <td>Davies</td>\n",
       "      <td>77</td>\n",
       "      <td>Head</td>\n",
       "      <td>Single</td>\n",
       "      <td>Female</td>\n",
       "      <td>Unemployed</td>\n",
       "      <td>NaN</td>\n",
       "      <td>NaN</td>\n",
       "    </tr>\n",
       "    <tr>\n",
       "      <th>1966</th>\n",
       "      <td>34</td>\n",
       "      <td>Cancer Lane</td>\n",
       "      <td>Richard</td>\n",
       "      <td>Walsh</td>\n",
       "      <td>66</td>\n",
       "      <td>Partner</td>\n",
       "      <td>Single</td>\n",
       "      <td>Male</td>\n",
       "      <td>Unemployed</td>\n",
       "      <td>NaN</td>\n",
       "      <td>NaN</td>\n",
       "    </tr>\n",
       "    <tr>\n",
       "      <th>2338</th>\n",
       "      <td>11</td>\n",
       "      <td>Mill Drive</td>\n",
       "      <td>Yvonne</td>\n",
       "      <td>Edwards</td>\n",
       "      <td>72</td>\n",
       "      <td>Head</td>\n",
       "      <td>Married</td>\n",
       "      <td>Female</td>\n",
       "      <td>Unemployed</td>\n",
       "      <td>NaN</td>\n",
       "      <td>Christian</td>\n",
       "    </tr>\n",
       "    <tr>\n",
       "      <th>2422</th>\n",
       "      <td>38</td>\n",
       "      <td>Mill Drive</td>\n",
       "      <td>Jean</td>\n",
       "      <td>Cox</td>\n",
       "      <td>77</td>\n",
       "      <td>Head</td>\n",
       "      <td>Widowed</td>\n",
       "      <td>Female</td>\n",
       "      <td>Unemployed</td>\n",
       "      <td>NaN</td>\n",
       "      <td>Catholic</td>\n",
       "    </tr>\n",
       "    <tr>\n",
       "      <th>2660</th>\n",
       "      <td>2</td>\n",
       "      <td>Chelmsfordshot Street</td>\n",
       "      <td>Valerie</td>\n",
       "      <td>Gordon</td>\n",
       "      <td>77</td>\n",
       "      <td>Head</td>\n",
       "      <td>Widowed</td>\n",
       "      <td>Female</td>\n",
       "      <td>Unemployed</td>\n",
       "      <td>NaN</td>\n",
       "      <td>Christian</td>\n",
       "    </tr>\n",
       "    <tr>\n",
       "      <th>2801</th>\n",
       "      <td>18</td>\n",
       "      <td>Orchard Crescent</td>\n",
       "      <td>Sharon</td>\n",
       "      <td>Kennedy</td>\n",
       "      <td>78</td>\n",
       "      <td>Head</td>\n",
       "      <td>Widowed</td>\n",
       "      <td>Female</td>\n",
       "      <td>Unemployed</td>\n",
       "      <td>NaN</td>\n",
       "      <td>Christian</td>\n",
       "    </tr>\n",
       "    <tr>\n",
       "      <th>2971</th>\n",
       "      <td>25</td>\n",
       "      <td>Taylor Wall</td>\n",
       "      <td>Kayleigh</td>\n",
       "      <td>Murphy</td>\n",
       "      <td>69</td>\n",
       "      <td>Head</td>\n",
       "      <td>Widowed</td>\n",
       "      <td>Female</td>\n",
       "      <td>Unemployed</td>\n",
       "      <td>NaN</td>\n",
       "      <td>Catholic</td>\n",
       "    </tr>\n",
       "    <tr>\n",
       "      <th>3140</th>\n",
       "      <td>45</td>\n",
       "      <td>Anvil Crescent</td>\n",
       "      <td>Hollie</td>\n",
       "      <td>Robinson</td>\n",
       "      <td>66</td>\n",
       "      <td>Head</td>\n",
       "      <td>Widowed</td>\n",
       "      <td>Female</td>\n",
       "      <td>Unemployed</td>\n",
       "      <td>NaN</td>\n",
       "      <td>NaN</td>\n",
       "    </tr>\n",
       "    <tr>\n",
       "      <th>3309</th>\n",
       "      <td>31</td>\n",
       "      <td>Coin Street</td>\n",
       "      <td>Sara</td>\n",
       "      <td>Winter</td>\n",
       "      <td>66</td>\n",
       "      <td>Head</td>\n",
       "      <td>Married</td>\n",
       "      <td>Female</td>\n",
       "      <td>Unemployed</td>\n",
       "      <td>NaN</td>\n",
       "      <td>Christian</td>\n",
       "    </tr>\n",
       "    <tr>\n",
       "      <th>3405</th>\n",
       "      <td>22</td>\n",
       "      <td>Green Squares</td>\n",
       "      <td>Judith</td>\n",
       "      <td>Williams</td>\n",
       "      <td>77</td>\n",
       "      <td>Head</td>\n",
       "      <td>Single</td>\n",
       "      <td>Female</td>\n",
       "      <td>Unemployed</td>\n",
       "      <td>NaN</td>\n",
       "      <td>NaN</td>\n",
       "    </tr>\n",
       "    <tr>\n",
       "      <th>3515</th>\n",
       "      <td>54</td>\n",
       "      <td>Green Squares</td>\n",
       "      <td>Zoe</td>\n",
       "      <td>King</td>\n",
       "      <td>75</td>\n",
       "      <td>Wife</td>\n",
       "      <td>Married</td>\n",
       "      <td>Female</td>\n",
       "      <td>Unemployed</td>\n",
       "      <td>NaN</td>\n",
       "      <td>NaN</td>\n",
       "    </tr>\n",
       "    <tr>\n",
       "      <th>4041</th>\n",
       "      <td>218</td>\n",
       "      <td>Green Squares</td>\n",
       "      <td>Tina</td>\n",
       "      <td>Moore</td>\n",
       "      <td>77</td>\n",
       "      <td>Head</td>\n",
       "      <td>Widowed</td>\n",
       "      <td>Female</td>\n",
       "      <td>Unemployed</td>\n",
       "      <td>NaN</td>\n",
       "      <td>Christian</td>\n",
       "    </tr>\n",
       "    <tr>\n",
       "      <th>4177</th>\n",
       "      <td>19</td>\n",
       "      <td>Kelly Shoals</td>\n",
       "      <td>Shirley</td>\n",
       "      <td>Oliver</td>\n",
       "      <td>69</td>\n",
       "      <td>Head</td>\n",
       "      <td>Divorced</td>\n",
       "      <td>Female</td>\n",
       "      <td>Unemployed</td>\n",
       "      <td>NaN</td>\n",
       "      <td>Christian</td>\n",
       "    </tr>\n",
       "    <tr>\n",
       "      <th>5271</th>\n",
       "      <td>17</td>\n",
       "      <td>Smith Mountain</td>\n",
       "      <td>Thomas</td>\n",
       "      <td>Martin</td>\n",
       "      <td>70</td>\n",
       "      <td>Head</td>\n",
       "      <td>Widowed</td>\n",
       "      <td>Male</td>\n",
       "      <td>Unemployed</td>\n",
       "      <td>NaN</td>\n",
       "      <td>Catholic</td>\n",
       "    </tr>\n",
       "    <tr>\n",
       "      <th>5503</th>\n",
       "      <td>5</td>\n",
       "      <td>Kaur Square</td>\n",
       "      <td>Leigh</td>\n",
       "      <td>Kennedy</td>\n",
       "      <td>75</td>\n",
       "      <td>Head</td>\n",
       "      <td>Married</td>\n",
       "      <td>Male</td>\n",
       "      <td>Unemployed</td>\n",
       "      <td>NaN</td>\n",
       "      <td>Catholic</td>\n",
       "    </tr>\n",
       "    <tr>\n",
       "      <th>5639</th>\n",
       "      <td>36</td>\n",
       "      <td>Kelly Dale</td>\n",
       "      <td>Megan</td>\n",
       "      <td>Marshall</td>\n",
       "      <td>71</td>\n",
       "      <td>Head</td>\n",
       "      <td>Widowed</td>\n",
       "      <td>Female</td>\n",
       "      <td>Unemployed</td>\n",
       "      <td>NaN</td>\n",
       "      <td>Catholic</td>\n",
       "    </tr>\n",
       "    <tr>\n",
       "      <th>5915</th>\n",
       "      <td>39</td>\n",
       "      <td>Cook Plaza</td>\n",
       "      <td>Chelsea</td>\n",
       "      <td>Powell</td>\n",
       "      <td>67</td>\n",
       "      <td>Head</td>\n",
       "      <td>Single</td>\n",
       "      <td>Female</td>\n",
       "      <td>Unemployed</td>\n",
       "      <td>NaN</td>\n",
       "      <td>NaN</td>\n",
       "    </tr>\n",
       "    <tr>\n",
       "      <th>6365</th>\n",
       "      <td>152</td>\n",
       "      <td>Cook Plaza</td>\n",
       "      <td>Janet</td>\n",
       "      <td>Clements</td>\n",
       "      <td>73</td>\n",
       "      <td>Head</td>\n",
       "      <td>Widowed</td>\n",
       "      <td>Female</td>\n",
       "      <td>Unemployed</td>\n",
       "      <td>NaN</td>\n",
       "      <td>NaN</td>\n",
       "    </tr>\n",
       "    <tr>\n",
       "      <th>6574</th>\n",
       "      <td>2</td>\n",
       "      <td>Horseshoe Drive</td>\n",
       "      <td>Clifford</td>\n",
       "      <td>Lawrence</td>\n",
       "      <td>69</td>\n",
       "      <td>Head</td>\n",
       "      <td>Single</td>\n",
       "      <td>Male</td>\n",
       "      <td>Unemployed</td>\n",
       "      <td>NaN</td>\n",
       "      <td>Catholic</td>\n",
       "    </tr>\n",
       "    <tr>\n",
       "      <th>6743</th>\n",
       "      <td>11</td>\n",
       "      <td>Bank Street</td>\n",
       "      <td>Melissa</td>\n",
       "      <td>Cox</td>\n",
       "      <td>74</td>\n",
       "      <td>Head</td>\n",
       "      <td>Divorced</td>\n",
       "      <td>Female</td>\n",
       "      <td>Unemployed</td>\n",
       "      <td>NaN</td>\n",
       "      <td>Christian</td>\n",
       "    </tr>\n",
       "    <tr>\n",
       "      <th>6978</th>\n",
       "      <td>1</td>\n",
       "      <td>Bath Drive</td>\n",
       "      <td>Carole</td>\n",
       "      <td>Page</td>\n",
       "      <td>77</td>\n",
       "      <td>Head</td>\n",
       "      <td>Widowed</td>\n",
       "      <td>Female</td>\n",
       "      <td>Unemployed</td>\n",
       "      <td>NaN</td>\n",
       "      <td>NaN</td>\n",
       "    </tr>\n",
       "    <tr>\n",
       "      <th>7135</th>\n",
       "      <td>48</td>\n",
       "      <td>Bath Drive</td>\n",
       "      <td>Nicola</td>\n",
       "      <td>Smith</td>\n",
       "      <td>69</td>\n",
       "      <td>Head</td>\n",
       "      <td>Widowed</td>\n",
       "      <td>Female</td>\n",
       "      <td>Unemployed</td>\n",
       "      <td>NaN</td>\n",
       "      <td>Christian</td>\n",
       "    </tr>\n",
       "    <tr>\n",
       "      <th>7285</th>\n",
       "      <td>13</td>\n",
       "      <td>Harris Harbor</td>\n",
       "      <td>Andrea</td>\n",
       "      <td>Williamson</td>\n",
       "      <td>70</td>\n",
       "      <td>Head</td>\n",
       "      <td>Widowed</td>\n",
       "      <td>Female</td>\n",
       "      <td>Unemployed</td>\n",
       "      <td>NaN</td>\n",
       "      <td>Christian</td>\n",
       "    </tr>\n",
       "    <tr>\n",
       "      <th>7316</th>\n",
       "      <td>10</td>\n",
       "      <td>Duffy Hollow</td>\n",
       "      <td>Christine</td>\n",
       "      <td>Burgess</td>\n",
       "      <td>73</td>\n",
       "      <td>Head</td>\n",
       "      <td>Widowed</td>\n",
       "      <td>Female</td>\n",
       "      <td>Unemployed</td>\n",
       "      <td>NaN</td>\n",
       "      <td>Christian</td>\n",
       "    </tr>\n",
       "    <tr>\n",
       "      <th>7678</th>\n",
       "      <td>13</td>\n",
       "      <td>Taurus Drive</td>\n",
       "      <td>Brandon</td>\n",
       "      <td>Hayes</td>\n",
       "      <td>66</td>\n",
       "      <td>Head</td>\n",
       "      <td>Single</td>\n",
       "      <td>Male</td>\n",
       "      <td>Unemployed</td>\n",
       "      <td>NaN</td>\n",
       "      <td>NaN</td>\n",
       "    </tr>\n",
       "    <tr>\n",
       "      <th>8319</th>\n",
       "      <td>105</td>\n",
       "      <td>Willis Avenue</td>\n",
       "      <td>Kirsty</td>\n",
       "      <td>Walters</td>\n",
       "      <td>76</td>\n",
       "      <td>Head</td>\n",
       "      <td>Widowed</td>\n",
       "      <td>Female</td>\n",
       "      <td>Unemployed</td>\n",
       "      <td>NaN</td>\n",
       "      <td>Christian</td>\n",
       "    </tr>\n",
       "    <tr>\n",
       "      <th>8463</th>\n",
       "      <td>165</td>\n",
       "      <td>Willis Avenue</td>\n",
       "      <td>Fiona</td>\n",
       "      <td>Morrison</td>\n",
       "      <td>69</td>\n",
       "      <td>Head</td>\n",
       "      <td>Widowed</td>\n",
       "      <td>Female</td>\n",
       "      <td>Unemployed</td>\n",
       "      <td>NaN</td>\n",
       "      <td>Methodist</td>\n",
       "    </tr>\n",
       "    <tr>\n",
       "      <th>8534</th>\n",
       "      <td>194</td>\n",
       "      <td>Willis Avenue</td>\n",
       "      <td>Brenda</td>\n",
       "      <td>Brown</td>\n",
       "      <td>74</td>\n",
       "      <td>Head</td>\n",
       "      <td>Widowed</td>\n",
       "      <td>Female</td>\n",
       "      <td>Unemployed</td>\n",
       "      <td>NaN</td>\n",
       "      <td>Christian</td>\n",
       "    </tr>\n",
       "    <tr>\n",
       "      <th>8826</th>\n",
       "      <td>32</td>\n",
       "      <td>Taurus Garden</td>\n",
       "      <td>Lydia</td>\n",
       "      <td>Bolton-Ward</td>\n",
       "      <td>80</td>\n",
       "      <td>Head</td>\n",
       "      <td>Widowed</td>\n",
       "      <td>Female</td>\n",
       "      <td>Unemployed</td>\n",
       "      <td>NaN</td>\n",
       "      <td>Methodist</td>\n",
       "    </tr>\n",
       "    <tr>\n",
       "      <th>8933</th>\n",
       "      <td>4</td>\n",
       "      <td>Iqbal Shoals</td>\n",
       "      <td>Rosemary</td>\n",
       "      <td>Wilkinson</td>\n",
       "      <td>96</td>\n",
       "      <td>Head</td>\n",
       "      <td>Widowed</td>\n",
       "      <td>Female</td>\n",
       "      <td>Unemployed</td>\n",
       "      <td>NaN</td>\n",
       "      <td>Catholic</td>\n",
       "    </tr>\n",
       "    <tr>\n",
       "      <th>9194</th>\n",
       "      <td>1</td>\n",
       "      <td>Allen Forks</td>\n",
       "      <td>Ruth</td>\n",
       "      <td>Naylor</td>\n",
       "      <td>81</td>\n",
       "      <td>Wife</td>\n",
       "      <td>Married</td>\n",
       "      <td>Female</td>\n",
       "      <td>Unemployed</td>\n",
       "      <td>NaN</td>\n",
       "      <td>Catholic</td>\n",
       "    </tr>\n",
       "    <tr>\n",
       "      <th>9556</th>\n",
       "      <td>32</td>\n",
       "      <td>Reynolds Highway</td>\n",
       "      <td>Amanda</td>\n",
       "      <td>Morris</td>\n",
       "      <td>70</td>\n",
       "      <td>Head</td>\n",
       "      <td>Widowed</td>\n",
       "      <td>Female</td>\n",
       "      <td>Unemployed</td>\n",
       "      <td>NaN</td>\n",
       "      <td>Christian</td>\n",
       "    </tr>\n",
       "  </tbody>\n",
       "</table>\n",
       "</div>"
      ],
      "text/plain": [
       "      House Number                 Street First Name      Surname  Age  \\\n",
       "258             41          Rhubarb Drive     Marian        Green   69   \n",
       "259             41          Rhubarb Drive       Jack        Green   71   \n",
       "606             44          Wallis Rapids   Ashleigh         Khan   67   \n",
       "959             10     Testamentrigg Road  Alexandra          Ali   73   \n",
       "1334            38           Inner Street     Gareth     Stephens   74   \n",
       "1378            17  Protectoratearch Road      Lynda       Holmes   89   \n",
       "1693            68      Richardson Street     Joanne       Davies   77   \n",
       "1966            34            Cancer Lane    Richard        Walsh   66   \n",
       "2338            11             Mill Drive     Yvonne      Edwards   72   \n",
       "2422            38             Mill Drive       Jean          Cox   77   \n",
       "2660             2  Chelmsfordshot Street    Valerie       Gordon   77   \n",
       "2801            18       Orchard Crescent     Sharon      Kennedy   78   \n",
       "2971            25            Taylor Wall   Kayleigh       Murphy   69   \n",
       "3140            45         Anvil Crescent     Hollie     Robinson   66   \n",
       "3309            31            Coin Street       Sara       Winter   66   \n",
       "3405            22          Green Squares     Judith     Williams   77   \n",
       "3515            54          Green Squares        Zoe         King   75   \n",
       "4041           218          Green Squares       Tina        Moore   77   \n",
       "4177            19           Kelly Shoals    Shirley       Oliver   69   \n",
       "5271            17         Smith Mountain     Thomas       Martin   70   \n",
       "5503             5            Kaur Square      Leigh      Kennedy   75   \n",
       "5639            36             Kelly Dale      Megan     Marshall   71   \n",
       "5915            39             Cook Plaza    Chelsea       Powell   67   \n",
       "6365           152             Cook Plaza      Janet     Clements   73   \n",
       "6574             2        Horseshoe Drive   Clifford     Lawrence   69   \n",
       "6743            11            Bank Street    Melissa          Cox   74   \n",
       "6978             1             Bath Drive     Carole         Page   77   \n",
       "7135            48             Bath Drive     Nicola        Smith   69   \n",
       "7285            13          Harris Harbor     Andrea   Williamson   70   \n",
       "7316            10           Duffy Hollow  Christine      Burgess   73   \n",
       "7678            13           Taurus Drive    Brandon        Hayes   66   \n",
       "8319           105          Willis Avenue     Kirsty      Walters   76   \n",
       "8463           165          Willis Avenue      Fiona     Morrison   69   \n",
       "8534           194          Willis Avenue     Brenda        Brown   74   \n",
       "8826            32          Taurus Garden      Lydia  Bolton-Ward   80   \n",
       "8933             4           Iqbal Shoals   Rosemary    Wilkinson   96   \n",
       "9194             1            Allen Forks       Ruth       Naylor   81   \n",
       "9556            32       Reynolds Highway     Amanda       Morris   70   \n",
       "\n",
       "     Relationship to Head of House Marital Status  Gender  Occupation  \\\n",
       "258                           Head        Married  Female  Unemployed   \n",
       "259                        Husband        Married    Male  Unemployed   \n",
       "606                           Head        Married  Female  Unemployed   \n",
       "959                           Head        Widowed  Female  Unemployed   \n",
       "1334                          Head       Divorced    Male  Unemployed   \n",
       "1378                          Head       Divorced  Female  Unemployed   \n",
       "1693                          Head         Single  Female  Unemployed   \n",
       "1966                       Partner         Single    Male  Unemployed   \n",
       "2338                          Head        Married  Female  Unemployed   \n",
       "2422                          Head        Widowed  Female  Unemployed   \n",
       "2660                          Head        Widowed  Female  Unemployed   \n",
       "2801                          Head        Widowed  Female  Unemployed   \n",
       "2971                          Head        Widowed  Female  Unemployed   \n",
       "3140                          Head        Widowed  Female  Unemployed   \n",
       "3309                          Head        Married  Female  Unemployed   \n",
       "3405                          Head         Single  Female  Unemployed   \n",
       "3515                          Wife        Married  Female  Unemployed   \n",
       "4041                          Head        Widowed  Female  Unemployed   \n",
       "4177                          Head       Divorced  Female  Unemployed   \n",
       "5271                          Head        Widowed    Male  Unemployed   \n",
       "5503                          Head        Married    Male  Unemployed   \n",
       "5639                          Head        Widowed  Female  Unemployed   \n",
       "5915                          Head         Single  Female  Unemployed   \n",
       "6365                          Head        Widowed  Female  Unemployed   \n",
       "6574                          Head         Single    Male  Unemployed   \n",
       "6743                          Head       Divorced  Female  Unemployed   \n",
       "6978                          Head        Widowed  Female  Unemployed   \n",
       "7135                          Head        Widowed  Female  Unemployed   \n",
       "7285                          Head        Widowed  Female  Unemployed   \n",
       "7316                          Head        Widowed  Female  Unemployed   \n",
       "7678                          Head         Single    Male  Unemployed   \n",
       "8319                          Head        Widowed  Female  Unemployed   \n",
       "8463                          Head        Widowed  Female  Unemployed   \n",
       "8534                          Head        Widowed  Female  Unemployed   \n",
       "8826                          Head        Widowed  Female  Unemployed   \n",
       "8933                          Head        Widowed  Female  Unemployed   \n",
       "9194                          Wife        Married  Female  Unemployed   \n",
       "9556                          Head        Widowed  Female  Unemployed   \n",
       "\n",
       "     Infirmity   Religion  \n",
       "258        NaN   Catholic  \n",
       "259        NaN   Catholic  \n",
       "606        NaN        NaN  \n",
       "959        NaN  Christian  \n",
       "1334       NaN        NaN  \n",
       "1378       NaN   Catholic  \n",
       "1693       NaN        NaN  \n",
       "1966       NaN        NaN  \n",
       "2338       NaN  Christian  \n",
       "2422       NaN   Catholic  \n",
       "2660       NaN  Christian  \n",
       "2801       NaN  Christian  \n",
       "2971       NaN   Catholic  \n",
       "3140       NaN        NaN  \n",
       "3309       NaN  Christian  \n",
       "3405       NaN        NaN  \n",
       "3515       NaN        NaN  \n",
       "4041       NaN  Christian  \n",
       "4177       NaN  Christian  \n",
       "5271       NaN   Catholic  \n",
       "5503       NaN   Catholic  \n",
       "5639       NaN   Catholic  \n",
       "5915       NaN        NaN  \n",
       "6365       NaN        NaN  \n",
       "6574       NaN   Catholic  \n",
       "6743       NaN  Christian  \n",
       "6978       NaN        NaN  \n",
       "7135       NaN  Christian  \n",
       "7285       NaN  Christian  \n",
       "7316       NaN  Christian  \n",
       "7678       NaN        NaN  \n",
       "8319       NaN  Christian  \n",
       "8463       NaN  Methodist  \n",
       "8534       NaN  Christian  \n",
       "8826       NaN  Methodist  \n",
       "8933       NaN   Catholic  \n",
       "9194       NaN   Catholic  \n",
       "9556       NaN  Christian  "
      ]
     },
     "execution_count": 97,
     "metadata": {},
     "output_type": "execute_result"
    }
   ],
   "source": [
    "# Filtering individuals who are 66 and above and unemployed\n",
    "\n",
    "df_copy[((df_copy['Age'] >= 66) & (df_copy['Occupation'] == 'Unemployed'))]"
   ]
  },
  {
   "cell_type": "code",
   "execution_count": 98,
   "id": "1975819d",
   "metadata": {},
   "outputs": [],
   "source": [
    "# Assigning retired to individuals 66 and above\n",
    "\n",
    "Age_66_and_above = ((df_copy['Age'] >= 66) & (df_copy['Occupation'] == 'Unemployed'))\n",
    "\n",
    "df_copy.loc[Age_66_and_above, 'Occupation'] = 'Retired'"
   ]
  },
  {
   "cell_type": "markdown",
   "id": "0187711b",
   "metadata": {},
   "source": [
    "### Verifying Implementation"
   ]
  },
  {
   "cell_type": "code",
   "execution_count": 99,
   "id": "ae6b8907",
   "metadata": {},
   "outputs": [
    {
     "data": {
      "text/html": [
       "<div>\n",
       "<style scoped>\n",
       "    .dataframe tbody tr th:only-of-type {\n",
       "        vertical-align: middle;\n",
       "    }\n",
       "\n",
       "    .dataframe tbody tr th {\n",
       "        vertical-align: top;\n",
       "    }\n",
       "\n",
       "    .dataframe thead th {\n",
       "        text-align: right;\n",
       "    }\n",
       "</style>\n",
       "<table border=\"1\" class=\"dataframe\">\n",
       "  <thead>\n",
       "    <tr style=\"text-align: right;\">\n",
       "      <th></th>\n",
       "      <th>House Number</th>\n",
       "      <th>Street</th>\n",
       "      <th>First Name</th>\n",
       "      <th>Surname</th>\n",
       "      <th>Age</th>\n",
       "      <th>Relationship to Head of House</th>\n",
       "      <th>Marital Status</th>\n",
       "      <th>Gender</th>\n",
       "      <th>Occupation</th>\n",
       "      <th>Infirmity</th>\n",
       "      <th>Religion</th>\n",
       "    </tr>\n",
       "  </thead>\n",
       "  <tbody>\n",
       "  </tbody>\n",
       "</table>\n",
       "</div>"
      ],
      "text/plain": [
       "Empty DataFrame\n",
       "Columns: [House Number, Street, First Name, Surname, Age, Relationship to Head of House, Marital Status, Gender, Occupation, Infirmity, Religion]\n",
       "Index: []"
      ]
     },
     "execution_count": 99,
     "metadata": {},
     "output_type": "execute_result"
    }
   ],
   "source": [
    "# Checking for 66 and above that are still recorded as unemployed\n",
    "\n",
    "df_copy[((df_copy['Age'] >= 66) & (df_copy['Occupation'] == 'Unemployed'))]"
   ]
  },
  {
   "cell_type": "code",
   "execution_count": 100,
   "id": "5d21193c",
   "metadata": {},
   "outputs": [
    {
     "data": {
      "text/html": [
       "<div>\n",
       "<style scoped>\n",
       "    .dataframe tbody tr th:only-of-type {\n",
       "        vertical-align: middle;\n",
       "    }\n",
       "\n",
       "    .dataframe tbody tr th {\n",
       "        vertical-align: top;\n",
       "    }\n",
       "\n",
       "    .dataframe thead th {\n",
       "        text-align: right;\n",
       "    }\n",
       "</style>\n",
       "<table border=\"1\" class=\"dataframe\">\n",
       "  <thead>\n",
       "    <tr style=\"text-align: right;\">\n",
       "      <th></th>\n",
       "      <th>House Number</th>\n",
       "      <th>Street</th>\n",
       "      <th>First Name</th>\n",
       "      <th>Surname</th>\n",
       "      <th>Age</th>\n",
       "      <th>Relationship to Head of House</th>\n",
       "      <th>Marital Status</th>\n",
       "      <th>Gender</th>\n",
       "      <th>Occupation</th>\n",
       "      <th>Infirmity</th>\n",
       "      <th>Religion</th>\n",
       "    </tr>\n",
       "  </thead>\n",
       "  <tbody>\n",
       "  </tbody>\n",
       "</table>\n",
       "</div>"
      ],
      "text/plain": [
       "Empty DataFrame\n",
       "Columns: [House Number, Street, First Name, Surname, Age, Relationship to Head of House, Marital Status, Gender, Occupation, Infirmity, Religion]\n",
       "Index: []"
      ]
     },
     "execution_count": 100,
     "metadata": {},
     "output_type": "execute_result"
    }
   ],
   "source": [
    "# Checking for blank input\n",
    "\n",
    "df_copy[df_copy['Occupation'] == ' ']"
   ]
  },
  {
   "cell_type": "markdown",
   "id": "a1df80e5",
   "metadata": {},
   "source": [
    "  "
   ]
  },
  {
   "cell_type": "markdown",
   "id": "9ecc185e",
   "metadata": {},
   "source": [
    "### 8. Infirmity column contains six blank inputs"
   ]
  },
  {
   "cell_type": "code",
   "execution_count": 101,
   "id": "5a5b2e25",
   "metadata": {},
   "outputs": [
    {
     "data": {
      "text/html": [
       "<div>\n",
       "<style scoped>\n",
       "    .dataframe tbody tr th:only-of-type {\n",
       "        vertical-align: middle;\n",
       "    }\n",
       "\n",
       "    .dataframe tbody tr th {\n",
       "        vertical-align: top;\n",
       "    }\n",
       "\n",
       "    .dataframe thead th {\n",
       "        text-align: right;\n",
       "    }\n",
       "</style>\n",
       "<table border=\"1\" class=\"dataframe\">\n",
       "  <thead>\n",
       "    <tr style=\"text-align: right;\">\n",
       "      <th></th>\n",
       "      <th>House Number</th>\n",
       "      <th>Street</th>\n",
       "      <th>First Name</th>\n",
       "      <th>Surname</th>\n",
       "      <th>Age</th>\n",
       "      <th>Relationship to Head of House</th>\n",
       "      <th>Marital Status</th>\n",
       "      <th>Gender</th>\n",
       "      <th>Occupation</th>\n",
       "      <th>Infirmity</th>\n",
       "      <th>Religion</th>\n",
       "    </tr>\n",
       "  </thead>\n",
       "  <tbody>\n",
       "    <tr>\n",
       "      <th>714</th>\n",
       "      <td>56</td>\n",
       "      <td>Wallis Rapids</td>\n",
       "      <td>Suzanne</td>\n",
       "      <td>Green</td>\n",
       "      <td>2</td>\n",
       "      <td>Daughter</td>\n",
       "      <td>Minor</td>\n",
       "      <td>Female</td>\n",
       "      <td>Child</td>\n",
       "      <td></td>\n",
       "      <td>NaN</td>\n",
       "    </tr>\n",
       "    <tr>\n",
       "      <th>3640</th>\n",
       "      <td>91</td>\n",
       "      <td>Green Squares</td>\n",
       "      <td>Georgia</td>\n",
       "      <td>Smith</td>\n",
       "      <td>61</td>\n",
       "      <td>NaN</td>\n",
       "      <td>Single</td>\n",
       "      <td>Female</td>\n",
       "      <td>Higher education careers adviser</td>\n",
       "      <td></td>\n",
       "      <td>Christian</td>\n",
       "    </tr>\n",
       "    <tr>\n",
       "      <th>5533</th>\n",
       "      <td>7</td>\n",
       "      <td>Kelly Dale</td>\n",
       "      <td>Jayne</td>\n",
       "      <td>Ashton-Mason</td>\n",
       "      <td>36</td>\n",
       "      <td>Daughter</td>\n",
       "      <td>Single</td>\n",
       "      <td>Female</td>\n",
       "      <td>Plant breeder/geneticist</td>\n",
       "      <td></td>\n",
       "      <td>NaN</td>\n",
       "    </tr>\n",
       "    <tr>\n",
       "      <th>8305</th>\n",
       "      <td>98</td>\n",
       "      <td>Willis Avenue</td>\n",
       "      <td>Carl</td>\n",
       "      <td>Richardson</td>\n",
       "      <td>59</td>\n",
       "      <td>Head</td>\n",
       "      <td>Single</td>\n",
       "      <td>Male</td>\n",
       "      <td>Production assistant, television</td>\n",
       "      <td></td>\n",
       "      <td>Methodist</td>\n",
       "    </tr>\n",
       "    <tr>\n",
       "      <th>8830</th>\n",
       "      <td>33</td>\n",
       "      <td>Taurus Garden</td>\n",
       "      <td>Cheryl</td>\n",
       "      <td>King</td>\n",
       "      <td>30</td>\n",
       "      <td>Head</td>\n",
       "      <td>Single</td>\n",
       "      <td>Female</td>\n",
       "      <td>Ranger/warden</td>\n",
       "      <td></td>\n",
       "      <td>Sikh</td>\n",
       "    </tr>\n",
       "    <tr>\n",
       "      <th>9683</th>\n",
       "      <td>1</td>\n",
       "      <td>Woodward Cabin</td>\n",
       "      <td>Timothy</td>\n",
       "      <td>Harris</td>\n",
       "      <td>34</td>\n",
       "      <td>Visitor</td>\n",
       "      <td>Divorced</td>\n",
       "      <td>Male</td>\n",
       "      <td>Hydrogeologist</td>\n",
       "      <td></td>\n",
       "      <td>Christian</td>\n",
       "    </tr>\n",
       "  </tbody>\n",
       "</table>\n",
       "</div>"
      ],
      "text/plain": [
       "      House Number          Street First Name       Surname  Age  \\\n",
       "714             56   Wallis Rapids    Suzanne         Green    2   \n",
       "3640            91   Green Squares    Georgia         Smith   61   \n",
       "5533             7      Kelly Dale      Jayne  Ashton-Mason   36   \n",
       "8305            98   Willis Avenue       Carl    Richardson   59   \n",
       "8830            33   Taurus Garden     Cheryl          King   30   \n",
       "9683             1  Woodward Cabin    Timothy        Harris   34   \n",
       "\n",
       "     Relationship to Head of House Marital Status  Gender  \\\n",
       "714                       Daughter          Minor  Female   \n",
       "3640                           NaN         Single  Female   \n",
       "5533                      Daughter         Single  Female   \n",
       "8305                          Head         Single    Male   \n",
       "8830                          Head         Single  Female   \n",
       "9683                       Visitor       Divorced    Male   \n",
       "\n",
       "                            Occupation Infirmity   Religion  \n",
       "714                              Child                  NaN  \n",
       "3640  Higher education careers adviser            Christian  \n",
       "5533          Plant breeder/geneticist                  NaN  \n",
       "8305  Production assistant, television            Methodist  \n",
       "8830                     Ranger/warden                 Sikh  \n",
       "9683                    Hydrogeologist            Christian  "
      ]
     },
     "execution_count": 101,
     "metadata": {},
     "output_type": "execute_result"
    }
   ],
   "source": [
    "# Checking for blank input\n",
    "\n",
    "df_copy[df_copy['Infirmity'] == ' ']"
   ]
  },
  {
   "cell_type": "markdown",
   "id": "cca424f0-618b-4595-9a80-5ac28de0df06",
   "metadata": {},
   "source": [
    "#### Pandas version recognizing column input with 'None' as NaN values although 'None' is a recognised input in these columns.\n",
    "#### Replacing the NaN values with the correct input as 'None'"
   ]
  },
  {
   "cell_type": "code",
   "execution_count": 102,
   "id": "2756578f-0f49-4f79-a970-113c18a19758",
   "metadata": {},
   "outputs": [],
   "source": [
    "df_copy['Infirmity'] = df_copy['Infirmity'].fillna('None')"
   ]
  },
  {
   "cell_type": "code",
   "execution_count": 103,
   "id": "1829e521",
   "metadata": {},
   "outputs": [
    {
     "data": {
      "text/plain": [
       "0    None\n",
       "Name: Infirmity, dtype: object"
      ]
     },
     "execution_count": 103,
     "metadata": {},
     "output_type": "execute_result"
    }
   ],
   "source": [
    "# Obtaining the mode for infirmity\n",
    "\n",
    "df_copy['Infirmity'].mode()"
   ]
  },
  {
   "cell_type": "code",
   "execution_count": 104,
   "id": "8da3d583",
   "metadata": {},
   "outputs": [],
   "source": [
    "# Assigning 'None' to the blank input since the ages vary and it's impossible to guess or predict their infirmity\n",
    "\n",
    "df_copy['Infirmity'] = df_copy['Infirmity'].replace(' ', 'None')"
   ]
  },
  {
   "cell_type": "markdown",
   "id": "6e1a764a",
   "metadata": {},
   "source": [
    "### Verify Implementation"
   ]
  },
  {
   "cell_type": "code",
   "execution_count": 105,
   "id": "97f8af7d",
   "metadata": {},
   "outputs": [
    {
     "data": {
      "text/html": [
       "<div>\n",
       "<style scoped>\n",
       "    .dataframe tbody tr th:only-of-type {\n",
       "        vertical-align: middle;\n",
       "    }\n",
       "\n",
       "    .dataframe tbody tr th {\n",
       "        vertical-align: top;\n",
       "    }\n",
       "\n",
       "    .dataframe thead th {\n",
       "        text-align: right;\n",
       "    }\n",
       "</style>\n",
       "<table border=\"1\" class=\"dataframe\">\n",
       "  <thead>\n",
       "    <tr style=\"text-align: right;\">\n",
       "      <th></th>\n",
       "      <th>House Number</th>\n",
       "      <th>Street</th>\n",
       "      <th>First Name</th>\n",
       "      <th>Surname</th>\n",
       "      <th>Age</th>\n",
       "      <th>Relationship to Head of House</th>\n",
       "      <th>Marital Status</th>\n",
       "      <th>Gender</th>\n",
       "      <th>Occupation</th>\n",
       "      <th>Infirmity</th>\n",
       "      <th>Religion</th>\n",
       "    </tr>\n",
       "  </thead>\n",
       "  <tbody>\n",
       "  </tbody>\n",
       "</table>\n",
       "</div>"
      ],
      "text/plain": [
       "Empty DataFrame\n",
       "Columns: [House Number, Street, First Name, Surname, Age, Relationship to Head of House, Marital Status, Gender, Occupation, Infirmity, Religion]\n",
       "Index: []"
      ]
     },
     "execution_count": 105,
     "metadata": {},
     "output_type": "execute_result"
    }
   ],
   "source": [
    "# Checking for blank input\n",
    "\n",
    "df_copy[df_copy['Infirmity'] == ' ']"
   ]
  },
  {
   "cell_type": "markdown",
   "id": "5224cce6",
   "metadata": {},
   "source": [
    "  "
   ]
  },
  {
   "cell_type": "code",
   "execution_count": 106,
   "id": "00d0c457",
   "metadata": {},
   "outputs": [
    {
     "data": {
      "text/plain": [
       "array(['None', 'Deaf', 'Blind', 'Physical Disability', 'Disabled',\n",
       "       'Mental Disability', 'Unknown Infection'], dtype=object)"
      ]
     },
     "execution_count": 106,
     "metadata": {},
     "output_type": "execute_result"
    }
   ],
   "source": [
    "# Checking for unique values\n",
    "\n",
    "df_copy['Infirmity'].unique()"
   ]
  },
  {
   "cell_type": "markdown",
   "id": "c23eb2b6",
   "metadata": {},
   "source": [
    "  "
   ]
  },
  {
   "cell_type": "markdown",
   "id": "6e735f14",
   "metadata": {},
   "source": [
    "### 9. Religion column contains a blank input, missing values and incorrect input (i.e Housekeeper)"
   ]
  },
  {
   "cell_type": "code",
   "execution_count": 107,
   "id": "87b93bb4",
   "metadata": {
    "scrolled": true
   },
   "outputs": [
    {
     "data": {
      "text/html": [
       "<div>\n",
       "<style scoped>\n",
       "    .dataframe tbody tr th:only-of-type {\n",
       "        vertical-align: middle;\n",
       "    }\n",
       "\n",
       "    .dataframe tbody tr th {\n",
       "        vertical-align: top;\n",
       "    }\n",
       "\n",
       "    .dataframe thead th {\n",
       "        text-align: right;\n",
       "    }\n",
       "</style>\n",
       "<table border=\"1\" class=\"dataframe\">\n",
       "  <thead>\n",
       "    <tr style=\"text-align: right;\">\n",
       "      <th></th>\n",
       "      <th>House Number</th>\n",
       "      <th>Street</th>\n",
       "      <th>First Name</th>\n",
       "      <th>Surname</th>\n",
       "      <th>Age</th>\n",
       "      <th>Relationship to Head of House</th>\n",
       "      <th>Marital Status</th>\n",
       "      <th>Gender</th>\n",
       "      <th>Occupation</th>\n",
       "      <th>Infirmity</th>\n",
       "      <th>Religion</th>\n",
       "    </tr>\n",
       "  </thead>\n",
       "  <tbody>\n",
       "    <tr>\n",
       "      <th>5791</th>\n",
       "      <td>6</td>\n",
       "      <td>Cook Plaza</td>\n",
       "      <td>Alan</td>\n",
       "      <td>Nicholls</td>\n",
       "      <td>34</td>\n",
       "      <td>NaN</td>\n",
       "      <td>Divorced</td>\n",
       "      <td>Male</td>\n",
       "      <td>Drilling engineer</td>\n",
       "      <td>None</td>\n",
       "      <td></td>\n",
       "    </tr>\n",
       "  </tbody>\n",
       "</table>\n",
       "</div>"
      ],
      "text/plain": [
       "      House Number      Street First Name   Surname  Age  \\\n",
       "5791             6  Cook Plaza       Alan  Nicholls   34   \n",
       "\n",
       "     Relationship to Head of House Marital Status Gender         Occupation  \\\n",
       "5791                           NaN       Divorced   Male  Drilling engineer   \n",
       "\n",
       "     Infirmity Religion  \n",
       "5791      None           "
      ]
     },
     "execution_count": 107,
     "metadata": {},
     "output_type": "execute_result"
    }
   ],
   "source": [
    "# Checking for blank input\n",
    "\n",
    "df_copy[df_copy['Religion'] == ' ']"
   ]
  },
  {
   "cell_type": "code",
   "execution_count": 108,
   "id": "050fe1fd",
   "metadata": {},
   "outputs": [
    {
     "data": {
      "text/html": [
       "<div>\n",
       "<style scoped>\n",
       "    .dataframe tbody tr th:only-of-type {\n",
       "        vertical-align: middle;\n",
       "    }\n",
       "\n",
       "    .dataframe tbody tr th {\n",
       "        vertical-align: top;\n",
       "    }\n",
       "\n",
       "    .dataframe thead th {\n",
       "        text-align: right;\n",
       "    }\n",
       "</style>\n",
       "<table border=\"1\" class=\"dataframe\">\n",
       "  <thead>\n",
       "    <tr style=\"text-align: right;\">\n",
       "      <th></th>\n",
       "      <th>House Number</th>\n",
       "      <th>Street</th>\n",
       "      <th>First Name</th>\n",
       "      <th>Surname</th>\n",
       "      <th>Age</th>\n",
       "      <th>Relationship to Head of House</th>\n",
       "      <th>Marital Status</th>\n",
       "      <th>Gender</th>\n",
       "      <th>Occupation</th>\n",
       "      <th>Infirmity</th>\n",
       "      <th>Religion</th>\n",
       "    </tr>\n",
       "  </thead>\n",
       "  <tbody>\n",
       "    <tr>\n",
       "      <th>5789</th>\n",
       "      <td>6</td>\n",
       "      <td>Cook Plaza</td>\n",
       "      <td>Elaine</td>\n",
       "      <td>Skinner</td>\n",
       "      <td>26</td>\n",
       "      <td>Head</td>\n",
       "      <td>Single</td>\n",
       "      <td>Female</td>\n",
       "      <td>Senior tax professional/tax inspector</td>\n",
       "      <td>None</td>\n",
       "      <td>Methodist</td>\n",
       "    </tr>\n",
       "    <tr>\n",
       "      <th>5790</th>\n",
       "      <td>6</td>\n",
       "      <td>Cook Plaza</td>\n",
       "      <td>Adam</td>\n",
       "      <td>Bond</td>\n",
       "      <td>38</td>\n",
       "      <td>NaN</td>\n",
       "      <td>Single</td>\n",
       "      <td>Male</td>\n",
       "      <td>Make</td>\n",
       "      <td>None</td>\n",
       "      <td>Christian</td>\n",
       "    </tr>\n",
       "    <tr>\n",
       "      <th>5791</th>\n",
       "      <td>6</td>\n",
       "      <td>Cook Plaza</td>\n",
       "      <td>Alan</td>\n",
       "      <td>Nicholls</td>\n",
       "      <td>34</td>\n",
       "      <td>NaN</td>\n",
       "      <td>Divorced</td>\n",
       "      <td>Male</td>\n",
       "      <td>Drilling engineer</td>\n",
       "      <td>None</td>\n",
       "      <td></td>\n",
       "    </tr>\n",
       "  </tbody>\n",
       "</table>\n",
       "</div>"
      ],
      "text/plain": [
       "      House Number      Street First Name   Surname  Age  \\\n",
       "5789             6  Cook Plaza     Elaine   Skinner   26   \n",
       "5790             6  Cook Plaza       Adam      Bond   38   \n",
       "5791             6  Cook Plaza       Alan  Nicholls   34   \n",
       "\n",
       "     Relationship to Head of House Marital Status  Gender  \\\n",
       "5789                          Head         Single  Female   \n",
       "5790                           NaN         Single    Male   \n",
       "5791                           NaN       Divorced    Male   \n",
       "\n",
       "                                 Occupation Infirmity   Religion  \n",
       "5789  Senior tax professional/tax inspector      None  Methodist  \n",
       "5790                                   Make      None  Christian  \n",
       "5791                      Drilling engineer      None             "
      ]
     },
     "execution_count": 108,
     "metadata": {},
     "output_type": "execute_result"
    }
   ],
   "source": [
    "# Checking data of other individuals residing in the same residence\n",
    "\n",
    "df_copy[(df_copy['House Number'] == 6) & (df_copy['Street'] == 'Cook Plaza')]"
   ]
  },
  {
   "cell_type": "code",
   "execution_count": 109,
   "id": "e72bc91e",
   "metadata": {},
   "outputs": [],
   "source": [
    "# Assigning 'Unknown' to the blank input since there is no common correlation between individual and other members of the household\n",
    "\n",
    "df_copy['Religion'] = df_copy['Religion'].replace(' ', 'None')"
   ]
  },
  {
   "cell_type": "code",
   "execution_count": 110,
   "id": "5982419c",
   "metadata": {
    "scrolled": true
   },
   "outputs": [
    {
     "data": {
      "text/html": [
       "<div>\n",
       "<style scoped>\n",
       "    .dataframe tbody tr th:only-of-type {\n",
       "        vertical-align: middle;\n",
       "    }\n",
       "\n",
       "    .dataframe tbody tr th {\n",
       "        vertical-align: top;\n",
       "    }\n",
       "\n",
       "    .dataframe thead th {\n",
       "        text-align: right;\n",
       "    }\n",
       "</style>\n",
       "<table border=\"1\" class=\"dataframe\">\n",
       "  <thead>\n",
       "    <tr style=\"text-align: right;\">\n",
       "      <th></th>\n",
       "      <th>House Number</th>\n",
       "      <th>Street</th>\n",
       "      <th>First Name</th>\n",
       "      <th>Surname</th>\n",
       "      <th>Age</th>\n",
       "      <th>Relationship to Head of House</th>\n",
       "      <th>Marital Status</th>\n",
       "      <th>Gender</th>\n",
       "      <th>Occupation</th>\n",
       "      <th>Infirmity</th>\n",
       "      <th>Religion</th>\n",
       "    </tr>\n",
       "  </thead>\n",
       "  <tbody>\n",
       "    <tr>\n",
       "      <th>9414</th>\n",
       "      <td>30</td>\n",
       "      <td>Bank Burg</td>\n",
       "      <td>Lauren</td>\n",
       "      <td>Davidson</td>\n",
       "      <td>19</td>\n",
       "      <td>Visitor</td>\n",
       "      <td>Divorced</td>\n",
       "      <td>Female</td>\n",
       "      <td>University Student</td>\n",
       "      <td>None</td>\n",
       "      <td>Housekeeper</td>\n",
       "    </tr>\n",
       "  </tbody>\n",
       "</table>\n",
       "</div>"
      ],
      "text/plain": [
       "      House Number     Street First Name   Surname  Age  \\\n",
       "9414            30  Bank Burg     Lauren  Davidson   19   \n",
       "\n",
       "     Relationship to Head of House Marital Status  Gender          Occupation  \\\n",
       "9414                       Visitor       Divorced  Female  University Student   \n",
       "\n",
       "     Infirmity     Religion  \n",
       "9414      None  Housekeeper  "
      ]
     },
     "execution_count": 110,
     "metadata": {},
     "output_type": "execute_result"
    }
   ],
   "source": [
    "# Checking for incorrect input\n",
    "\n",
    "df_copy[df_copy['Religion'] == 'Housekeeper']"
   ]
  },
  {
   "cell_type": "code",
   "execution_count": 111,
   "id": "d63aaf2a",
   "metadata": {},
   "outputs": [
    {
     "data": {
      "text/html": [
       "<div>\n",
       "<style scoped>\n",
       "    .dataframe tbody tr th:only-of-type {\n",
       "        vertical-align: middle;\n",
       "    }\n",
       "\n",
       "    .dataframe tbody tr th {\n",
       "        vertical-align: top;\n",
       "    }\n",
       "\n",
       "    .dataframe thead th {\n",
       "        text-align: right;\n",
       "    }\n",
       "</style>\n",
       "<table border=\"1\" class=\"dataframe\">\n",
       "  <thead>\n",
       "    <tr style=\"text-align: right;\">\n",
       "      <th></th>\n",
       "      <th>House Number</th>\n",
       "      <th>Street</th>\n",
       "      <th>First Name</th>\n",
       "      <th>Surname</th>\n",
       "      <th>Age</th>\n",
       "      <th>Relationship to Head of House</th>\n",
       "      <th>Marital Status</th>\n",
       "      <th>Gender</th>\n",
       "      <th>Occupation</th>\n",
       "      <th>Infirmity</th>\n",
       "      <th>Religion</th>\n",
       "    </tr>\n",
       "  </thead>\n",
       "  <tbody>\n",
       "    <tr>\n",
       "      <th>9411</th>\n",
       "      <td>30</td>\n",
       "      <td>Bank Burg</td>\n",
       "      <td>Mandy</td>\n",
       "      <td>Poole</td>\n",
       "      <td>39</td>\n",
       "      <td>Head</td>\n",
       "      <td>Widowed</td>\n",
       "      <td>Female</td>\n",
       "      <td>Unemployed</td>\n",
       "      <td>None</td>\n",
       "      <td>Catholic</td>\n",
       "    </tr>\n",
       "    <tr>\n",
       "      <th>9412</th>\n",
       "      <td>30</td>\n",
       "      <td>Bank Burg</td>\n",
       "      <td>Jason</td>\n",
       "      <td>Poole</td>\n",
       "      <td>5</td>\n",
       "      <td>Son</td>\n",
       "      <td>Minor</td>\n",
       "      <td>Male</td>\n",
       "      <td>Student</td>\n",
       "      <td>None</td>\n",
       "      <td>NaN</td>\n",
       "    </tr>\n",
       "    <tr>\n",
       "      <th>9413</th>\n",
       "      <td>30</td>\n",
       "      <td>Bank Burg</td>\n",
       "      <td>Rosie</td>\n",
       "      <td>Poole</td>\n",
       "      <td>2</td>\n",
       "      <td>Daughter</td>\n",
       "      <td>Minor</td>\n",
       "      <td>Female</td>\n",
       "      <td>Child</td>\n",
       "      <td>None</td>\n",
       "      <td>NaN</td>\n",
       "    </tr>\n",
       "    <tr>\n",
       "      <th>9414</th>\n",
       "      <td>30</td>\n",
       "      <td>Bank Burg</td>\n",
       "      <td>Lauren</td>\n",
       "      <td>Davidson</td>\n",
       "      <td>19</td>\n",
       "      <td>Visitor</td>\n",
       "      <td>Divorced</td>\n",
       "      <td>Female</td>\n",
       "      <td>University Student</td>\n",
       "      <td>None</td>\n",
       "      <td>Housekeeper</td>\n",
       "    </tr>\n",
       "    <tr>\n",
       "      <th>9415</th>\n",
       "      <td>30</td>\n",
       "      <td>Bank Burg</td>\n",
       "      <td>Tracy</td>\n",
       "      <td>Rogers</td>\n",
       "      <td>22</td>\n",
       "      <td>Lodger</td>\n",
       "      <td>Single</td>\n",
       "      <td>Female</td>\n",
       "      <td>University Student</td>\n",
       "      <td>None</td>\n",
       "      <td>NaN</td>\n",
       "    </tr>\n",
       "  </tbody>\n",
       "</table>\n",
       "</div>"
      ],
      "text/plain": [
       "      House Number     Street First Name   Surname  Age  \\\n",
       "9411            30  Bank Burg      Mandy     Poole   39   \n",
       "9412            30  Bank Burg      Jason     Poole    5   \n",
       "9413            30  Bank Burg      Rosie     Poole    2   \n",
       "9414            30  Bank Burg     Lauren  Davidson   19   \n",
       "9415            30  Bank Burg      Tracy    Rogers   22   \n",
       "\n",
       "     Relationship to Head of House Marital Status  Gender          Occupation  \\\n",
       "9411                          Head        Widowed  Female          Unemployed   \n",
       "9412                           Son          Minor    Male             Student   \n",
       "9413                      Daughter          Minor  Female               Child   \n",
       "9414                       Visitor       Divorced  Female  University Student   \n",
       "9415                        Lodger         Single  Female  University Student   \n",
       "\n",
       "     Infirmity     Religion  \n",
       "9411      None     Catholic  \n",
       "9412      None          NaN  \n",
       "9413      None          NaN  \n",
       "9414      None  Housekeeper  \n",
       "9415      None          NaN  "
      ]
     },
     "execution_count": 111,
     "metadata": {},
     "output_type": "execute_result"
    }
   ],
   "source": [
    "# Checking data of other individuals residing in the same residence\n",
    "\n",
    "df_copy[(df_copy['House Number'] == 30) & (df_copy['Street'] == 'Bank Burg')]"
   ]
  },
  {
   "cell_type": "code",
   "execution_count": 112,
   "id": "14a6463c",
   "metadata": {},
   "outputs": [],
   "source": [
    "# Assigning 'Unknown' to the blank input since there is no common correlation between individual and other members of the household\n",
    "\n",
    "df_copy['Religion'] = df_copy['Religion'].replace('Housekeeper', 'None')"
   ]
  },
  {
   "cell_type": "code",
   "execution_count": 113,
   "id": "f7909c6a",
   "metadata": {},
   "outputs": [
    {
     "data": {
      "text/plain": [
       "2273"
      ]
     },
     "execution_count": 113,
     "metadata": {},
     "output_type": "execute_result"
    }
   ],
   "source": [
    "# It is safe to assume that individuals under 18, residing with a head of house, would be practicing the same religion as the head of house\n",
    "\n",
    "# Checking for number of missing values less than 18 years\n",
    "\n",
    "df_copy[df_copy['Age'] < 18]['Religion'].isna().sum()"
   ]
  },
  {
   "cell_type": "code",
   "execution_count": 114,
   "id": "dc0e1736",
   "metadata": {},
   "outputs": [],
   "source": [
    "# Assigning same religion as head to individuals under 18\n",
    "\n",
    "# Filtering head of household rows \n",
    "\n",
    "head_rows = df_copy[df_copy[\"Relationship to Head of House\"] == \"Head\"]\n",
    "\n",
    "# Iterating through rows, filling missing religion for children under 18\n",
    "\n",
    "for i in df_copy.index:\n",
    "    if df_copy.loc[i, \"Age\"] < 18 and pd.isna(df_copy.loc[i, \"Religion\"]):\n",
    "        head_row = head_rows.loc[(head_rows[\"Surname\"] == df_copy.loc[i, \"Surname\"]) &\n",
    "                                 (head_rows[\"House Number\"] == df_copy.loc[i, \"House Number\"]) &\n",
    "                                 (head_rows[\"Street\"] == df_copy.loc[i, \"Street\"])]\n",
    "        if not head_row.empty:\n",
    "            df_copy.loc[i, \"Religion\"] = head_row[\"Religion\"].iloc[0]"
   ]
  },
  {
   "cell_type": "code",
   "execution_count": 115,
   "id": "f2cdad76",
   "metadata": {},
   "outputs": [
    {
     "data": {
      "text/plain": [
       "4358"
      ]
     },
     "execution_count": 115,
     "metadata": {},
     "output_type": "execute_result"
    }
   ],
   "source": [
    "# Checking remaining number of individuals with unassigned religions\n",
    "\n",
    "df_copy['Religion'].isnull().sum()"
   ]
  },
  {
   "cell_type": "code",
   "execution_count": 116,
   "id": "f658dc54",
   "metadata": {
    "scrolled": true
   },
   "outputs": [
    {
     "data": {
      "text/plain": [
       "1078"
      ]
     },
     "execution_count": 116,
     "metadata": {},
     "output_type": "execute_result"
    }
   ],
   "source": [
    "# Checking number of individuals under 18 that have not been assigned a religion \n",
    "\n",
    "df_copy[df_copy['Age'] < 18]['Religion'].isna().sum()"
   ]
  },
  {
   "cell_type": "code",
   "execution_count": 117,
   "id": "d82f5ee9",
   "metadata": {},
   "outputs": [
    {
     "data": {
      "text/plain": [
       "3280"
      ]
     },
     "execution_count": 117,
     "metadata": {},
     "output_type": "execute_result"
    }
   ],
   "source": [
    "# Checking number of individuals aged 18 and above that have not been assigned a religion\n",
    "\n",
    "df_copy[df_copy['Age'] >= 18]['Religion'].isna().sum()"
   ]
  },
  {
   "cell_type": "code",
   "execution_count": 118,
   "id": "1aa7e265",
   "metadata": {},
   "outputs": [
    {
     "data": {
      "text/html": [
       "<div>\n",
       "<style scoped>\n",
       "    .dataframe tbody tr th:only-of-type {\n",
       "        vertical-align: middle;\n",
       "    }\n",
       "\n",
       "    .dataframe tbody tr th {\n",
       "        vertical-align: top;\n",
       "    }\n",
       "\n",
       "    .dataframe thead th {\n",
       "        text-align: right;\n",
       "    }\n",
       "</style>\n",
       "<table border=\"1\" class=\"dataframe\">\n",
       "  <thead>\n",
       "    <tr style=\"text-align: right;\">\n",
       "      <th></th>\n",
       "      <th>House Number</th>\n",
       "      <th>Street</th>\n",
       "      <th>First Name</th>\n",
       "      <th>Surname</th>\n",
       "      <th>Age</th>\n",
       "      <th>Relationship to Head of House</th>\n",
       "      <th>Marital Status</th>\n",
       "      <th>Gender</th>\n",
       "      <th>Occupation</th>\n",
       "      <th>Infirmity</th>\n",
       "      <th>Religion</th>\n",
       "    </tr>\n",
       "  </thead>\n",
       "  <tbody>\n",
       "    <tr>\n",
       "      <th>11</th>\n",
       "      <td>2</td>\n",
       "      <td>Rhubarb Drive</td>\n",
       "      <td>Raymond</td>\n",
       "      <td>Carter</td>\n",
       "      <td>33</td>\n",
       "      <td>NaN</td>\n",
       "      <td>Single</td>\n",
       "      <td>Male</td>\n",
       "      <td>Electrical engineer</td>\n",
       "      <td>None</td>\n",
       "      <td>NaN</td>\n",
       "    </tr>\n",
       "    <tr>\n",
       "      <th>12</th>\n",
       "      <td>2</td>\n",
       "      <td>Rhubarb Drive</td>\n",
       "      <td>Ryan</td>\n",
       "      <td>Farrell</td>\n",
       "      <td>26</td>\n",
       "      <td>NaN</td>\n",
       "      <td>Single</td>\n",
       "      <td>Male</td>\n",
       "      <td>Psychologist, occupational</td>\n",
       "      <td>None</td>\n",
       "      <td>NaN</td>\n",
       "    </tr>\n",
       "    <tr>\n",
       "      <th>15</th>\n",
       "      <td>3</td>\n",
       "      <td>Rhubarb Drive</td>\n",
       "      <td>Holly</td>\n",
       "      <td>Greenwood</td>\n",
       "      <td>47</td>\n",
       "      <td>Head</td>\n",
       "      <td>Married</td>\n",
       "      <td>Female</td>\n",
       "      <td>Environmental health practitioner</td>\n",
       "      <td>None</td>\n",
       "      <td>NaN</td>\n",
       "    </tr>\n",
       "    <tr>\n",
       "      <th>16</th>\n",
       "      <td>3</td>\n",
       "      <td>Rhubarb Drive</td>\n",
       "      <td>Tom</td>\n",
       "      <td>Greenwood</td>\n",
       "      <td>51</td>\n",
       "      <td>Husband</td>\n",
       "      <td>Married</td>\n",
       "      <td>Male</td>\n",
       "      <td>Corporate investment banker</td>\n",
       "      <td>None</td>\n",
       "      <td>NaN</td>\n",
       "    </tr>\n",
       "    <tr>\n",
       "      <th>17</th>\n",
       "      <td>3</td>\n",
       "      <td>Rhubarb Drive</td>\n",
       "      <td>Scott</td>\n",
       "      <td>Greenwood</td>\n",
       "      <td>19</td>\n",
       "      <td>Son</td>\n",
       "      <td>Single</td>\n",
       "      <td>Male</td>\n",
       "      <td>University Student</td>\n",
       "      <td>None</td>\n",
       "      <td>NaN</td>\n",
       "    </tr>\n",
       "    <tr>\n",
       "      <th>...</th>\n",
       "      <td>...</td>\n",
       "      <td>...</td>\n",
       "      <td>...</td>\n",
       "      <td>...</td>\n",
       "      <td>...</td>\n",
       "      <td>...</td>\n",
       "      <td>...</td>\n",
       "      <td>...</td>\n",
       "      <td>...</td>\n",
       "      <td>...</td>\n",
       "      <td>...</td>\n",
       "    </tr>\n",
       "    <tr>\n",
       "      <th>9721</th>\n",
       "      <td>1</td>\n",
       "      <td>Stephens Rectory</td>\n",
       "      <td>Sharon</td>\n",
       "      <td>Mitchell</td>\n",
       "      <td>39</td>\n",
       "      <td>Daughter</td>\n",
       "      <td>Single</td>\n",
       "      <td>Female</td>\n",
       "      <td>Product designer</td>\n",
       "      <td>None</td>\n",
       "      <td>NaN</td>\n",
       "    </tr>\n",
       "    <tr>\n",
       "      <th>9722</th>\n",
       "      <td>1</td>\n",
       "      <td>Stephens Rectory</td>\n",
       "      <td>Hollie</td>\n",
       "      <td>Mitchell</td>\n",
       "      <td>36</td>\n",
       "      <td>Daughter</td>\n",
       "      <td>Single</td>\n",
       "      <td>Female</td>\n",
       "      <td>Restaurant manager, fast food</td>\n",
       "      <td>None</td>\n",
       "      <td>NaN</td>\n",
       "    </tr>\n",
       "    <tr>\n",
       "      <th>9723</th>\n",
       "      <td>1</td>\n",
       "      <td>Taylor Barracks</td>\n",
       "      <td>Anne</td>\n",
       "      <td>Turner</td>\n",
       "      <td>42</td>\n",
       "      <td>Head</td>\n",
       "      <td>Married</td>\n",
       "      <td>Female</td>\n",
       "      <td>Operational researcher</td>\n",
       "      <td>None</td>\n",
       "      <td>NaN</td>\n",
       "    </tr>\n",
       "    <tr>\n",
       "      <th>9724</th>\n",
       "      <td>1</td>\n",
       "      <td>Taylor Barracks</td>\n",
       "      <td>Graham</td>\n",
       "      <td>Turner-Rose</td>\n",
       "      <td>44</td>\n",
       "      <td>Husband</td>\n",
       "      <td>Married</td>\n",
       "      <td>Male</td>\n",
       "      <td>Presenter, broadcasting</td>\n",
       "      <td>None</td>\n",
       "      <td>NaN</td>\n",
       "    </tr>\n",
       "    <tr>\n",
       "      <th>9725</th>\n",
       "      <td>1</td>\n",
       "      <td>Taylor Barracks</td>\n",
       "      <td>William</td>\n",
       "      <td>Turner-Rose</td>\n",
       "      <td>20</td>\n",
       "      <td>Son</td>\n",
       "      <td>Single</td>\n",
       "      <td>Male</td>\n",
       "      <td>University Student</td>\n",
       "      <td>None</td>\n",
       "      <td>NaN</td>\n",
       "    </tr>\n",
       "  </tbody>\n",
       "</table>\n",
       "<p>3280 rows × 11 columns</p>\n",
       "</div>"
      ],
      "text/plain": [
       "      House Number            Street First Name      Surname  Age  \\\n",
       "11               2     Rhubarb Drive    Raymond       Carter   33   \n",
       "12               2     Rhubarb Drive       Ryan      Farrell   26   \n",
       "15               3     Rhubarb Drive      Holly    Greenwood   47   \n",
       "16               3     Rhubarb Drive        Tom    Greenwood   51   \n",
       "17               3     Rhubarb Drive      Scott    Greenwood   19   \n",
       "...            ...               ...        ...          ...  ...   \n",
       "9721             1  Stephens Rectory     Sharon     Mitchell   39   \n",
       "9722             1  Stephens Rectory     Hollie     Mitchell   36   \n",
       "9723             1   Taylor Barracks       Anne       Turner   42   \n",
       "9724             1   Taylor Barracks     Graham  Turner-Rose   44   \n",
       "9725             1   Taylor Barracks    William  Turner-Rose   20   \n",
       "\n",
       "     Relationship to Head of House Marital Status  Gender  \\\n",
       "11                             NaN         Single    Male   \n",
       "12                             NaN         Single    Male   \n",
       "15                            Head        Married  Female   \n",
       "16                         Husband        Married    Male   \n",
       "17                             Son         Single    Male   \n",
       "...                            ...            ...     ...   \n",
       "9721                      Daughter         Single  Female   \n",
       "9722                      Daughter         Single  Female   \n",
       "9723                          Head        Married  Female   \n",
       "9724                       Husband        Married    Male   \n",
       "9725                           Son         Single    Male   \n",
       "\n",
       "                             Occupation Infirmity Religion  \n",
       "11                  Electrical engineer      None      NaN  \n",
       "12           Psychologist, occupational      None      NaN  \n",
       "15    Environmental health practitioner      None      NaN  \n",
       "16          Corporate investment banker      None      NaN  \n",
       "17                   University Student      None      NaN  \n",
       "...                                 ...       ...      ...  \n",
       "9721                   Product designer      None      NaN  \n",
       "9722      Restaurant manager, fast food      None      NaN  \n",
       "9723             Operational researcher      None      NaN  \n",
       "9724            Presenter, broadcasting      None      NaN  \n",
       "9725                 University Student      None      NaN  \n",
       "\n",
       "[3280 rows x 11 columns]"
      ]
     },
     "execution_count": 118,
     "metadata": {},
     "output_type": "execute_result"
    }
   ],
   "source": [
    "# Filtering individuals that are aged 18 and above that have missing value in religion column\n",
    "\n",
    "df_copy[(df_copy['Age'] >= 18) & (df_copy['Religion'].isnull())]"
   ]
  },
  {
   "cell_type": "markdown",
   "id": "483a6e3d-14f3-4093-ab0e-5cf3e762ea46",
   "metadata": {},
   "source": [
    "#### Pandas version recognizing column input with 'None' as NaN values although 'None' is a recognised input in these columns.\n",
    "#### Replacing the NaN values with the correct input as 'None'"
   ]
  },
  {
   "cell_type": "code",
   "execution_count": 119,
   "id": "d86e11b7-a61f-4832-8c59-9b8306b798d8",
   "metadata": {},
   "outputs": [],
   "source": [
    "df_copy['Religion'] = df_copy['Religion'].fillna('None')"
   ]
  },
  {
   "cell_type": "code",
   "execution_count": 120,
   "id": "e1194f2a-6679-48da-98ec-07b5d59bb74c",
   "metadata": {},
   "outputs": [
    {
     "name": "stdout",
     "output_type": "stream",
     "text": [
      "0    None\n",
      "Name: Religion, dtype: object\n",
      "0    None\n",
      "Name: Religion, dtype: object\n",
      "0    None\n",
      "Name: Religion, dtype: object\n",
      "0    None\n",
      "Name: Religion, dtype: object\n"
     ]
    }
   ],
   "source": [
    "# Inspecting demographies based on Age, Marital Status, Gender \n",
    "\n",
    "print(df_copy[((df_copy['Age'] >= 18) & (df_copy['Marital Status'] == 'Single') & (df_copy['Gender'] == 'Female'))]['Religion'].mode())\n",
    "\n",
    "print(df_copy[((df_copy['Age'] >= 18) & (df_copy['Marital Status'] == 'Single') & (df_copy['Gender'] == 'Male'))]['Religion'].mode())\n",
    "\n",
    "print(df_copy[((df_copy['Age'] >= 18) & (df_copy['Marital Status'] == 'Married') & (df_copy['Gender'] == 'Female'))]['Religion'].mode())\n",
    "\n",
    "print(df_copy[((df_copy['Age'] >= 18) & (df_copy['Marital Status'] == 'Married') & (df_copy['Gender'] == 'Male'))]['Religion'].mode())\n"
   ]
  },
  {
   "cell_type": "code",
   "execution_count": 121,
   "id": "2a8c64e8",
   "metadata": {},
   "outputs": [],
   "source": [
    "# Replacing remaining individuals less than 18 years with None as it is the mode and because their religion cannot be inferred from our data\n",
    "\n",
    "Less_than_eighteen = (df_copy['Age'] < 18) & (df_copy['Religion'].isnull())\n",
    "\n",
    "df_copy.loc[Less_than_eighteen, 'Religion'] = 'None'"
   ]
  },
  {
   "cell_type": "code",
   "execution_count": 122,
   "id": "37b2d6c7",
   "metadata": {},
   "outputs": [],
   "source": [
    "# Replacing remaining individuals aged 18 or above with None as it is the mode and because their religion cannot be inferred from our data\n",
    "\n",
    "Eighteen_and_above = (df_copy['Age'] >= 18) & (df_copy['Religion'].isnull())\n",
    "\n",
    "df_copy.loc[Eighteen_and_above, 'Religion'] = 'None'"
   ]
  },
  {
   "cell_type": "code",
   "execution_count": 123,
   "id": "ee004e79",
   "metadata": {},
   "outputs": [],
   "source": [
    "# Replacing individuals with Jedi as their religion to None as Jediism is not a recognized religion in the uk\n",
    "\n",
    "df_copy['Religion'] = df_copy['Religion'].replace('Jedi', 'None')"
   ]
  },
  {
   "cell_type": "markdown",
   "id": "a220d636",
   "metadata": {},
   "source": [
    "### Validating Implementation"
   ]
  },
  {
   "cell_type": "code",
   "execution_count": 124,
   "id": "d75668f9",
   "metadata": {},
   "outputs": [
    {
     "data": {
      "text/plain": [
       "array(['Catholic', 'Christian', 'None', 'Methodist', 'Jewish', 'Muslim',\n",
       "       'Sikh', 'Bahai', 'Quaker', 'Pagan'], dtype=object)"
      ]
     },
     "execution_count": 124,
     "metadata": {},
     "output_type": "execute_result"
    }
   ],
   "source": [
    "df_copy['Religion'].unique()"
   ]
  },
  {
   "cell_type": "code",
   "execution_count": 125,
   "id": "8feb09bb",
   "metadata": {},
   "outputs": [
    {
     "data": {
      "text/plain": [
       "Religion\n",
       "None         4362\n",
       "Christian    2827\n",
       "Catholic     1428\n",
       "Methodist     789\n",
       "Muslim        162\n",
       "Sikh           95\n",
       "Jewish         41\n",
       "Quaker          8\n",
       "Pagan           6\n",
       "Bahai           2\n",
       "Name: count, dtype: int64"
      ]
     },
     "execution_count": 125,
     "metadata": {},
     "output_type": "execute_result"
    }
   ],
   "source": [
    "# Checking frequency of each row \n",
    "\n",
    "df_copy['Religion'].value_counts()"
   ]
  },
  {
   "cell_type": "code",
   "execution_count": 126,
   "id": "834fbea1",
   "metadata": {
    "scrolled": true
   },
   "outputs": [
    {
     "name": "stdout",
     "output_type": "stream",
     "text": [
      "<class 'pandas.core.frame.DataFrame'>\n",
      "Index: 9720 entries, 0 to 9727\n",
      "Data columns (total 11 columns):\n",
      " #   Column                         Non-Null Count  Dtype \n",
      "---  ------                         --------------  ----- \n",
      " 0   House Number                   9720 non-null   int64 \n",
      " 1   Street                         9720 non-null   object\n",
      " 2   First Name                     9720 non-null   object\n",
      " 3   Surname                        9720 non-null   object\n",
      " 4   Age                            9720 non-null   int64 \n",
      " 5   Relationship to Head of House  8998 non-null   object\n",
      " 6   Marital Status                 9720 non-null   object\n",
      " 7   Gender                         9720 non-null   object\n",
      " 8   Occupation                     9720 non-null   object\n",
      " 9   Infirmity                      9720 non-null   object\n",
      " 10  Religion                       9720 non-null   object\n",
      "dtypes: int64(2), object(9)\n",
      "memory usage: 1.1+ MB\n"
     ]
    }
   ],
   "source": [
    "# Checking the completeness of the data, if all missing values have been filled\n",
    "\n",
    "df_copy.info()"
   ]
  },
  {
   "cell_type": "code",
   "execution_count": 127,
   "id": "58c7d2d0-7b37-4959-a3d5-62ca50255683",
   "metadata": {},
   "outputs": [],
   "source": [
    "# Pandas version recognizing column input with 'None' as NaN values although 'None' is a recognised input in these columns.\n",
    "# Replacing the NaN values with the correct input as 'None'"
   ]
  },
  {
   "cell_type": "markdown",
   "id": "9c20698f-1590-4a2c-b92f-528305f49b26",
   "metadata": {},
   "source": [
    "#### Changing the input back to 'None' for Relationship to head of house column"
   ]
  },
  {
   "cell_type": "code",
   "execution_count": 128,
   "id": "7654b401-517d-400c-82a5-5c7a735a159d",
   "metadata": {},
   "outputs": [
    {
     "data": {
      "text/plain": [
       "722"
      ]
     },
     "execution_count": 128,
     "metadata": {},
     "output_type": "execute_result"
    }
   ],
   "source": [
    "df_copy['Relationship to Head of House'].isna().sum()"
   ]
  },
  {
   "cell_type": "code",
   "execution_count": 129,
   "id": "7fa802a9-ccf7-4acb-8b4c-0d9d72449cd9",
   "metadata": {},
   "outputs": [],
   "source": [
    "df_copy['Relationship to Head of House'] = df_copy['Relationship to Head of House'].fillna('None')"
   ]
  },
  {
   "cell_type": "code",
   "execution_count": 130,
   "id": "b0c00e53-b460-49d8-8a57-54886b675e87",
   "metadata": {},
   "outputs": [
    {
     "data": {
      "text/plain": [
       "0"
      ]
     },
     "execution_count": 130,
     "metadata": {},
     "output_type": "execute_result"
    }
   ],
   "source": [
    "df_copy['Relationship to Head of House'].isna().sum()"
   ]
  },
  {
   "cell_type": "markdown",
   "id": "af604610-6fdb-4743-b8b6-67bf3e37814d",
   "metadata": {},
   "source": [
    "  "
   ]
  },
  {
   "cell_type": "code",
   "execution_count": 131,
   "id": "1ed978a0-4a55-4bd2-bc24-b8d1861a67c8",
   "metadata": {},
   "outputs": [
    {
     "name": "stdout",
     "output_type": "stream",
     "text": [
      "<class 'pandas.core.frame.DataFrame'>\n",
      "Index: 9720 entries, 0 to 9727\n",
      "Data columns (total 11 columns):\n",
      " #   Column                         Non-Null Count  Dtype \n",
      "---  ------                         --------------  ----- \n",
      " 0   House Number                   9720 non-null   int64 \n",
      " 1   Street                         9720 non-null   object\n",
      " 2   First Name                     9720 non-null   object\n",
      " 3   Surname                        9720 non-null   object\n",
      " 4   Age                            9720 non-null   int64 \n",
      " 5   Relationship to Head of House  9720 non-null   object\n",
      " 6   Marital Status                 9720 non-null   object\n",
      " 7   Gender                         9720 non-null   object\n",
      " 8   Occupation                     9720 non-null   object\n",
      " 9   Infirmity                      9720 non-null   object\n",
      " 10  Religion                       9720 non-null   object\n",
      "dtypes: int64(2), object(9)\n",
      "memory usage: 1.1+ MB\n"
     ]
    }
   ],
   "source": [
    "# Checking the completeness of the data columns again, if all missing values have been filled\n",
    "\n",
    "df_copy.info()"
   ]
  },
  {
   "cell_type": "markdown",
   "id": "55ddfb8c-65f6-4137-9eb1-bcd6177cef14",
   "metadata": {},
   "source": [
    "  "
   ]
  },
  {
   "cell_type": "markdown",
   "id": "3ca09bf5",
   "metadata": {},
   "source": [
    "## ANALYSIS"
   ]
  },
  {
   "cell_type": "markdown",
   "id": "484efe73",
   "metadata": {},
   "source": [
    "### AGE DISTRIBUTION"
   ]
  },
  {
   "cell_type": "code",
   "execution_count": 132,
   "id": "25768347",
   "metadata": {},
   "outputs": [
    {
     "data": {
      "text/html": [
       "<div>\n",
       "<style scoped>\n",
       "    .dataframe tbody tr th:only-of-type {\n",
       "        vertical-align: middle;\n",
       "    }\n",
       "\n",
       "    .dataframe tbody tr th {\n",
       "        vertical-align: top;\n",
       "    }\n",
       "\n",
       "    .dataframe thead th {\n",
       "        text-align: right;\n",
       "    }\n",
       "</style>\n",
       "<table border=\"1\" class=\"dataframe\">\n",
       "  <thead>\n",
       "    <tr style=\"text-align: right;\">\n",
       "      <th></th>\n",
       "      <th>count</th>\n",
       "      <th>mean</th>\n",
       "      <th>std</th>\n",
       "      <th>min</th>\n",
       "      <th>25%</th>\n",
       "      <th>50%</th>\n",
       "      <th>75%</th>\n",
       "      <th>max</th>\n",
       "    </tr>\n",
       "    <tr>\n",
       "      <th>Gender</th>\n",
       "      <th></th>\n",
       "      <th></th>\n",
       "      <th></th>\n",
       "      <th></th>\n",
       "      <th></th>\n",
       "      <th></th>\n",
       "      <th></th>\n",
       "      <th></th>\n",
       "    </tr>\n",
       "  </thead>\n",
       "  <tbody>\n",
       "    <tr>\n",
       "      <th>Female</th>\n",
       "      <td>5053.0</td>\n",
       "      <td>37.209578</td>\n",
       "      <td>21.386941</td>\n",
       "      <td>0.0</td>\n",
       "      <td>20.0</td>\n",
       "      <td>37.0</td>\n",
       "      <td>52.0</td>\n",
       "      <td>105.0</td>\n",
       "    </tr>\n",
       "    <tr>\n",
       "      <th>Male</th>\n",
       "      <td>4667.0</td>\n",
       "      <td>35.543818</td>\n",
       "      <td>21.930451</td>\n",
       "      <td>0.0</td>\n",
       "      <td>17.0</td>\n",
       "      <td>35.0</td>\n",
       "      <td>51.0</td>\n",
       "      <td>110.0</td>\n",
       "    </tr>\n",
       "  </tbody>\n",
       "</table>\n",
       "</div>"
      ],
      "text/plain": [
       "         count       mean        std  min   25%   50%   75%    max\n",
       "Gender                                                            \n",
       "Female  5053.0  37.209578  21.386941  0.0  20.0  37.0  52.0  105.0\n",
       "Male    4667.0  35.543818  21.930451  0.0  17.0  35.0  51.0  110.0"
      ]
     },
     "execution_count": 132,
     "metadata": {},
     "output_type": "execute_result"
    }
   ],
   "source": [
    "# Age by gender statistics\n",
    "\n",
    "df_copy.groupby(['Gender'])['Age'].describe()"
   ]
  },
  {
   "cell_type": "code",
   "execution_count": 133,
   "id": "70744860",
   "metadata": {},
   "outputs": [
    {
     "name": "stdout",
     "output_type": "stream",
     "text": [
      "48.0% of the total population are Males\n",
      "52.0% of the total population are Females\n"
     ]
    }
   ],
   "source": [
    "# Percentage of the male and female population\n",
    "\n",
    "Males = df_copy[df_copy['Gender'] == 'Male'].Gender.count()\n",
    "\n",
    "Pop_of_males = (Males/len(df_copy)) * 100\n",
    "\n",
    "print(f'{Pop_of_males:.1f}% of the total population are Males')\n",
    "\n",
    "Pop_of_females = 100 - Pop_of_males\n",
    "\n",
    "print(f'{Pop_of_females:.1f}% of the total population are Females')"
   ]
  },
  {
   "cell_type": "code",
   "execution_count": 134,
   "id": "9867029b",
   "metadata": {},
   "outputs": [],
   "source": [
    "# Creating an age bracket for age distribution\n",
    "\n",
    "Age_bins = [i for i in range(0, df_copy['Age'].max() + 6, 5)]\n",
    "\n",
    "Age_labels = [str(i) + \"-\" + str (i + 4) for i in range(0, df_copy['Age'].max() + 1, 5)]\n",
    "\n",
    "Age_labels[-1] = '105+'\n",
    "\n",
    "df_copy['Age_bracket'] = pd.cut(df_copy['Age'], bins = Age_bins, labels = Age_labels, right=False)"
   ]
  },
  {
   "cell_type": "code",
   "execution_count": 135,
   "id": "6cb7adcf",
   "metadata": {},
   "outputs": [],
   "source": [
    "# Grouping based on Gender and Age Group\n",
    "\n",
    "Females = df_copy.groupby(['Gender', 'Age_bracket']).size().Female\n",
    "Males = df_copy.groupby(['Gender', 'Age_bracket']).size().Male\n",
    "\n",
    "# Creating an Age pyramid, we assign negative values to males and positive values to females\n",
    "\n",
    "values_m = Males.values * -1\n",
    "values_f = Females.values\n",
    "index_f = Males.index\n",
    "index_f = Females.index\n",
    "\n",
    "bin_index = Females.index[:: -1]"
   ]
  },
  {
   "cell_type": "code",
   "execution_count": 136,
   "id": "ca854e78",
   "metadata": {},
   "outputs": [
    {
     "data": {
      "image/png": "[encoded data removed]",
      "text/plain": [
       "<Figure size 800x600 with 1 Axes>"
      ]
     },
     "metadata": {},
     "output_type": "display_data"
    }
   ],
   "source": [
    "#Plotting an Age pyramid\n",
    "\n",
    "plt.figure(figsize=(8, 6))\n",
    "Age_plot = sns.barplot(x = values_m, y = index_f, order = bin_index, color = 'royalblue')\n",
    "Age_plot = sns.barplot(x = values_f, y = index_f, order = bin_index, color = 'fuchsia')\n",
    "\n",
    "plt.text(-230,3, 'Male', fontsize=16)\n",
    "plt.text(150,3, 'Female', fontsize=16)\n",
    "\n",
    "# Naming my axis\n",
    "\n",
    "plt.xlabel(\"Population Count\")\n",
    "plt.ylabel(\"Age Bracket\")\n",
    "\n",
    "# Naming my graph\n",
    "plt.title(\"Age Pyramid\")\n",
    "\n",
    "# Maintaining only positive integers\n",
    "ax = plt.gca()\n",
    "ax.set_xticklabels([abs(int(x)) for x in ax.get_xticks()]);"
   ]
  },
  {
   "cell_type": "markdown",
   "id": "1936028b",
   "metadata": {},
   "source": [
    "#### BROADER AGE GROUPING "
   ]
  },
  {
   "cell_type": "code",
   "execution_count": 137,
   "id": "a26a1cda",
   "metadata": {},
   "outputs": [
    {
     "name": "stdout",
     "output_type": "stream",
     "text": [
      "10.60% of the total population are Elderly\n",
      "17.27% of the total population are Adults\n",
      "41.10% of the total population are Young Adults\n",
      "5.99% of the total population are University Aged Students (UAE)\n",
      "19.54% of the total population are Students\n",
      "5.50% of the total population are Children\n"
     ]
    }
   ],
   "source": [
    "# Percentage of individuals 66 and above\n",
    "\n",
    "Elderly = df_copy[df_copy['Age'] >= 66].Age.count()\n",
    "\n",
    "print(f'{((Elderly/len(df_copy)*100)):.2f}% of the total population are Elderly')\n",
    "\n",
    "\n",
    "# Percentage of individuals between 50 and 65\n",
    "\n",
    "Adults = df_copy[(df_copy['Age'] >= 50) & (df_copy['Age'] <= 65)].Age.count()\n",
    "\n",
    "print(f'{((Adults/len(df_copy)*100)):.2f}% of the total population are Adults')\n",
    "\n",
    "\n",
    "# Percentage of individuals between 23 and 49\n",
    "\n",
    "Young_adults = df_copy[(df_copy['Age'] >= 23) & (df_copy['Age'] <= 49)].Age.count()\n",
    "\n",
    "print(f'{((Young_adults/len(df_copy)*100)):.2f}% of the total population are Young Adults')\n",
    "\n",
    "\n",
    "# Percentage of individuals between 19 and 22\n",
    "\n",
    "Uni_students = df_copy[(df_copy['Age'] >= 19) & (df_copy['Age'] <= 22)].Age.count()\n",
    "\n",
    "print(f'{((Uni_students/len(df_copy)*100)):.2f}% of the total population are University Aged Students (UAE)')\n",
    "\n",
    "\n",
    "# Percentage of individuals between 5 and 18\n",
    "\n",
    "Students = df_copy[(df_copy['Age'] >= 5) & (df_copy['Age'] <= 18)].Age.count()\n",
    "\n",
    "print(f'{((Students/len(df_copy)*100)):.2f}% of the total population are Students')\n",
    "\n",
    "\n",
    "# Percentage of individuals between 0 and 4\n",
    "\n",
    "Children = df_copy[(df_copy['Age'] >= 0) & (df_copy['Age'] <= 4)].Age.count()\n",
    "\n",
    "print(f'{((Children/len(df_copy)*100)):.2f}% of the total population are Children')\n"
   ]
  },
  {
   "cell_type": "code",
   "execution_count": 138,
   "id": "822c5df8",
   "metadata": {},
   "outputs": [],
   "source": [
    "Categories = ['Elderly', 'Adults', 'Young Adults', 'UAE', 'Students', 'Children'] #UAE are University Aged Students\n",
    "\n",
    "Percentages = [Elderly/len(df_copy)*100, Adults/len(df_copy)*100, Young_adults/len(df_copy)*100, Uni_students/len(df_copy)*100, Students/len(df_copy)*100, Children/len(df_copy)*100]"
   ]
  },
  {
   "cell_type": "code",
   "execution_count": 139,
   "id": "40d39b81",
   "metadata": {},
   "outputs": [
    {
     "data": {
      "image/png": "[encoded data removed]",
      "text/plain": [
       "<Figure size 640x480 with 1 Axes>"
      ]
     },
     "metadata": {},
     "output_type": "display_data"
    }
   ],
   "source": [
    "# Plotting bar chart for better visualization\n",
    "\n",
    "plt.bar(Categories, Percentages)\n",
    "\n",
    "# Naming my axis\n",
    "\n",
    "plt.xlabel(\"Age Group\")\n",
    "plt.ylabel(\"Percentage of Population (%)\")\n",
    "\n",
    "# Naming my graph\n",
    "\n",
    "plt.title(\"Age Distribution in the Population\")\n",
    "\n",
    "\n",
    "plt.show()"
   ]
  },
  {
   "cell_type": "code",
   "execution_count": 140,
   "id": "65ee4d75",
   "metadata": {},
   "outputs": [
    {
     "data": {
      "image/png": "[encoded data removed]",
      "text/plain": [
       "<Figure size 640x480 with 1 Axes>"
      ]
     },
     "metadata": {},
     "output_type": "display_data"
    }
   ],
   "source": [
    "# Plotting pie chart for visualization\n",
    "\n",
    "plt.pie(Percentages, labels = Categories, autopct = \"%1.1f%%\" )\n",
    "\n",
    "plt.title(\"Age Distribution in the Population\")\n",
    "\n",
    "plt.show()"
   ]
  },
  {
   "cell_type": "markdown",
   "id": "01cfd831",
   "metadata": {},
   "source": [
    "### DIVORCE AND MARRIAGE RATE"
   ]
  },
  {
   "cell_type": "markdown",
   "id": "7ffb9647",
   "metadata": {},
   "source": [
    "#### MARITAL STATUS BY AGE"
   ]
  },
  {
   "cell_type": "code",
   "execution_count": 141,
   "id": "5f1c77cb",
   "metadata": {
    "scrolled": true
   },
   "outputs": [
    {
     "data": {
      "text/html": [
       "<div>\n",
       "<style scoped>\n",
       "    .dataframe tbody tr th:only-of-type {\n",
       "        vertical-align: middle;\n",
       "    }\n",
       "\n",
       "    .dataframe tbody tr th {\n",
       "        vertical-align: top;\n",
       "    }\n",
       "\n",
       "    .dataframe thead th {\n",
       "        text-align: right;\n",
       "    }\n",
       "</style>\n",
       "<table border=\"1\" class=\"dataframe\">\n",
       "  <thead>\n",
       "    <tr style=\"text-align: right;\">\n",
       "      <th></th>\n",
       "      <th>count</th>\n",
       "      <th>mean</th>\n",
       "      <th>std</th>\n",
       "      <th>min</th>\n",
       "      <th>25%</th>\n",
       "      <th>50%</th>\n",
       "      <th>75%</th>\n",
       "      <th>max</th>\n",
       "    </tr>\n",
       "    <tr>\n",
       "      <th>Marital Status</th>\n",
       "      <th></th>\n",
       "      <th></th>\n",
       "      <th></th>\n",
       "      <th></th>\n",
       "      <th></th>\n",
       "      <th></th>\n",
       "      <th></th>\n",
       "      <th></th>\n",
       "    </tr>\n",
       "  </thead>\n",
       "  <tbody>\n",
       "    <tr>\n",
       "      <th>Divorced</th>\n",
       "      <td>876.0</td>\n",
       "      <td>42.759132</td>\n",
       "      <td>16.471002</td>\n",
       "      <td>19.0</td>\n",
       "      <td>30.00</td>\n",
       "      <td>39.0</td>\n",
       "      <td>53.25</td>\n",
       "      <td>103.0</td>\n",
       "    </tr>\n",
       "    <tr>\n",
       "      <th>Married</th>\n",
       "      <td>2704.0</td>\n",
       "      <td>51.211908</td>\n",
       "      <td>16.793446</td>\n",
       "      <td>18.0</td>\n",
       "      <td>39.00</td>\n",
       "      <td>49.0</td>\n",
       "      <td>63.00</td>\n",
       "      <td>110.0</td>\n",
       "    </tr>\n",
       "    <tr>\n",
       "      <th>Minor</th>\n",
       "      <td>2272.0</td>\n",
       "      <td>8.869718</td>\n",
       "      <td>5.006796</td>\n",
       "      <td>0.0</td>\n",
       "      <td>5.00</td>\n",
       "      <td>9.0</td>\n",
       "      <td>13.00</td>\n",
       "      <td>17.0</td>\n",
       "    </tr>\n",
       "    <tr>\n",
       "      <th>Single</th>\n",
       "      <td>3462.0</td>\n",
       "      <td>37.968226</td>\n",
       "      <td>13.863791</td>\n",
       "      <td>17.0</td>\n",
       "      <td>26.00</td>\n",
       "      <td>36.0</td>\n",
       "      <td>49.00</td>\n",
       "      <td>89.0</td>\n",
       "    </tr>\n",
       "    <tr>\n",
       "      <th>Widowed</th>\n",
       "      <td>406.0</td>\n",
       "      <td>64.953202</td>\n",
       "      <td>19.220110</td>\n",
       "      <td>18.0</td>\n",
       "      <td>58.25</td>\n",
       "      <td>70.0</td>\n",
       "      <td>77.00</td>\n",
       "      <td>105.0</td>\n",
       "    </tr>\n",
       "  </tbody>\n",
       "</table>\n",
       "</div>"
      ],
      "text/plain": [
       "                 count       mean        std   min    25%   50%    75%    max\n",
       "Marital Status                                                               \n",
       "Divorced         876.0  42.759132  16.471002  19.0  30.00  39.0  53.25  103.0\n",
       "Married         2704.0  51.211908  16.793446  18.0  39.00  49.0  63.00  110.0\n",
       "Minor           2272.0   8.869718   5.006796   0.0   5.00   9.0  13.00   17.0\n",
       "Single          3462.0  37.968226  13.863791  17.0  26.00  36.0  49.00   89.0\n",
       "Widowed          406.0  64.953202  19.220110  18.0  58.25  70.0  77.00  105.0"
      ]
     },
     "execution_count": 141,
     "metadata": {},
     "output_type": "execute_result"
    }
   ],
   "source": [
    "# Age by marital status statistics\n",
    "\n",
    "df_copy.groupby('Marital Status')['Age'].describe()"
   ]
  },
  {
   "cell_type": "code",
   "execution_count": 142,
   "id": "a4f8c047",
   "metadata": {},
   "outputs": [
    {
     "data": {
      "image/png": "[encoded data removed]",
      "text/plain": [
       "<Figure size 800x600 with 1 Axes>"
      ]
     },
     "metadata": {},
     "output_type": "display_data"
    }
   ],
   "source": [
    "# Filtering Divorced and Married individuals from data\n",
    "\n",
    "Group = ['Divorced','Married']\n",
    "\n",
    "Ms_column = df_copy[df_copy[\"Marital Status\"].isin(Group)]\n",
    "\n",
    "# Ploting a histogram of Age Group by Marital Status from the filtered group\n",
    "\n",
    "plt.figure(figsize = [8, 6])\n",
    "\n",
    "sns.histplot(data = Ms_column, x = 'Age_bracket', hue = 'Marital Status', multiple = 'stack', palette = \"viridis\")\n",
    "\n",
    "plt.title('Marital Status by Age Bracket')\n",
    "\n",
    "plt.ylabel('Frequency')\n",
    "\n",
    "plt.xticks(rotation = 30);"
   ]
  },
  {
   "cell_type": "markdown",
   "id": "c77653fa",
   "metadata": {},
   "source": [
    "#### MARITAL STATUS BY GENDER"
   ]
  },
  {
   "cell_type": "code",
   "execution_count": 143,
   "id": "7d49bcfc",
   "metadata": {},
   "outputs": [
    {
     "data": {
      "image/png": "[encoded data removed]",
      "text/plain": [
       "<Figure size 800x600 with 1 Axes>"
      ]
     },
     "metadata": {},
     "output_type": "display_data"
    }
   ],
   "source": [
    "# Filtering Divorced and Married individuals from data\n",
    "\n",
    "Group = ['Divorced','Married']\n",
    "\n",
    "DM_group = df_copy[df_copy[\"Marital Status\"].isin(Group)]\n",
    "\n",
    "# Ploting a histogram of Gender by Marital Status from the filtered group\n",
    "\n",
    "plt.figure(figsize = [8, 6])\n",
    "\n",
    "sns.histplot(data = DM_group, x = 'Marital Status', hue = 'Gender', multiple = 'dodge', palette = \"husl\")\n",
    "\n",
    "plt.title('Marital Status by Gender')\n",
    "\n",
    "plt.ylabel('Frequency')\n",
    "\n",
    "plt.xticks(rotation = 30);"
   ]
  },
  {
   "cell_type": "code",
   "execution_count": 144,
   "id": "718d0640",
   "metadata": {},
   "outputs": [
    {
     "data": {
      "text/html": [
       "<div>\n",
       "<style scoped>\n",
       "    .dataframe tbody tr th:only-of-type {\n",
       "        vertical-align: middle;\n",
       "    }\n",
       "\n",
       "    .dataframe tbody tr th {\n",
       "        vertical-align: top;\n",
       "    }\n",
       "\n",
       "    .dataframe thead th {\n",
       "        text-align: right;\n",
       "    }\n",
       "</style>\n",
       "<table border=\"1\" class=\"dataframe\">\n",
       "  <thead>\n",
       "    <tr style=\"text-align: right;\">\n",
       "      <th>Marital Status</th>\n",
       "      <th>Divorced</th>\n",
       "      <th>Married</th>\n",
       "      <th>Minor</th>\n",
       "      <th>Single</th>\n",
       "      <th>Widowed</th>\n",
       "    </tr>\n",
       "    <tr>\n",
       "      <th>Gender</th>\n",
       "      <th></th>\n",
       "      <th></th>\n",
       "      <th></th>\n",
       "      <th></th>\n",
       "      <th></th>\n",
       "    </tr>\n",
       "  </thead>\n",
       "  <tbody>\n",
       "    <tr>\n",
       "      <th>Female</th>\n",
       "      <td>541</td>\n",
       "      <td>1361</td>\n",
       "      <td>1071</td>\n",
       "      <td>1828</td>\n",
       "      <td>252</td>\n",
       "    </tr>\n",
       "    <tr>\n",
       "      <th>Male</th>\n",
       "      <td>335</td>\n",
       "      <td>1343</td>\n",
       "      <td>1201</td>\n",
       "      <td>1634</td>\n",
       "      <td>154</td>\n",
       "    </tr>\n",
       "  </tbody>\n",
       "</table>\n",
       "</div>"
      ],
      "text/plain": [
       "Marital Status  Divorced  Married  Minor  Single  Widowed\n",
       "Gender                                                   \n",
       "Female               541     1361   1071    1828      252\n",
       "Male                 335     1343   1201    1634      154"
      ]
     },
     "execution_count": 144,
     "metadata": {},
     "output_type": "execute_result"
    }
   ],
   "source": [
    "# Creating a data frame for marital status\n",
    "\n",
    "New_dataframe = pd.DataFrame(df_copy)\n",
    "\n",
    "# Extracting Gender and Marital status columns\n",
    "\n",
    "Ms_g = New_dataframe.loc[:, ['Marital Status', 'Gender']]\n",
    "\n",
    "# Creating a new dataframe using pivot table\n",
    "\n",
    "Ms_g_column = Ms_g.pivot_table(index = ['Gender'], columns = 'Marital Status', aggfunc=len, fill_value=0)\n",
    "\n",
    "# Printing new dataframe\n",
    "\n",
    "Ms_g_column"
   ]
  },
  {
   "cell_type": "code",
   "execution_count": 145,
   "id": "81d41b62",
   "metadata": {},
   "outputs": [
    {
     "name": "stdout",
     "output_type": "stream",
     "text": [
      "36.31% of people in the town are married\n",
      "12.02% of people in the town are divorced\n",
      "The % of divorced women in the town was 61.76%\n",
      "The % of divorced men in the town was 38.24%\n"
     ]
    }
   ],
   "source": [
    "# Grouping by individuals who are married\n",
    "\n",
    "Married_pop = df_copy.groupby(['Marital Status']).size().Married\n",
    "\n",
    "# Grouping by individuals who are divorced\n",
    "\n",
    "Divorced_pop = df_copy.groupby(['Marital Status']).size().Divorced\n",
    "\n",
    "# Grouping by individuals who are widowed\n",
    "\n",
    "Widowed_pop = df_copy.groupby(['Marital Status']).size().Widowed\n",
    "\n",
    "# Total no of adults 18 and above (18 as the legal age of marriage)\n",
    "\n",
    "legal_adults = df_copy[df_copy['Age'] >= 18].Age.count()\n",
    "\n",
    "# Married percentage\n",
    "\n",
    "Percentage_of_married = (Married_pop/legal_adults) * 100\n",
    "\n",
    "print(f'{(Percentage_of_married):.2f}% of people in the town are married')\n",
    "\n",
    "# Total no of adults that have gotten to the age of divorce.\n",
    "\n",
    "Age_of_divorce = df_copy[df_copy['Age'] >= 19].Age.count()\n",
    "\n",
    "# Divorced percentage\n",
    "\n",
    "Percentage_of_divorced = (Divorced_pop/Age_of_divorce) * 100\n",
    "\n",
    "print(f'{(Percentage_of_divorced):.2f}% of people in the town are divorced')\n",
    "\n",
    "# Divorced women\n",
    "\n",
    "divorced_women = len(df_copy[(df_copy['Marital Status'] == 'Divorced') & (df_copy['Gender'] == 'Female')])\n",
    "\n",
    "Percentage_of_divorced_women = (divorced_women/Divorced_pop) * 100\n",
    "\n",
    "print(f'The % of divorced women in the town was {(Percentage_of_divorced_women):.2f}%')\n",
    "\n",
    "# Divorced men\n",
    "\n",
    "divorced_men = len(df_copy[(df_copy['Marital Status'] == 'Divorced') & (df_copy['Gender'] == 'Male')])\n",
    "\n",
    "Percentage_of_divorced_men = (divorced_men/Divorced_pop) * 100\n",
    "\n",
    "print(f'The % of divorced men in the town was {(Percentage_of_divorced_men):.2f}%')"
   ]
  },
  {
   "cell_type": "markdown",
   "id": "cf1b61b8",
   "metadata": {},
   "source": [
    "### Calculating Crude Marriage/Divorce Rate \n",
    "(This represents the total number of marriages and divorces happening in a certain population within a year per 1,000 people)"
   ]
  },
  {
   "cell_type": "code",
   "execution_count": 146,
   "id": "bfc4973c",
   "metadata": {},
   "outputs": [
    {
     "name": "stdout",
     "output_type": "stream",
     "text": [
      "Total married population is 3986 which is 41.01% of the total population\n",
      "The crude marriage rate is 13.57\n",
      "The crude divorce rate is 4.40\n"
     ]
    }
   ],
   "source": [
    "# Total married population will include those currently married and those previously married(divorced and widowed)\n",
    "\n",
    "Total_married_pop = Married_pop + Divorced_pop + Widowed_pop\n",
    "\n",
    "print(f'Total married population is {Total_married_pop} which is {((Total_married_pop)/len(df_copy))*100:.2f}% of the total population')\n",
    "      \n",
    "# Crude marriage rate per year over the past 5 years\n",
    "\n",
    "Married_pop = Married_pop/5\n",
    "\n",
    "Crude_marriage_rate = (Married_pop/Total_married_pop) * 1000\n",
    "\n",
    "print(f'The crude marriage rate is {Crude_marriage_rate/10:.2f}')\n",
    "\n",
    "# Crude divorce rate per year over the past 5 years\n",
    "\n",
    "Divorced_pop = Divorced_pop/5\n",
    "\n",
    "Crude_divorce_rate = (Divorced_pop/Total_married_pop) * 1000\n",
    "\n",
    "print(f'The crude divorce rate is {Crude_divorce_rate/10:.2f}')"
   ]
  },
  {
   "cell_type": "markdown",
   "id": "b4bd4237-4cbb-4d6a-b369-3a10d40c06c5",
   "metadata": {},
   "source": [
    "   "
   ]
  },
  {
   "cell_type": "markdown",
   "id": "0629be52",
   "metadata": {},
   "source": [
    "### UNEMPLOYMENT TRENDS"
   ]
  },
  {
   "cell_type": "code",
   "execution_count": 147,
   "id": "06e7ad9f",
   "metadata": {},
   "outputs": [],
   "source": [
    "def occupation(df_copy, column):\n",
    "    new_input = []\n",
    "    for i, s in df_copy.iterrows():\n",
    "        if 'Student' in s['Occupation']:\n",
    "            new_input.append('Student')\n",
    "        elif s['Age'] <= 4:\n",
    "            new_input.append('Child')\n",
    "        elif 'Unemployed' in s['Occupation']:\n",
    "            new_input.append('Unemployed')\n",
    "        elif 'Retired' in s['Occupation']:\n",
    "            new_input.append('Retired')\n",
    "        else:\n",
    "            new_input.append('Employed')\n",
    "    return new_input\n",
    "\n",
    "df_copy['Occupation_Group'] = occupation(df_copy, 'Occupation')"
   ]
  },
  {
   "cell_type": "code",
   "execution_count": 148,
   "id": "6c4fb717",
   "metadata": {},
   "outputs": [
    {
     "data": {
      "text/plain": [
       "Occupation_Group\n",
       "Employed      5283\n",
       "Student       2457\n",
       "Retired        890\n",
       "Unemployed     555\n",
       "Child          535\n",
       "Name: count, dtype: int64"
      ]
     },
     "execution_count": 148,
     "metadata": {},
     "output_type": "execute_result"
    }
   ],
   "source": [
    "df_copy['Occupation_Group'].value_counts()"
   ]
  },
  {
   "cell_type": "code",
   "execution_count": 149,
   "id": "a07ba53d",
   "metadata": {},
   "outputs": [
    {
     "data": {
      "text/html": [
       "<div>\n",
       "<style scoped>\n",
       "    .dataframe tbody tr th:only-of-type {\n",
       "        vertical-align: middle;\n",
       "    }\n",
       "\n",
       "    .dataframe tbody tr th {\n",
       "        vertical-align: top;\n",
       "    }\n",
       "\n",
       "    .dataframe thead th {\n",
       "        text-align: right;\n",
       "    }\n",
       "</style>\n",
       "<table border=\"1\" class=\"dataframe\">\n",
       "  <thead>\n",
       "    <tr style=\"text-align: right;\">\n",
       "      <th></th>\n",
       "      <th>count</th>\n",
       "      <th>mean</th>\n",
       "      <th>std</th>\n",
       "      <th>min</th>\n",
       "      <th>25%</th>\n",
       "      <th>50%</th>\n",
       "      <th>75%</th>\n",
       "      <th>max</th>\n",
       "    </tr>\n",
       "    <tr>\n",
       "      <th>Occupation_Group</th>\n",
       "      <th></th>\n",
       "      <th></th>\n",
       "      <th></th>\n",
       "      <th></th>\n",
       "      <th></th>\n",
       "      <th></th>\n",
       "      <th></th>\n",
       "      <th></th>\n",
       "    </tr>\n",
       "  </thead>\n",
       "  <tbody>\n",
       "    <tr>\n",
       "      <th>Child</th>\n",
       "      <td>535.0</td>\n",
       "      <td>2.142056</td>\n",
       "      <td>1.403049</td>\n",
       "      <td>0.0</td>\n",
       "      <td>1.0</td>\n",
       "      <td>2.0</td>\n",
       "      <td>3.0</td>\n",
       "      <td>4.0</td>\n",
       "    </tr>\n",
       "    <tr>\n",
       "      <th>Employed</th>\n",
       "      <td>5283.0</td>\n",
       "      <td>43.001704</td>\n",
       "      <td>12.061208</td>\n",
       "      <td>19.0</td>\n",
       "      <td>33.0</td>\n",
       "      <td>42.0</td>\n",
       "      <td>52.0</td>\n",
       "      <td>67.0</td>\n",
       "    </tr>\n",
       "    <tr>\n",
       "      <th>Retired</th>\n",
       "      <td>890.0</td>\n",
       "      <td>76.764045</td>\n",
       "      <td>7.531893</td>\n",
       "      <td>66.0</td>\n",
       "      <td>71.0</td>\n",
       "      <td>75.0</td>\n",
       "      <td>81.0</td>\n",
       "      <td>110.0</td>\n",
       "    </tr>\n",
       "    <tr>\n",
       "      <th>Student</th>\n",
       "      <td>2457.0</td>\n",
       "      <td>13.615385</td>\n",
       "      <td>5.311147</td>\n",
       "      <td>5.0</td>\n",
       "      <td>9.0</td>\n",
       "      <td>14.0</td>\n",
       "      <td>18.0</td>\n",
       "      <td>32.0</td>\n",
       "    </tr>\n",
       "    <tr>\n",
       "      <th>Unemployed</th>\n",
       "      <td>555.0</td>\n",
       "      <td>42.893694</td>\n",
       "      <td>10.862675</td>\n",
       "      <td>19.0</td>\n",
       "      <td>34.5</td>\n",
       "      <td>43.0</td>\n",
       "      <td>51.0</td>\n",
       "      <td>65.0</td>\n",
       "    </tr>\n",
       "  </tbody>\n",
       "</table>\n",
       "</div>"
      ],
      "text/plain": [
       "                   count       mean        std   min   25%   50%   75%    max\n",
       "Occupation_Group                                                             \n",
       "Child              535.0   2.142056   1.403049   0.0   1.0   2.0   3.0    4.0\n",
       "Employed          5283.0  43.001704  12.061208  19.0  33.0  42.0  52.0   67.0\n",
       "Retired            890.0  76.764045   7.531893  66.0  71.0  75.0  81.0  110.0\n",
       "Student           2457.0  13.615385   5.311147   5.0   9.0  14.0  18.0   32.0\n",
       "Unemployed         555.0  42.893694  10.862675  19.0  34.5  43.0  51.0   65.0"
      ]
     },
     "execution_count": 149,
     "metadata": {},
     "output_type": "execute_result"
    }
   ],
   "source": [
    "# Statistics of occupation group\n",
    "\n",
    "df_copy.groupby(['Occupation_Group'])['Age'].describe()"
   ]
  },
  {
   "cell_type": "code",
   "execution_count": 150,
   "id": "9df906d8",
   "metadata": {},
   "outputs": [
    {
     "data": {
      "image/png": "[encoded data removed]",
      "text/plain": [
       "<Figure size 800x600 with 1 Axes>"
      ]
     },
     "metadata": {},
     "output_type": "display_data"
    }
   ],
   "source": [
    "# Plotting a graph of Occupation conditioned by Gender\n",
    "\n",
    "plt.figure(figsize = [8, 6])\n",
    "sns.countplot(data = df_copy, x = 'Occupation_Group',hue = 'Gender', palette = \"husl\")\n",
    "\n",
    "plt.title('Occupation conditioned by Gender')\n",
    "plt.xlabel('Occupation_Group')\n",
    "plt.ylabel('Frequency');"
   ]
  },
  {
   "cell_type": "code",
   "execution_count": 151,
   "id": "389a12c0",
   "metadata": {},
   "outputs": [
    {
     "data": {
      "image/png": "[encoded data removed]",
      "text/plain": [
       "<Figure size 800x600 with 1 Axes>"
      ]
     },
     "metadata": {},
     "output_type": "display_data"
    }
   ],
   "source": [
    "# Filtering unemployed individuals from the occupation category created\n",
    "\n",
    "Unemployed_group = ['Unemployed']\n",
    "filter_unemployed = df_copy[df_copy[\"Occupation_Group\"].isin(Unemployed_group)]\n",
    "filter_unemployed.Surname.count()\n",
    "\n",
    "#Plot a histogram of the filtered group\n",
    "plt.figure(figsize = [8, 6])\n",
    "sns.histplot(data = filter_unemployed, x='Age_bracket')\n",
    "plt.title('Unemployed by Age Bracket')\n",
    "plt.xlabel('Age_bracket')\n",
    "plt.ylabel('Frequency')\n",
    "plt.xticks(rotation=30);"
   ]
  },
  {
   "cell_type": "code",
   "execution_count": 152,
   "id": "2782cc23",
   "metadata": {},
   "outputs": [
    {
     "name": "stdout",
     "output_type": "stream",
     "text": [
      "The total labour force in the population is 5838 out of 9720 people in the town\n",
      "The labour force makes up 60.1% of the total population\n",
      "5.7% of the total population are unemployed\n",
      "54.4% of the total population are employed\n",
      "9.5% of the labour force are unemployed\n",
      "90.5% of the labour force are employed\n",
      "Individuals aged 30 to 54 accounted for 72.07% of the unemployed labour force\n"
     ]
    }
   ],
   "source": [
    "# Calculating the total number of individuals both employed and unemployed group\n",
    "\n",
    "Employed_individuals = (len(df_copy[df_copy['Occupation_Group'] == 'Employed']))\n",
    "\n",
    "Unemployed_individuals = (len(df_copy[df_copy['Occupation_Group'] == 'Unemployed']))\n",
    "\n",
    "\n",
    "# Calculating the total labour force in the town\n",
    "\n",
    "Total_labour_force = (Employed_individuals + Unemployed_individuals)\n",
    "\n",
    "print(f'The total labour force in the population is {Total_labour_force} out of {len(df_copy)} people in the town')\n",
    "\n",
    "Labour_force_percentage = (Total_labour_force/(len(df_copy))) * 100\n",
    "\n",
    "print(f'The labour force makes up {Labour_force_percentage:.1f}% of the total population')\n",
    "\n",
    "\n",
    "# Percentage of unemployed and employed by Total Population\n",
    "\n",
    "Unemployed_percentage = (Unemployed_individuals/(len(df_copy))) * 100\n",
    "\n",
    "print(f'{(Unemployed_percentage):.1f}% of the total population are unemployed')\n",
    "\n",
    "Employed_percentage = (Employed_individuals/(len(df_copy))) * 100\n",
    "\n",
    "print(f'{(Employed_percentage):.1f}% of the total population are employed')\n",
    "\n",
    "\n",
    "\n",
    "# Percentage of unemployed and employed by Total Labour force\n",
    "\n",
    "Unemployed_percentage = (Unemployed_individuals/Total_labour_force) * 100\n",
    "\n",
    "print(f'{(Unemployed_percentage):.1f}% of the labour force are unemployed')\n",
    "\n",
    "Employed_percentage = (Employed_individuals/Total_labour_force) * 100\n",
    "\n",
    "print(f'{(Employed_percentage):.1f}% of the labour force are employed')\n",
    "\n",
    "\n",
    "Highest_unemployed = len(df_copy[(df_copy['Age'] >= 30) & (df_copy['Age'] <= 54) & (df_copy['Occupation_Group'] == 'Unemployed')])\n",
    "\n",
    "Age_bracket_unemployed = (Highest_unemployed/Unemployed_individuals) * 100\n",
    "\n",
    "print(f'Individuals aged 30 to 54 accounted for {(Age_bracket_unemployed):.2f}% of the unemployed labour force')"
   ]
  },
  {
   "cell_type": "markdown",
   "id": "06a8f30c",
   "metadata": {},
   "source": [
    "### RELIGIOUS AFFILIATION"
   ]
  },
  {
   "cell_type": "code",
   "execution_count": 153,
   "id": "a58d0324",
   "metadata": {},
   "outputs": [
    {
     "data": {
      "text/html": [
       "<div>\n",
       "<style scoped>\n",
       "    .dataframe tbody tr th:only-of-type {\n",
       "        vertical-align: middle;\n",
       "    }\n",
       "\n",
       "    .dataframe tbody tr th {\n",
       "        vertical-align: top;\n",
       "    }\n",
       "\n",
       "    .dataframe thead th {\n",
       "        text-align: right;\n",
       "    }\n",
       "</style>\n",
       "<table border=\"1\" class=\"dataframe\">\n",
       "  <thead>\n",
       "    <tr style=\"text-align: right;\">\n",
       "      <th></th>\n",
       "      <th>count</th>\n",
       "      <th>mean</th>\n",
       "      <th>std</th>\n",
       "      <th>min</th>\n",
       "      <th>25%</th>\n",
       "      <th>50%</th>\n",
       "      <th>75%</th>\n",
       "      <th>max</th>\n",
       "    </tr>\n",
       "    <tr>\n",
       "      <th>Religion</th>\n",
       "      <th></th>\n",
       "      <th></th>\n",
       "      <th></th>\n",
       "      <th></th>\n",
       "      <th></th>\n",
       "      <th></th>\n",
       "      <th></th>\n",
       "      <th></th>\n",
       "    </tr>\n",
       "  </thead>\n",
       "  <tbody>\n",
       "    <tr>\n",
       "      <th>Bahai</th>\n",
       "      <td>2.0</td>\n",
       "      <td>51.000000</td>\n",
       "      <td>4.242641</td>\n",
       "      <td>48.0</td>\n",
       "      <td>49.50</td>\n",
       "      <td>51.0</td>\n",
       "      <td>52.50</td>\n",
       "      <td>54.0</td>\n",
       "    </tr>\n",
       "    <tr>\n",
       "      <th>Catholic</th>\n",
       "      <td>1428.0</td>\n",
       "      <td>33.899160</td>\n",
       "      <td>20.528639</td>\n",
       "      <td>0.0</td>\n",
       "      <td>16.00</td>\n",
       "      <td>36.0</td>\n",
       "      <td>47.00</td>\n",
       "      <td>103.0</td>\n",
       "    </tr>\n",
       "    <tr>\n",
       "      <th>Christian</th>\n",
       "      <td>2827.0</td>\n",
       "      <td>42.088433</td>\n",
       "      <td>22.690788</td>\n",
       "      <td>0.0</td>\n",
       "      <td>22.00</td>\n",
       "      <td>44.0</td>\n",
       "      <td>59.00</td>\n",
       "      <td>105.0</td>\n",
       "    </tr>\n",
       "    <tr>\n",
       "      <th>Jewish</th>\n",
       "      <td>41.0</td>\n",
       "      <td>42.414634</td>\n",
       "      <td>20.343274</td>\n",
       "      <td>2.0</td>\n",
       "      <td>30.00</td>\n",
       "      <td>37.0</td>\n",
       "      <td>54.00</td>\n",
       "      <td>85.0</td>\n",
       "    </tr>\n",
       "    <tr>\n",
       "      <th>Methodist</th>\n",
       "      <td>789.0</td>\n",
       "      <td>39.692015</td>\n",
       "      <td>22.210751</td>\n",
       "      <td>0.0</td>\n",
       "      <td>22.00</td>\n",
       "      <td>39.0</td>\n",
       "      <td>56.00</td>\n",
       "      <td>105.0</td>\n",
       "    </tr>\n",
       "    <tr>\n",
       "      <th>Muslim</th>\n",
       "      <td>162.0</td>\n",
       "      <td>29.043210</td>\n",
       "      <td>17.261003</td>\n",
       "      <td>0.0</td>\n",
       "      <td>17.00</td>\n",
       "      <td>29.0</td>\n",
       "      <td>36.00</td>\n",
       "      <td>84.0</td>\n",
       "    </tr>\n",
       "    <tr>\n",
       "      <th>None</th>\n",
       "      <td>4362.0</td>\n",
       "      <td>33.359010</td>\n",
       "      <td>20.481376</td>\n",
       "      <td>0.0</td>\n",
       "      <td>18.00</td>\n",
       "      <td>32.0</td>\n",
       "      <td>46.00</td>\n",
       "      <td>109.0</td>\n",
       "    </tr>\n",
       "    <tr>\n",
       "      <th>Pagan</th>\n",
       "      <td>6.0</td>\n",
       "      <td>26.333333</td>\n",
       "      <td>19.335632</td>\n",
       "      <td>10.0</td>\n",
       "      <td>14.25</td>\n",
       "      <td>16.0</td>\n",
       "      <td>40.25</td>\n",
       "      <td>54.0</td>\n",
       "    </tr>\n",
       "    <tr>\n",
       "      <th>Quaker</th>\n",
       "      <td>8.0</td>\n",
       "      <td>11.000000</td>\n",
       "      <td>10.447146</td>\n",
       "      <td>1.0</td>\n",
       "      <td>2.75</td>\n",
       "      <td>6.0</td>\n",
       "      <td>21.50</td>\n",
       "      <td>26.0</td>\n",
       "    </tr>\n",
       "    <tr>\n",
       "      <th>Sikh</th>\n",
       "      <td>95.0</td>\n",
       "      <td>30.421053</td>\n",
       "      <td>23.242743</td>\n",
       "      <td>0.0</td>\n",
       "      <td>14.50</td>\n",
       "      <td>26.0</td>\n",
       "      <td>34.00</td>\n",
       "      <td>110.0</td>\n",
       "    </tr>\n",
       "  </tbody>\n",
       "</table>\n",
       "</div>"
      ],
      "text/plain": [
       "            count       mean        std   min    25%   50%    75%    max\n",
       "Religion                                                                \n",
       "Bahai         2.0  51.000000   4.242641  48.0  49.50  51.0  52.50   54.0\n",
       "Catholic   1428.0  33.899160  20.528639   0.0  16.00  36.0  47.00  103.0\n",
       "Christian  2827.0  42.088433  22.690788   0.0  22.00  44.0  59.00  105.0\n",
       "Jewish       41.0  42.414634  20.343274   2.0  30.00  37.0  54.00   85.0\n",
       "Methodist   789.0  39.692015  22.210751   0.0  22.00  39.0  56.00  105.0\n",
       "Muslim      162.0  29.043210  17.261003   0.0  17.00  29.0  36.00   84.0\n",
       "None       4362.0  33.359010  20.481376   0.0  18.00  32.0  46.00  109.0\n",
       "Pagan         6.0  26.333333  19.335632  10.0  14.25  16.0  40.25   54.0\n",
       "Quaker        8.0  11.000000  10.447146   1.0   2.75   6.0  21.50   26.0\n",
       "Sikh         95.0  30.421053  23.242743   0.0  14.50  26.0  34.00  110.0"
      ]
     },
     "execution_count": 153,
     "metadata": {},
     "output_type": "execute_result"
    }
   ],
   "source": [
    "# Statistics of Religion by Age\n",
    "\n",
    "df_copy.groupby('Religion')['Age'].describe()"
   ]
  },
  {
   "cell_type": "code",
   "execution_count": 154,
   "id": "78da3a89",
   "metadata": {},
   "outputs": [
    {
     "name": "stdout",
     "output_type": "stream",
     "text": [
      "The percentage of individuals with no religion is 44.88%\n",
      "The percentage of Christian individuals is 29.08%\n",
      "The percentage of Catholic individuals is 14.69%\n",
      "The percentage of Methodist individuals is 8.12%\n",
      "The percentage of Muslim individuals is 1.67%\n",
      "The percentage of Sikh individuals is 0.98%\n",
      "The percentage of Jewish individuals is 0.42%\n",
      "The percentage of Quaker individuals is 0.08%\n",
      "The percentage of Pagan individuals is 0.06%\n",
      "The percentage of Bahai individuals is 0.02%\n"
     ]
    }
   ],
   "source": [
    "# Calculating the percentage of individual religions compared to the total population in the town\n",
    "\n",
    "# Percentage practicing no religion\n",
    "\n",
    "No_religion = (len(df_copy[df_copy['Religion'] == 'None']))\n",
    "\n",
    "No_religion_percentage = (No_religion/(len(df_copy))) * 100\n",
    "\n",
    "print(f'The percentage of individuals with no religion is {No_religion_percentage:.2f}%')\n",
    "\n",
    "\n",
    "# Percentage practicing Christianity\n",
    "\n",
    "Christian_individuals = (len(df_copy[df_copy['Religion'] == 'Christian']))\n",
    "\n",
    "Christian_percentage = (Christian_individuals/(len(df_copy))) * 100\n",
    "\n",
    "print(f'The percentage of Christian individuals is {Christian_percentage:.2f}%')\n",
    "\n",
    "\n",
    "# Percentage practicing Catholicism\n",
    "\n",
    "Catholic_individuals = (len(df_copy[df_copy['Religion'] == 'Catholic']))\n",
    "\n",
    "Catholic_percentage = (Catholic_individuals/(len(df_copy))) * 100\n",
    "\n",
    "print(f'The percentage of Catholic individuals is {Catholic_percentage:.2f}%')\n",
    "\n",
    "\n",
    "# Percentage practicing Methodicism\n",
    "\n",
    "Methodist_individuals = (len(df_copy[df_copy['Religion'] == 'Methodist']))\n",
    "\n",
    "Methodist_percentage = (Methodist_individuals/(len(df_copy))) * 100\n",
    "\n",
    "print(f'The percentage of Methodist individuals is {Methodist_percentage:.2f}%')\n",
    "\n",
    "\n",
    "# Percentage practicing Islam\n",
    "\n",
    "Muslim_individuals = (len(df_copy[df_copy['Religion'] == 'Muslim']))\n",
    "\n",
    "Muslim_percentage = (Muslim_individuals/(len(df_copy))) * 100\n",
    "\n",
    "print(f'The percentage of Muslim individuals is {Muslim_percentage:.2f}%')\n",
    "\n",
    "\n",
    "# Percentage practicing Sikh\n",
    "\n",
    "Sikh_individuals = (len(df_copy[df_copy['Religion'] == 'Sikh']))\n",
    "\n",
    "Sikh_percentage = (Sikh_individuals/(len(df_copy))) * 100\n",
    "\n",
    "print(f'The percentage of Sikh individuals is {Sikh_percentage:.2f}%')\n",
    "\n",
    "\n",
    "\n",
    "# Percentage practicing Judaism\n",
    "\n",
    "Jewish_individuals = (len(df_copy[df_copy['Religion'] == 'Jewish']))\n",
    "\n",
    "Jewish_percentage = (Jewish_individuals/(len(df_copy))) * 100\n",
    "\n",
    "print(f'The percentage of Jewish individuals is {Jewish_percentage:.2f}%')\n",
    "\n",
    "\n",
    "# Percentage practicing Quaker\n",
    "\n",
    "Quaker_individuals = (len(df_copy[df_copy['Religion'] == 'Quaker']))\n",
    "\n",
    "Quaker_percentage = (Quaker_individuals/(len(df_copy))) * 100\n",
    "\n",
    "print(f'The percentage of Quaker individuals is {Quaker_percentage:.2f}%')\n",
    "\n",
    "\n",
    "# Percentage practicing Paganiscm\n",
    "\n",
    "Pagan_individuals = (len(df_copy[df_copy['Religion'] == 'Pagan']))\n",
    "\n",
    "Pagan_percentage = (Pagan_individuals/(len(df_copy))) * 100\n",
    "\n",
    "print(f'The percentage of Pagan individuals is {Pagan_percentage:.2f}%')\n",
    "\n",
    "\n",
    "# Percentage practicing Bahai\n",
    "\n",
    "Bahai_individuals = (len(df_copy[df_copy['Religion'] == 'Bahai']))\n",
    "\n",
    "Bahai_percentage = (Bahai_individuals/(len(df_copy))) * 100\n",
    "\n",
    "print(f'The percentage of Bahai individuals is {Bahai_percentage:.2f}%')"
   ]
  },
  {
   "cell_type": "code",
   "execution_count": 155,
   "id": "1d7af417",
   "metadata": {},
   "outputs": [],
   "source": [
    "No_religion_percentage = 44.88\n",
    "Christian_percentage = 29.08\n",
    "Catholic_percentage = 14.69\n",
    "Methodist_percentage = 8.12\n",
    "Muslim_percentage = 1.67\n",
    "Sikh_percentage = 0.98\n",
    "Jewish_percentage = 0.42\n",
    "Quaker_percentage = 0.08\n",
    "Pagan_percentage = 0.06\n",
    "Bahai_percentage = 0.02"
   ]
  },
  {
   "cell_type": "code",
   "execution_count": 156,
   "id": "351c7917",
   "metadata": {},
   "outputs": [],
   "source": [
    "religions = ['None', 'Christian', 'Catholic', 'Methodist', 'Muslim', 'Sikh', 'Jewish', 'Quaker', 'Pagan', 'Bahai']\n",
    "percentages = [No_religion_percentage, Christian_percentage, Catholic_percentage, Methodist_percentage, Muslim_percentage, Sikh_percentage, Jewish_percentage, Quaker_percentage, Pagan_percentage, Bahai_percentage]"
   ]
  },
  {
   "cell_type": "code",
   "execution_count": 157,
   "id": "28b44015",
   "metadata": {},
   "outputs": [
    {
     "data": {
      "image/png": "[encoded data removed]",
      "text/plain": [
       "<Figure size 640x480 with 1 Axes>"
      ]
     },
     "metadata": {},
     "output_type": "display_data"
    }
   ],
   "source": [
    "plt.bar(religions, percentages)\n",
    "plt.title(\"Percentage of Individuals Practicing Different Religions\")\n",
    "plt.xlabel(\"Religion\")\n",
    "plt.ylabel(\"Percentage (%)\")\n",
    "plt.xticks(rotation=45, ha='right')  # Rotating x-axis labels for better readability\n",
    "plt.tight_layout()  # Adjusting layout for clear visualization\n",
    "plt.show()"
   ]
  },
  {
   "cell_type": "code",
   "execution_count": 158,
   "id": "35040aa2",
   "metadata": {},
   "outputs": [
    {
     "data": {
      "image/png": "[encoded data removed]",
      "text/plain": [
       "<Figure size 800x600 with 1 Axes>"
      ]
     },
     "metadata": {},
     "output_type": "display_data"
    }
   ],
   "source": [
    "# Plotting religion conditioned by age\n",
    "\n",
    "plt.figure(figsize = [8, 6])\n",
    "sns.boxplot(data = df_copy, x = 'Religion', y = 'Age')\n",
    "plt.title('Religion against Age')\n",
    "plt.xticks(rotation=30);"
   ]
  },
  {
   "cell_type": "code",
   "execution_count": 159,
   "id": "a2b5bfb2",
   "metadata": {},
   "outputs": [
    {
     "data": {
      "text/html": [
       "<div>\n",
       "<style scoped>\n",
       "    .dataframe tbody tr th:only-of-type {\n",
       "        vertical-align: middle;\n",
       "    }\n",
       "\n",
       "    .dataframe tbody tr th {\n",
       "        vertical-align: top;\n",
       "    }\n",
       "\n",
       "    .dataframe thead th {\n",
       "        text-align: right;\n",
       "    }\n",
       "</style>\n",
       "<table border=\"1\" class=\"dataframe\">\n",
       "  <thead>\n",
       "    <tr style=\"text-align: right;\">\n",
       "      <th>Religion</th>\n",
       "      <th>Bahai</th>\n",
       "      <th>Catholic</th>\n",
       "      <th>Christian</th>\n",
       "      <th>Jewish</th>\n",
       "      <th>Methodist</th>\n",
       "      <th>Muslim</th>\n",
       "      <th>None</th>\n",
       "      <th>Pagan</th>\n",
       "      <th>Quaker</th>\n",
       "      <th>Sikh</th>\n",
       "    </tr>\n",
       "    <tr>\n",
       "      <th>Occupation_Group</th>\n",
       "      <th></th>\n",
       "      <th></th>\n",
       "      <th></th>\n",
       "      <th></th>\n",
       "      <th></th>\n",
       "      <th></th>\n",
       "      <th></th>\n",
       "      <th></th>\n",
       "      <th></th>\n",
       "      <th></th>\n",
       "    </tr>\n",
       "  </thead>\n",
       "  <tbody>\n",
       "    <tr>\n",
       "      <th>Child</th>\n",
       "      <td>0</td>\n",
       "      <td>93</td>\n",
       "      <td>109</td>\n",
       "      <td>1</td>\n",
       "      <td>38</td>\n",
       "      <td>12</td>\n",
       "      <td>273</td>\n",
       "      <td>0</td>\n",
       "      <td>3</td>\n",
       "      <td>6</td>\n",
       "    </tr>\n",
       "    <tr>\n",
       "      <th>Employed</th>\n",
       "      <td>2</td>\n",
       "      <td>775</td>\n",
       "      <td>1552</td>\n",
       "      <td>25</td>\n",
       "      <td>436</td>\n",
       "      <td>96</td>\n",
       "      <td>2351</td>\n",
       "      <td>1</td>\n",
       "      <td>2</td>\n",
       "      <td>43</td>\n",
       "    </tr>\n",
       "    <tr>\n",
       "      <th>Retired</th>\n",
       "      <td>0</td>\n",
       "      <td>94</td>\n",
       "      <td>397</td>\n",
       "      <td>5</td>\n",
       "      <td>93</td>\n",
       "      <td>5</td>\n",
       "      <td>288</td>\n",
       "      <td>0</td>\n",
       "      <td>0</td>\n",
       "      <td>8</td>\n",
       "    </tr>\n",
       "    <tr>\n",
       "      <th>Student</th>\n",
       "      <td>0</td>\n",
       "      <td>381</td>\n",
       "      <td>609</td>\n",
       "      <td>4</td>\n",
       "      <td>167</td>\n",
       "      <td>41</td>\n",
       "      <td>1216</td>\n",
       "      <td>4</td>\n",
       "      <td>3</td>\n",
       "      <td>32</td>\n",
       "    </tr>\n",
       "    <tr>\n",
       "      <th>Unemployed</th>\n",
       "      <td>0</td>\n",
       "      <td>85</td>\n",
       "      <td>160</td>\n",
       "      <td>6</td>\n",
       "      <td>55</td>\n",
       "      <td>8</td>\n",
       "      <td>234</td>\n",
       "      <td>1</td>\n",
       "      <td>0</td>\n",
       "      <td>6</td>\n",
       "    </tr>\n",
       "  </tbody>\n",
       "</table>\n",
       "</div>"
      ],
      "text/plain": [
       "Religion          Bahai  Catholic  Christian  Jewish  Methodist  Muslim  None  \\\n",
       "Occupation_Group                                                                \n",
       "Child                 0        93        109       1         38      12   273   \n",
       "Employed              2       775       1552      25        436      96  2351   \n",
       "Retired               0        94        397       5         93       5   288   \n",
       "Student               0       381        609       4        167      41  1216   \n",
       "Unemployed            0        85        160       6         55       8   234   \n",
       "\n",
       "Religion          Pagan  Quaker  Sikh  \n",
       "Occupation_Group                       \n",
       "Child                 0       3     6  \n",
       "Employed              1       2    43  \n",
       "Retired               0       0     8  \n",
       "Student               4       3    32  \n",
       "Unemployed            1       0     6  "
      ]
     },
     "execution_count": 159,
     "metadata": {},
     "output_type": "execute_result"
    }
   ],
   "source": [
    "# Creating a new dataframe for religion by occupation\n",
    "\n",
    "Religion = pd.DataFrame(df_copy)\n",
    "\n",
    "new_df = Religion.loc[:, ['Religion', 'Occupation_Group']]\n",
    "\n",
    "R_o_data = new_df.pivot_table(index=['Occupation_Group'], columns = 'Religion', aggfunc=len, fill_value=0)\n",
    "\n",
    "# Printing new dataframe\n",
    "\n",
    "R_o_data"
   ]
  },
  {
   "cell_type": "code",
   "execution_count": 160,
   "id": "58192e88",
   "metadata": {},
   "outputs": [
    {
     "data": {
      "text/html": [
       "<div>\n",
       "<style scoped>\n",
       "    .dataframe tbody tr th:only-of-type {\n",
       "        vertical-align: middle;\n",
       "    }\n",
       "\n",
       "    .dataframe tbody tr th {\n",
       "        vertical-align: top;\n",
       "    }\n",
       "\n",
       "    .dataframe thead th {\n",
       "        text-align: right;\n",
       "    }\n",
       "</style>\n",
       "<table border=\"1\" class=\"dataframe\">\n",
       "  <thead>\n",
       "    <tr style=\"text-align: right;\">\n",
       "      <th>Religion</th>\n",
       "      <th>Bahai</th>\n",
       "      <th>Catholic</th>\n",
       "      <th>Christian</th>\n",
       "      <th>Jewish</th>\n",
       "      <th>Methodist</th>\n",
       "      <th>Muslim</th>\n",
       "      <th>None</th>\n",
       "      <th>Pagan</th>\n",
       "      <th>Quaker</th>\n",
       "      <th>Sikh</th>\n",
       "    </tr>\n",
       "    <tr>\n",
       "      <th>Gender</th>\n",
       "      <th></th>\n",
       "      <th></th>\n",
       "      <th></th>\n",
       "      <th></th>\n",
       "      <th></th>\n",
       "      <th></th>\n",
       "      <th></th>\n",
       "      <th></th>\n",
       "      <th></th>\n",
       "      <th></th>\n",
       "    </tr>\n",
       "  </thead>\n",
       "  <tbody>\n",
       "    <tr>\n",
       "      <th>Female</th>\n",
       "      <td>1</td>\n",
       "      <td>760</td>\n",
       "      <td>1545</td>\n",
       "      <td>20</td>\n",
       "      <td>420</td>\n",
       "      <td>83</td>\n",
       "      <td>2161</td>\n",
       "      <td>5</td>\n",
       "      <td>4</td>\n",
       "      <td>54</td>\n",
       "    </tr>\n",
       "    <tr>\n",
       "      <th>Male</th>\n",
       "      <td>1</td>\n",
       "      <td>668</td>\n",
       "      <td>1282</td>\n",
       "      <td>21</td>\n",
       "      <td>369</td>\n",
       "      <td>79</td>\n",
       "      <td>2201</td>\n",
       "      <td>1</td>\n",
       "      <td>4</td>\n",
       "      <td>41</td>\n",
       "    </tr>\n",
       "  </tbody>\n",
       "</table>\n",
       "</div>"
      ],
      "text/plain": [
       "Religion  Bahai  Catholic  Christian  Jewish  Methodist  Muslim  None  Pagan  \\\n",
       "Gender                                                                         \n",
       "Female        1       760       1545      20        420      83  2161      5   \n",
       "Male          1       668       1282      21        369      79  2201      1   \n",
       "\n",
       "Religion  Quaker  Sikh  \n",
       "Gender                  \n",
       "Female         4    54  \n",
       "Male           4    41  "
      ]
     },
     "execution_count": 160,
     "metadata": {},
     "output_type": "execute_result"
    }
   ],
   "source": [
    "# Creating a new dataframe for religion by gender\n",
    "\n",
    "Religion = pd.DataFrame(df_copy)\n",
    "\n",
    "new_df2 = Religion.loc[:, ['Religion', 'Gender']]\n",
    "\n",
    "R_g_data = new_df2.pivot_table(index=['Gender'], columns = 'Religion', aggfunc=len, fill_value=0)\n",
    "\n",
    "# Printing new dataframe\n",
    "\n",
    "R_g_data"
   ]
  },
  {
   "cell_type": "markdown",
   "id": "15df2eaa",
   "metadata": {},
   "source": [
    "### OCCUPANCY LEVEL"
   ]
  },
  {
   "cell_type": "code",
   "execution_count": 161,
   "id": "19f83715",
   "metadata": {},
   "outputs": [],
   "source": [
    "# Grouping individuals acccording to their residences\n",
    "\n",
    "def residence(df_copy, number, street):\n",
    "    new = df_copy.groupby([number,street]).size().reset_index(name = 'count')\n",
    "    new['Residence'] = new['count'].astype(int)\n",
    "    new.loc[new['count'] == 1, 'Residence'] = 1\n",
    "    address_ = new.set_index([number, street])['Residence'].to_dict()\n",
    "    return df_copy.apply(lambda x: address_.get((x[number],x[street])),axis=1)\n",
    "\n",
    "df_copy['Residence'] = residence(df_copy, 'House Number', 'Street')"
   ]
  },
  {
   "cell_type": "code",
   "execution_count": 162,
   "id": "4930a45e",
   "metadata": {},
   "outputs": [
    {
     "data": {
      "text/html": [
       "<div>\n",
       "<style scoped>\n",
       "    .dataframe tbody tr th:only-of-type {\n",
       "        vertical-align: middle;\n",
       "    }\n",
       "\n",
       "    .dataframe tbody tr th {\n",
       "        vertical-align: top;\n",
       "    }\n",
       "\n",
       "    .dataframe thead th {\n",
       "        text-align: right;\n",
       "    }\n",
       "</style>\n",
       "<table border=\"1\" class=\"dataframe\">\n",
       "  <thead>\n",
       "    <tr style=\"text-align: right;\">\n",
       "      <th>Residence</th>\n",
       "      <th>1</th>\n",
       "      <th>2</th>\n",
       "      <th>3</th>\n",
       "      <th>4</th>\n",
       "      <th>5</th>\n",
       "      <th>6</th>\n",
       "      <th>7</th>\n",
       "      <th>8</th>\n",
       "      <th>9</th>\n",
       "      <th>10</th>\n",
       "      <th>11</th>\n",
       "      <th>12</th>\n",
       "      <th>13</th>\n",
       "      <th>15</th>\n",
       "      <th>16</th>\n",
       "      <th>18</th>\n",
       "      <th>19</th>\n",
       "      <th>21</th>\n",
       "    </tr>\n",
       "  </thead>\n",
       "  <tbody>\n",
       "    <tr>\n",
       "      <th>count</th>\n",
       "      <td>830</td>\n",
       "      <td>1890</td>\n",
       "      <td>1863</td>\n",
       "      <td>2116</td>\n",
       "      <td>1925</td>\n",
       "      <td>420</td>\n",
       "      <td>126</td>\n",
       "      <td>56</td>\n",
       "      <td>27</td>\n",
       "      <td>130</td>\n",
       "      <td>66</td>\n",
       "      <td>120</td>\n",
       "      <td>26</td>\n",
       "      <td>30</td>\n",
       "      <td>16</td>\n",
       "      <td>18</td>\n",
       "      <td>19</td>\n",
       "      <td>42</td>\n",
       "    </tr>\n",
       "    <tr>\n",
       "      <th>unique</th>\n",
       "      <td>1</td>\n",
       "      <td>18</td>\n",
       "      <td>19</td>\n",
       "      <td>20</td>\n",
       "      <td>21</td>\n",
       "      <td>15</td>\n",
       "      <td>9</td>\n",
       "      <td>8</td>\n",
       "      <td>4</td>\n",
       "      <td>8</td>\n",
       "      <td>12</td>\n",
       "      <td>10</td>\n",
       "      <td>6</td>\n",
       "      <td>7</td>\n",
       "      <td>4</td>\n",
       "      <td>6</td>\n",
       "      <td>4</td>\n",
       "      <td>7</td>\n",
       "    </tr>\n",
       "    <tr>\n",
       "      <th>top</th>\n",
       "      <td>Head</td>\n",
       "      <td>Head</td>\n",
       "      <td>Head</td>\n",
       "      <td>Head</td>\n",
       "      <td>Son</td>\n",
       "      <td>Son</td>\n",
       "      <td>Daughter</td>\n",
       "      <td>Son</td>\n",
       "      <td>Son</td>\n",
       "      <td>Son</td>\n",
       "      <td>None</td>\n",
       "      <td>Lodger</td>\n",
       "      <td>Son</td>\n",
       "      <td>Lodger</td>\n",
       "      <td>Lodger</td>\n",
       "      <td>Lodger</td>\n",
       "      <td>Son</td>\n",
       "      <td>Lodger</td>\n",
       "    </tr>\n",
       "    <tr>\n",
       "      <th>freq</th>\n",
       "      <td>830</td>\n",
       "      <td>944</td>\n",
       "      <td>621</td>\n",
       "      <td>529</td>\n",
       "      <td>442</td>\n",
       "      <td>113</td>\n",
       "      <td>31</td>\n",
       "      <td>19</td>\n",
       "      <td>11</td>\n",
       "      <td>48</td>\n",
       "      <td>20</td>\n",
       "      <td>35</td>\n",
       "      <td>11</td>\n",
       "      <td>17</td>\n",
       "      <td>6</td>\n",
       "      <td>11</td>\n",
       "      <td>9</td>\n",
       "      <td>30</td>\n",
       "    </tr>\n",
       "  </tbody>\n",
       "</table>\n",
       "</div>"
      ],
      "text/plain": [
       "Residence    1     2     3     4     5    6         7    8    9    10    11  \\\n",
       "count       830  1890  1863  2116  1925  420       126   56   27  130    66   \n",
       "unique        1    18    19    20    21   15         9    8    4    8    12   \n",
       "top        Head  Head  Head  Head   Son  Son  Daughter  Son  Son  Son  None   \n",
       "freq        830   944   621   529   442  113        31   19   11   48    20   \n",
       "\n",
       "Residence      12   13      15      16      18   19      21  \n",
       "count         120   26      30      16      18   19      42  \n",
       "unique         10    6       7       4       6    4       7  \n",
       "top        Lodger  Son  Lodger  Lodger  Lodger  Son  Lodger  \n",
       "freq           35   11      17       6      11    9      30  "
      ]
     },
     "execution_count": 162,
     "metadata": {},
     "output_type": "execute_result"
    }
   ],
   "source": [
    "# Residence Statistics\n",
    "\n",
    "df_copy.groupby('Residence')['Relationship to Head of House'].describe().T"
   ]
  },
  {
   "cell_type": "code",
   "execution_count": 163,
   "id": "cf041829",
   "metadata": {},
   "outputs": [
    {
     "data": {
      "image/png": "[encoded data removed]",
      "text/plain": [
       "<Figure size 800x600 with 1 Axes>"
      ]
     },
     "metadata": {},
     "output_type": "display_data"
    }
   ],
   "source": [
    "# Filtering top 10 relationship to head of house\n",
    "\n",
    "filtered_residence = df_copy[df_copy['Residence'].between(0,21)]\n",
    "filtered_count = filtered_residence['Relationship to Head of House'].value_counts()[0:7]\n",
    "\n",
    "# Plotting a boxplot of Relationship to Head of House against Residence\n",
    "\n",
    "plt.figure(figsize = [8, 6]) \n",
    "sns.boxplot(data = filtered_residence, x ='Relationship to Head of House',  y ='Residence', order = filtered_count.index) \n",
    "plt.title('Relationship to Head of House against Residence') \n",
    "plt.ylabel('Residence') \n",
    "plt.xticks(rotation=30);"
   ]
  },
  {
   "cell_type": "code",
   "execution_count": 164,
   "id": "a4ef46cb",
   "metadata": {},
   "outputs": [
    {
     "data": {
      "text/html": [
       "<div>\n",
       "<style scoped>\n",
       "    .dataframe tbody tr th:only-of-type {\n",
       "        vertical-align: middle;\n",
       "    }\n",
       "\n",
       "    .dataframe tbody tr th {\n",
       "        vertical-align: top;\n",
       "    }\n",
       "\n",
       "    .dataframe thead th {\n",
       "        text-align: right;\n",
       "    }\n",
       "</style>\n",
       "<table border=\"1\" class=\"dataframe\">\n",
       "  <thead>\n",
       "    <tr style=\"text-align: right;\">\n",
       "      <th>Residence</th>\n",
       "      <th>1</th>\n",
       "      <th>2</th>\n",
       "      <th>3</th>\n",
       "      <th>4</th>\n",
       "      <th>5</th>\n",
       "      <th>6</th>\n",
       "      <th>7</th>\n",
       "      <th>8</th>\n",
       "      <th>9</th>\n",
       "      <th>10</th>\n",
       "      <th>11</th>\n",
       "      <th>12</th>\n",
       "      <th>13</th>\n",
       "      <th>15</th>\n",
       "      <th>16</th>\n",
       "      <th>18</th>\n",
       "      <th>19</th>\n",
       "      <th>21</th>\n",
       "    </tr>\n",
       "  </thead>\n",
       "  <tbody>\n",
       "    <tr>\n",
       "      <th>Number_of_individuals</th>\n",
       "      <td>830</td>\n",
       "      <td>1890</td>\n",
       "      <td>1863</td>\n",
       "      <td>2116</td>\n",
       "      <td>1925</td>\n",
       "      <td>420</td>\n",
       "      <td>126</td>\n",
       "      <td>56</td>\n",
       "      <td>27</td>\n",
       "      <td>130</td>\n",
       "      <td>66</td>\n",
       "      <td>120</td>\n",
       "      <td>26</td>\n",
       "      <td>30</td>\n",
       "      <td>16</td>\n",
       "      <td>18</td>\n",
       "      <td>19</td>\n",
       "      <td>42</td>\n",
       "    </tr>\n",
       "    <tr>\n",
       "      <th>Number_of_Houses</th>\n",
       "      <td>830</td>\n",
       "      <td>945</td>\n",
       "      <td>621</td>\n",
       "      <td>529</td>\n",
       "      <td>385</td>\n",
       "      <td>70</td>\n",
       "      <td>18</td>\n",
       "      <td>7</td>\n",
       "      <td>3</td>\n",
       "      <td>13</td>\n",
       "      <td>6</td>\n",
       "      <td>10</td>\n",
       "      <td>2</td>\n",
       "      <td>2</td>\n",
       "      <td>1</td>\n",
       "      <td>1</td>\n",
       "      <td>1</td>\n",
       "      <td>2</td>\n",
       "    </tr>\n",
       "  </tbody>\n",
       "</table>\n",
       "</div>"
      ],
      "text/plain": [
       "Residence               1     2     3     4     5    6    7   8   9    10  11  \\\n",
       "Number_of_individuals  830  1890  1863  2116  1925  420  126  56  27  130  66   \n",
       "Number_of_Houses       830   945   621   529   385   70   18   7   3   13   6   \n",
       "\n",
       "Residence               12  13  15  16  18  19  21  \n",
       "Number_of_individuals  120  26  30  16  18  19  42  \n",
       "Number_of_Houses        10   2   2   1   1   1   2  "
      ]
     },
     "execution_count": 164,
     "metadata": {},
     "output_type": "execute_result"
    }
   ],
   "source": [
    "# Residence count\n",
    "\n",
    "number_occupants = df_copy.groupby(['Residence'])['House Number'].count()\n",
    "\n",
    "House = number_occupants.values/number_occupants.index\n",
    "\n",
    "# Converting to integer\n",
    "House = House.astype(int)\n",
    "\n",
    "# Creating Occupancy dataframe\n",
    "\n",
    "Occupancy = pd.DataFrame({'Number_of_individuals':number_occupants.values, 'Number_of_Houses':House},index = number_occupants.index)\n",
    "\n",
    "Occupancy.T"
   ]
  },
  {
   "cell_type": "code",
   "execution_count": 165,
   "id": "d2e15b5c",
   "metadata": {},
   "outputs": [
    {
     "name": "stdout",
     "output_type": "stream",
     "text": [
      "There are 1050 overused houses in the city\n",
      "30.47% of the total houses in the town are overused\n",
      "There are 1867 underused houses in the city\n",
      "54.18% of the total houses in the town are underused\n"
     ]
    }
   ],
   "source": [
    "# Calculating overused houses (assuming 4 as ideal number)\n",
    "\n",
    "Over_used = Occupancy[Occupancy['Number_of_Houses'] < 621]['Number_of_Houses'].sum()\n",
    "\n",
    "print(f'There are {Over_used} overused houses in the city')\n",
    "\n",
    "Total_houses = 3446 #Addition of the Number_of_Houses\n",
    "\n",
    "Ideal_occupancy = 529\n",
    "\n",
    "percentage_overused = (Over_used/Total_houses) * 100\n",
    "\n",
    "print(f'{percentage_overused:.2f}% of the total houses in the town are overused')\n",
    "\n",
    "Under_used = Total_houses - (Ideal_occupancy + Over_used)\n",
    "\n",
    "print(f'There are {Under_used} underused houses in the city')\n",
    "\n",
    "percentage_underused = (Under_used/Total_houses) * 100\n",
    "\n",
    "print(f'{percentage_underused:.2f}% of the total houses in the town are underused')"
   ]
  },
  {
   "cell_type": "code",
   "execution_count": 166,
   "id": "8a016814",
   "metadata": {},
   "outputs": [
    {
     "name": "stdout",
     "output_type": "stream",
     "text": [
      "Singles occupied 38.99% of overused houses\n",
      "Divorcees occupied 9.04% of overused houses\n",
      "Divorced women occupied 61.17% of overused houses\n",
      "Divorced men occupied 38.83% of overused houses\n"
     ]
    }
   ],
   "source": [
    "# Estimating singles and divorcees in overused houses\n",
    "\n",
    "Overused_count = len(df_copy[df_copy['Residence'] > 4])\n",
    "\n",
    "# Singles\n",
    "\n",
    "Singles_in_overused_houses = len(df_copy[(df_copy['Marital Status'] == 'Single') & (df_copy['Residence'] > 4)])\n",
    "\n",
    "Percentage_singles = (Singles_in_overused_houses/Overused_count)*100\n",
    "\n",
    "print(f'Singles occupied {Percentage_singles:.2f}% of overused houses')\n",
    "\n",
    "# Divorcees\n",
    "\n",
    "Divorcees_in_overused_houses = len(df_copy[(df_copy['Marital Status'] == 'Divorced') & (df_copy['Residence'] > 4)])\n",
    "\n",
    "Percentage_divorcee = (Divorcees_in_overused_houses/Overused_count)*100\n",
    "\n",
    "print(f'Divorcees occupied {Percentage_divorcee:.2f}% of overused houses')\n",
    "\n",
    "# Female and male divorcees\n",
    "\n",
    "Female_divorcees = len(df_copy[(df_copy['Marital Status'] == 'Divorced') & (df_copy['Residence'] > 4) & (df_copy['Gender'] == 'Female')])\n",
    "\n",
    "Percentage_women = (Female_divorcees/Divorcees_in_overused_houses)*100\n",
    "\n",
    "print(f'Divorced women occupied {Percentage_women:.2f}% of overused houses')\n",
    "\n",
    "Male_divorcees = len(df_copy[(df_copy['Marital Status'] == 'Divorced') & (df_copy['Residence'] > 4) & (df_copy['Gender'] == 'Male')])\n",
    "\n",
    "Percentage_men = (Male_divorcees/Divorcees_in_overused_houses)*100\n",
    "\n",
    "print(f'Divorced men occupied {Percentage_men:.2f}% of overused houses')\n"
   ]
  },
  {
   "cell_type": "markdown",
   "id": "a0a63d38",
   "metadata": {},
   "source": [
    "### UNIVERSITY STUDENTS AND OTHER COMMUTERS"
   ]
  },
  {
   "cell_type": "code",
   "execution_count": 167,
   "id": "d5abe2e2",
   "metadata": {},
   "outputs": [
    {
     "name": "stdout",
     "output_type": "stream",
     "text": [
      "The total number of commuters are 5872 individuals.\n",
      "6.06% of the town are commuting students.\n",
      "54.35% of the town are employed commuters.\n",
      "The total percentage of commuters in the town is 60.41%\n"
     ]
    }
   ],
   "source": [
    "# Filtering University students including PhD students\n",
    "\n",
    "Commuting_students = ['PhD Student', 'University Student']\n",
    "\n",
    "# Filtering total university students \n",
    "\n",
    "University_students = df_copy[df_copy['Occupation'].isin(Commuting_students)].Occupation.count()\n",
    "\n",
    "# Filtering employed people\n",
    "\n",
    "Employed_individuals = ['Employed']\n",
    "\n",
    "# Extracting total employed individuals\n",
    "\n",
    "All_employed = df_copy[df_copy['Occupation_Group'].isin(Employed_individuals)].Occupation.count()\n",
    "\n",
    "\n",
    "# Removing occupations that probably do not commute on a daily basis\n",
    "\n",
    "Non_commuters = ['Dancer', 'Artist', 'Writer', 'Musician', 'Actor']\n",
    "\n",
    "nc_list = []\n",
    "for no, row in df_copy.iterrows():\n",
    "    occupation = row['Occupation'].lower()\n",
    "    if any(i in occupation for i in Non_commuters):\n",
    "        nc_list.append(row)       \n",
    "len(nc_list)\n",
    "\n",
    "# Getting total employed commuters\n",
    "\n",
    "Employed_commuters = (All_employed - len(nc_list))\n",
    "\n",
    "# Total number of all commuters\n",
    "\n",
    "Total_commuters = (University_students + Employed_commuters)\n",
    "\n",
    "print(f'The total number of commuters are {Total_commuters} individuals.')\n",
    "\n",
    "\n",
    "# Percentage of commuting students\n",
    "\n",
    "Percentage_of_commuting_students = (University_students/len(df_copy))*100   \n",
    "\n",
    "print(f'{Percentage_of_commuting_students:.2f}% of the town are commuting students.')\n",
    "\n",
    "# Percentage of employed commuters \n",
    "\n",
    "Percentage_of_employed_commuters = (Employed_commuters/len(df_copy))*100   \n",
    "\n",
    "print(f'{Percentage_of_employed_commuters:.2f}% of the town are employed commuters.')\n",
    "\n",
    "# Total Percentage of commuters\n",
    "\n",
    "Percentage_of_commuters = (Total_commuters/len(df_copy))*100   \n",
    "\n",
    "print(f'The total percentage of commuters in the town is {Percentage_of_commuters:.2f}%')"
   ]
  },
  {
   "cell_type": "markdown",
   "id": "dc7d1a74-28c4-4bbf-b8aa-78f8cb4cb9eb",
   "metadata": {},
   "source": [
    "  "
   ]
  },
  {
   "cell_type": "markdown",
   "id": "bf7d1aea-a190-4d7f-b151-8f7716593db5",
   "metadata": {},
   "source": [
    "### MIGRATION"
   ]
  },
  {
   "cell_type": "markdown",
   "id": "09aed84e-fc21-4c6d-9bc9-5412e17dd5fd",
   "metadata": {},
   "source": [
    "#### IMMIGRATION"
   ]
  },
  {
   "cell_type": "code",
   "execution_count": 168,
   "id": "cf58b644-d6e5-4997-ae47-ed9965a5a952",
   "metadata": {},
   "outputs": [
    {
     "name": "stdout",
     "output_type": "stream",
     "text": [
      "There are 18 immigrant visitors in the town\n"
     ]
    }
   ],
   "source": [
    "# Assuming single lodgers as migrants\n",
    "\n",
    "Immigrant_Visitor = df_copy[(df_copy['Relationship to Head of House'] == 'Visitor') & (df_copy['Marital Status'] == 'Single')]\n",
    "\n",
    "print(f'There are {Immigrant_Visitor.Gender.count()} immigrant visitors in the town')"
   ]
  },
  {
   "cell_type": "code",
   "execution_count": 169,
   "id": "7599fd3e-a1b3-4da1-848c-ea30c33f9fc9",
   "metadata": {},
   "outputs": [
    {
     "name": "stdout",
     "output_type": "stream",
     "text": [
      "There are 274 immigrant lodgers in the town\n"
     ]
    }
   ],
   "source": [
    "# Assuming single visitors as migrants  \n",
    "\n",
    "Immigrant_Lodger = df_copy[(df_copy['Relationship to Head of House'] == 'Lodger') & (df_copy['Marital Status'] == 'Single')]\n",
    "\n",
    "print(f'There are {Immigrant_Lodger.Gender.count()} immigrant lodgers in the town')"
   ]
  },
  {
   "cell_type": "code",
   "execution_count": 170,
   "id": "ba06ff13-719b-42d2-a9e9-17591a95b341",
   "metadata": {},
   "outputs": [
    {
     "name": "stdout",
     "output_type": "stream",
     "text": [
      "There are 292 total immigrants in the town\n"
     ]
    }
   ],
   "source": [
    "# Calculating total immigrants\n",
    "\n",
    "Total_immigrants = Immigrant_Visitor.Gender.count() + Immigrant_Lodger.Gender.count()\n",
    "\n",
    "print(f'There are {Total_immigrants} total immigrants in the town')"
   ]
  },
  {
   "cell_type": "code",
   "execution_count": 171,
   "id": "eb7321e8-a68b-4e92-9831-4f68ea2eb2f3",
   "metadata": {},
   "outputs": [
    {
     "name": "stdout",
     "output_type": "stream",
     "text": [
      "The crude immigration rate is 30.0\n"
     ]
    }
   ],
   "source": [
    "# Calculating the crude immigration rate \n",
    "\n",
    "Total_population = len(df_copy)\n",
    "\n",
    "Crude_immigration_rate = (Total_immigrants/Total_population) * 1000\n",
    "\n",
    "print(f'The crude immigration rate is {Crude_immigration_rate:.1f}')"
   ]
  },
  {
   "cell_type": "markdown",
   "id": "a244c81e-f9cf-4974-9f27-8b7ae9d2119d",
   "metadata": {},
   "source": [
    "#### EMMIGRATION"
   ]
  },
  {
   "cell_type": "code",
   "execution_count": 172,
   "id": "f91bc394-cc67-45ee-9d06-a797fa5c2848",
   "metadata": {},
   "outputs": [
    {
     "name": "stdout",
     "output_type": "stream",
     "text": [
      "There are 541 female divorcees in the town\n"
     ]
    }
   ],
   "source": [
    "# Calculating emmigrated individuals using the difference in male and female divorcees as it can be assumed that their former partners emmigrated  \n",
    "\n",
    "Female_divorcees = df_copy[(df_copy['Gender'] == 'Female') & (df_copy['Marital Status'] == 'Divorced')]\n",
    "\n",
    "print(f'There are {Female_divorcees.Gender.count()} female divorcees in the town')\n"
   ]
  },
  {
   "cell_type": "code",
   "execution_count": 173,
   "id": "ade62e14-9110-48a1-8e8f-05ce9bf83b6f",
   "metadata": {},
   "outputs": [
    {
     "name": "stdout",
     "output_type": "stream",
     "text": [
      "There are 335 male divorcees in the town\n"
     ]
    }
   ],
   "source": [
    "# Calculating the number of male divorcees\n",
    "\n",
    "Male_divorcees = df_copy[(df_copy['Gender'] == 'Male') & (df_copy['Marital Status'] == 'Divorced')]\n",
    "\n",
    "print(f'There are {Male_divorcees.Gender.count()} male divorcees in the town')"
   ]
  },
  {
   "cell_type": "code",
   "execution_count": 174,
   "id": "e61ca8d6-ac31-46b9-af14-c7b2799a7757",
   "metadata": {},
   "outputs": [
    {
     "data": {
      "text/plain": [
       "206"
      ]
     },
     "execution_count": 174,
     "metadata": {},
     "output_type": "execute_result"
    }
   ],
   "source": [
    "# Calculating the difference in male and female divorcees\n",
    "\n",
    "Difference = Female_divorcees.Gender.count() - Male_divorcees.Gender.count()\n",
    "\n",
    "Difference"
   ]
  },
  {
   "cell_type": "code",
   "execution_count": 175,
   "id": "e9cfb59b-7a67-450e-bc63-057f57dbbe3d",
   "metadata": {},
   "outputs": [
    {
     "name": "stdout",
     "output_type": "stream",
     "text": [
      "The crude emmigration rate is 21.2\n"
     ]
    }
   ],
   "source": [
    "# Calculating the crude immigration rate \n",
    "\n",
    "Crude_emmigration_rate = (Difference/Total_population) * 1000\n",
    "\n",
    "print(f'The crude emmigration rate is {Crude_emmigration_rate:.1f}')"
   ]
  },
  {
   "cell_type": "markdown",
   "id": "e9b9cd47-e861-4e20-9a8d-5413a751696b",
   "metadata": {},
   "source": [
    "  "
   ]
  },
  {
   "cell_type": "markdown",
   "id": "ab948b6b",
   "metadata": {},
   "source": [
    "### BIRTH AND DEATH RATE"
   ]
  },
  {
   "cell_type": "markdown",
   "id": "20af40e1",
   "metadata": {},
   "source": [
    "#### BIRTH RATE"
   ]
  },
  {
   "cell_type": "code",
   "execution_count": 176,
   "id": "7f777b9f",
   "metadata": {},
   "outputs": [
    {
     "name": "stdout",
     "output_type": "stream",
     "text": [
      "Crude birth rate over the past 5 years is 11.01 yearly for every 1000 people in the total population\n"
     ]
    }
   ],
   "source": [
    "# Filtering births in the last 5 years\n",
    "\n",
    "Age_range = [0, 1, 2, 3, 4]\n",
    "\n",
    "Grouped_age = df_copy[df_copy['Age'].isin(Age_range)]\n",
    "\n",
    "Number_of_ages = len(Age_range)\n",
    "\n",
    "# Calculating total births in 5 years\n",
    "\n",
    "Total_births = Grouped_age.Age.count()\n",
    "\n",
    "# Mean births in 5 years\n",
    "\n",
    "Mean_of_births = Total_births/Number_of_ages\n",
    "\n",
    "#Crude Birth Rate per 1000 of the overall population\n",
    "\n",
    "Total_population = len(df_copy)\n",
    "\n",
    "Crude_Birth_Rate = (Mean_of_births/Total_population * 1000)\n",
    "\n",
    "print(f'Crude birth rate over the past 5 years is {Crude_Birth_Rate:.2f} yearly for every 1000 people in the total population')"
   ]
  },
  {
   "cell_type": "markdown",
   "id": "9dd34315",
   "metadata": {},
   "source": [
    "#### DEATH RATE"
   ]
  },
  {
   "cell_type": "code",
   "execution_count": 177,
   "id": "fcd3afef",
   "metadata": {},
   "outputs": [
    {
     "data": {
      "image/png": "[encoded data removed]",
      "text/plain": [
       "<Figure size 800x600 with 1 Axes>"
      ]
     },
     "metadata": {},
     "output_type": "display_data"
    }
   ],
   "source": [
    "# Assuming life expectancy at 81 according to national statistics\n",
    "\n",
    "death_age_range = df_copy[df_copy['Age'].between(81,110)]\n",
    "\n",
    "# Plotting a histogram of the selected age range\n",
    "\n",
    "plt.figure(figsize = [8, 6])\n",
    "sns.histplot(data = death_age_range, x = 'Age_bracket')\n",
    "\n",
    "plt.title('Population of people 81 and above')\n",
    "plt.ylabel('Frequency')\n",
    "\n",
    "plt.xticks(rotation = 30);"
   ]
  },
  {
   "cell_type": "code",
   "execution_count": 178,
   "id": "517792e3",
   "metadata": {},
   "outputs": [
    {
     "data": {
      "text/plain": [
       "Age_bracket\n",
       "80-84      124\n",
       "85-89       67\n",
       "90-94       18\n",
       "95-99       13\n",
       "100-104     11\n",
       "105-109      4\n",
       "105+         1\n",
       "Name: count, dtype: int64"
      ]
     },
     "execution_count": 178,
     "metadata": {},
     "output_type": "execute_result"
    }
   ],
   "source": [
    "# Filtering ages 81 and above \n",
    "\n",
    "df_copy[df_copy['Age'].between(81,110)]['Age_bracket'].value_counts()[0:7]"
   ]
  },
  {
   "cell_type": "code",
   "execution_count": 179,
   "id": "d2f579da",
   "metadata": {},
   "outputs": [
    {
     "name": "stdout",
     "output_type": "stream",
     "text": [
      "The crude death rate between ages 66 and above is 2.53 deaths yearly for every 1000 people in the total population\n"
     ]
    }
   ],
   "source": [
    "# Estimating death Rate using the difference in above age brackets\n",
    "\n",
    "# Differences in Age brackets counts from 81 and above\n",
    "\n",
    "Death_count = ((124-67)+(67-18)+(18-13)+(13-11)+(11-4)+(4-1))\n",
    "\n",
    "Yearly_death = Death_count/5\n",
    "\n",
    "#Estimating crude Death Rate per 1000\n",
    "\n",
    "Crude_Death_Rate = (Yearly_death/Total_population) * 1000\n",
    "\n",
    "print(f'The crude death rate between ages 66 and above is {Crude_Death_Rate:.2f} deaths yearly for every 1000 people in the total population')"
   ]
  },
  {
   "cell_type": "markdown",
   "id": "10fce111",
   "metadata": {},
   "source": [
    "### Estimation of growth rate of school aged children"
   ]
  },
  {
   "cell_type": "code",
   "execution_count": 180,
   "id": "85a9f288",
   "metadata": {},
   "outputs": [
    {
     "name": "stdout",
     "output_type": "stream",
     "text": [
      "The total number of future school aged children based on a 10 years projection is 1469\n",
      "15.11% will make up the total number of future school aged children\n"
     ]
    }
   ],
   "source": [
    "# Calculating 10 years growth using individuals aged 0 to 7 since the max age of a school aged children is 17, we obtain;\n",
    "\n",
    "Young_students = len(df_copy[(df_copy['Age'] >= 0) & (df_copy['Age'] <= 7)])\n",
    "\n",
    "# Future births using crude birth rate to estimate 10 years, i.e aged 5-9 meaning 5 years\n",
    "\n",
    "YS_births = (9.568 * Crude_Birth_Rate) * 5\n",
    "\n",
    "#Future students become;\n",
    "\n",
    "Future_students = Young_students + YS_births\n",
    "\n",
    "print(f'The total number of future school aged children based on a 10 years projection is {round(Future_students)}')\n",
    "\n",
    "Percentage_students = ((Future_students/len(df_copy))*100)\n",
    "\n",
    "print(f'{Percentage_students:.2f}% will make up the total number of future school aged children')"
   ]
  },
  {
   "cell_type": "code",
   "execution_count": 181,
   "id": "cd16a6a0",
   "metadata": {},
   "outputs": [
    {
     "name": "stdout",
     "output_type": "stream",
     "text": [
      "The estimated number of future elderly people is 784\n",
      "8.07% make up the estimated percentage of elderly people\n"
     ]
    }
   ],
   "source": [
    "# Assuming old age starts from 66;\n",
    "\n",
    "Elderly_class = len(df_copy[(df_copy['Age'] >= 66) & (df_copy['Age'] <= 110)])\n",
    "\n",
    "# Future deaths using crude death rate to estimate 10 years\n",
    "\n",
    "Elderly_deaths = ((len(df_copy)/1000) * Crude_Death_Rate) * 10\n",
    "\n",
    "Future_elderly = Elderly_class - Elderly_deaths\n",
    "\n",
    "print(f'The estimated number of future elderly people is {round(Future_elderly)}')\n",
    "\n",
    "Percentage_elderly = ((Future_elderly/len(df_copy))*100)\n",
    "\n",
    "print(f'{Percentage_elderly:.2f}% make up the estimated percentage of elderly people')"
   ]
  },
  {
   "cell_type": "code",
   "execution_count": 182,
   "id": "ee56ed77-bf79-42a1-9a46-11c3b49bd18c",
   "metadata": {},
   "outputs": [
    {
     "name": "stdout",
     "output_type": "stream",
     "text": [
      "<class 'pandas.core.frame.DataFrame'>\n",
      "Index: 9720 entries, 0 to 9727\n",
      "Data columns (total 14 columns):\n",
      " #   Column                         Non-Null Count  Dtype   \n",
      "---  ------                         --------------  -----   \n",
      " 0   House Number                   9720 non-null   int64   \n",
      " 1   Street                         9720 non-null   object  \n",
      " 2   First Name                     9720 non-null   object  \n",
      " 3   Surname                        9720 non-null   object  \n",
      " 4   Age                            9720 non-null   int64   \n",
      " 5   Relationship to Head of House  9720 non-null   object  \n",
      " 6   Marital Status                 9720 non-null   object  \n",
      " 7   Gender                         9720 non-null   object  \n",
      " 8   Occupation                     9720 non-null   object  \n",
      " 9   Infirmity                      9720 non-null   object  \n",
      " 10  Religion                       9720 non-null   object  \n",
      " 11  Age_bracket                    9720 non-null   category\n",
      " 12  Occupation_Group               9720 non-null   object  \n",
      " 13  Residence                      9720 non-null   int64   \n",
      "dtypes: category(1), int64(3), object(10)\n",
      "memory usage: 1.3+ MB\n"
     ]
    }
   ],
   "source": [
    "df_copy.info()"
   ]
  },
  {
   "cell_type": "code",
   "execution_count": null,
   "id": "c2441982-0bde-4d95-a5c3-6b3c67307f7a",
   "metadata": {},
   "outputs": [],
   "source": []
  }
 ],
 "metadata": {
  "kernelspec": {
   "display_name": "Python 3 (ipykernel)",
   "language": "python",
   "name": "python3"
  },
  "language_info": {
   "codemirror_mode": {
    "name": "ipython",
    "version": 3
   },
   "file_extension": ".py",
   "mimetype": "text/x-python",
   "name": "python",
   "nbconvert_exporter": "python",
   "pygments_lexer": "ipython3",
   "version": "3.12.0"
  }
 },
 "nbformat": 4,
 "nbformat_minor": 5
}
